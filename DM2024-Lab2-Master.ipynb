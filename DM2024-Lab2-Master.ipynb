{
 "cells": [
  {
   "cell_type": "markdown",
   "metadata": {
    "id": "uuutyCx4YTpX"
   },
   "source": [
    "# Data Mining Lab 2\n",
    "In this lab session we will focus on the use of Neural Word Embeddings and exploring some basic open source LLMs' applications to data."
   ]
  },
  {
   "cell_type": "markdown",
   "metadata": {
    "id": "ledffNYYYTpX"
   },
   "source": [
    "## Table of Contents\n",
    "1. Data preparation\n",
    "2. Feature engineering\n",
    "3. Model\n",
    "4. Results evaluation\n",
    "5. Other things you could try\n",
    "6. Deep Learning\n",
    "7. Word to Vector\n",
    "8. Clustering\n",
    "9. High-dimension Visualization\n",
    "10. Large Language Models (LLMs)\n"
   ]
  },
  {
   "cell_type": "markdown",
   "metadata": {
    "id": "r1vtNxA1TBat"
   },
   "source": [
    "### Necessary Library Requirements:\n",
    "\n",
    "#### Same as Lab1 except PAMI:\n",
    "- [Jupyter](http://jupyter.org/) (Strongly recommended but not required)\n",
    "    - Install via `pip3 install jupyter` and use `jupyter notebook` in terminal to run\n",
    "- [Scikit Learn](http://scikit-learn.org/stable/index.html)\n",
    "    - Install via `pip3 install scikit-learn` from a terminal\n",
    "- [Pandas](http://pandas.pydata.org/)\n",
    "    - Install via `pip3 install pandas` from a terminal\n",
    "- [Numpy](http://www.numpy.org/)\n",
    "    - Install via `pip3 install numpy` from a terminal\n",
    "- [Matplotlib](https://matplotlib.org/)\n",
    "    - Install via `pip3 install maplotlib` from a terminal\n",
    "- [Plotly](https://plot.ly/)\n",
    "    - Install via `pip3 install plotly` from a terminal\n",
    "- [Seaborn](https://seaborn.pydata.org/)\n",
    "    - Install via `pip3 install seaborn`\n",
    "- [NLTK](http://www.nltk.org/)\n",
    "    - Install via `pip3 install nltk` from a terminal\n",
    "- [UMAP](https://umap-learn.readthedocs.io/en/latest/)\n",
    "    - Install via `pip3 install umap-learn` from a terminal\n",
    "    \n",
    "\n",
    "#### New Libraries to install:\n",
    "- [Gensim](https://pypi.org/project/gensim/)\n",
    "    - Install via `pip3 install gensim`\n",
    "\n",
    "- [tensorflow](https://www.tensorflow.org/)\n",
    "    - Install via `pip3 install tensorflow`\n",
    "    - Also install `pip3 install tensorflow-hub`\n",
    "\n",
    "- [Keras](https://keras.io/)\n",
    "    - Install via `pip3 install keras`\n",
    "\n",
    "- [Ollama](https://ollama.com)\n",
    "    - Install via `pip3 install ollama`\n",
    "\n",
    "- [langchain](https://www.langchain.com)\n",
    "    - Install via `pip3 install langchain`\n",
    "    - Also install `pip3 install langchain_community`\n",
    "    - Also install `pip3 install langchain_core`\n",
    "    \n",
    "- [beautifulsoup4](https://pypi.org/project/beautifulsoup4/)\n",
    "    - Install via `pip3 install beautifulsoup4`\n",
    "    \n",
    "- [chromadb](https://www.trychroma.com)\n",
    "    - Install via `pip3 install chromadb`\n",
    "    \n",
    "- [gradio](https://www.gradio.app)\n",
    "    - Install via `pip3 install gradio`\n",
    "    \n",
    "#### Open-source LLMs to install:\n",
    "- ollama run llama3.2\n",
    "- ollama run llama3.2:1b  (optional if the first one is too big)\n",
    "- ollama run llava-phi3"
   ]
  },
  {
   "cell_type": "markdown",
   "metadata": {
    "id": "LIpAqCvMYTpX"
   },
   "source": [
    "---\n",
    "## Introduction"
   ]
  },
  {
   "cell_type": "markdown",
   "metadata": {
    "id": "n2paPeNbYTpX"
   },
   "source": [
    "**Dataset:** [SemEval 2017 Task](https://competitions.codalab.org/competitions/16380)\n",
    "\n",
    "**Task:** Classify text data into 4 different emotions using word embeddings and other deep information retrieval approaches.\n",
    "\n",
    "![Dataset Overview](./pics/pic0.png)"
   ]
  },
  {
   "cell_type": "markdown",
   "metadata": {
    "id": "op_X7pR-YTpX"
   },
   "source": [
    "---\n",
    "## 1. Data Preparation"
   ]
  },
  {
   "cell_type": "markdown",
   "metadata": {
    "id": "ID-8I1ELYTpX"
   },
   "source": [
    "Before beggining the lab, please make sure to download the [Google News Dataset](https://drive.google.com/file/d/0B7XkCwpI5KDYNlNUTTlSS21pQmM/edit) and place it in a folder named \"GoogleNews\" in the same directory as this file."
   ]
  },
  {
   "cell_type": "markdown",
   "metadata": {
    "id": "pgoEbZzSYTpX"
   },
   "source": [
    "## 1.1 Load data\n",
    "\n",
    "We start by loading the csv files into a single pandas dataframe for training and one for testing."
   ]
  },
  {
   "cell_type": "code",
   "execution_count": 1,
   "metadata": {
    "executionInfo": {
     "elapsed": 3022,
     "status": "ok",
     "timestamp": 1733234883698,
     "user": {
      "displayName": "哲銘",
      "userId": "01517148372053884002"
     },
     "user_tz": -480
    },
    "id": "anfjcPSSYTpX"
   },
   "outputs": [],
   "source": [
    "import pandas as pd\n",
    "\n",
    "dir='.'\n",
    "\n",
    "### training data\n",
    "anger_train = pd.read_csv(f\"{dir}/data/semeval/train/anger-ratings-0to1.train.txt\",\n",
    "                         sep=\"\\t\", header=None,names=[\"id\", \"text\", \"emotion\", \"intensity\"])\n",
    "sadness_train = pd.read_csv(f\"{dir}/data/semeval/train/sadness-ratings-0to1.train.txt\",\n",
    "                         sep=\"\\t\", header=None, names=[\"id\", \"text\", \"emotion\", \"intensity\"])\n",
    "fear_train = pd.read_csv(f\"{dir}/data/semeval/train/fear-ratings-0to1.train.txt\",\n",
    "                         sep=\"\\t\", header=None, names=[\"id\", \"text\", \"emotion\", \"intensity\"])\n",
    "joy_train = pd.read_csv(f\"{dir}/data/semeval/train/joy-ratings-0to1.train.txt\",\n",
    "                         sep=\"\\t\", header=None, names=[\"id\", \"text\", \"emotion\", \"intensity\"])"
   ]
  },
  {
   "cell_type": "code",
   "execution_count": 2,
   "metadata": {
    "executionInfo": {
     "elapsed": 1,
     "status": "ok",
     "timestamp": 1733234884750,
     "user": {
      "displayName": "哲銘",
      "userId": "01517148372053884002"
     },
     "user_tz": -480
    },
    "id": "yVc2T5MIYTpX"
   },
   "outputs": [],
   "source": [
    "# combine 4 sub-dataset\n",
    "train_df = pd.concat([anger_train, fear_train, joy_train, sadness_train], ignore_index=True)"
   ]
  },
  {
   "cell_type": "code",
   "execution_count": 3,
   "metadata": {
    "colab": {
     "base_uri": "https://localhost:8080/",
     "height": 204
    },
    "executionInfo": {
     "elapsed": 502,
     "status": "ok",
     "timestamp": 1733234885751,
     "user": {
      "displayName": "哲銘",
      "userId": "01517148372053884002"
     },
     "user_tz": -480
    },
    "id": "Kw8bGMv7YTpX",
    "outputId": "5c15a735-99ce-4167-f217-1cf9af59552c"
   },
   "outputs": [
    {
     "data": {
      "text/html": [
       "<div>\n",
       "<style scoped>\n",
       "    .dataframe tbody tr th:only-of-type {\n",
       "        vertical-align: middle;\n",
       "    }\n",
       "\n",
       "    .dataframe tbody tr th {\n",
       "        vertical-align: top;\n",
       "    }\n",
       "\n",
       "    .dataframe thead th {\n",
       "        text-align: right;\n",
       "    }\n",
       "</style>\n",
       "<table border=\"1\" class=\"dataframe\">\n",
       "  <thead>\n",
       "    <tr style=\"text-align: right;\">\n",
       "      <th></th>\n",
       "      <th>id</th>\n",
       "      <th>text</th>\n",
       "      <th>emotion</th>\n",
       "      <th>intensity</th>\n",
       "    </tr>\n",
       "  </thead>\n",
       "  <tbody>\n",
       "    <tr>\n",
       "      <th>0</th>\n",
       "      <td>10000</td>\n",
       "      <td>How the fu*k! Who the heck! moved my fridge!.....</td>\n",
       "      <td>anger</td>\n",
       "      <td>0.938</td>\n",
       "    </tr>\n",
       "    <tr>\n",
       "      <th>1</th>\n",
       "      <td>10001</td>\n",
       "      <td>So my Indian Uber driver just called someone t...</td>\n",
       "      <td>anger</td>\n",
       "      <td>0.896</td>\n",
       "    </tr>\n",
       "    <tr>\n",
       "      <th>2</th>\n",
       "      <td>10002</td>\n",
       "      <td>@DPD_UK I asked for my parcel to be delivered ...</td>\n",
       "      <td>anger</td>\n",
       "      <td>0.896</td>\n",
       "    </tr>\n",
       "    <tr>\n",
       "      <th>3</th>\n",
       "      <td>10003</td>\n",
       "      <td>so ef whichever butt wipe pulled the fire alar...</td>\n",
       "      <td>anger</td>\n",
       "      <td>0.896</td>\n",
       "    </tr>\n",
       "    <tr>\n",
       "      <th>4</th>\n",
       "      <td>10004</td>\n",
       "      <td>Don't join @BTCare they put the phone down on ...</td>\n",
       "      <td>anger</td>\n",
       "      <td>0.896</td>\n",
       "    </tr>\n",
       "  </tbody>\n",
       "</table>\n",
       "</div>"
      ],
      "text/plain": [
       "      id                                               text emotion  intensity\n",
       "0  10000  How the fu*k! Who the heck! moved my fridge!.....   anger      0.938\n",
       "1  10001  So my Indian Uber driver just called someone t...   anger      0.896\n",
       "2  10002  @DPD_UK I asked for my parcel to be delivered ...   anger      0.896\n",
       "3  10003  so ef whichever butt wipe pulled the fire alar...   anger      0.896\n",
       "4  10004  Don't join @BTCare they put the phone down on ...   anger      0.896"
      ]
     },
     "execution_count": 3,
     "metadata": {},
     "output_type": "execute_result"
    }
   ],
   "source": [
    "### testing data\n",
    "anger_test = pd.read_csv(f\"{dir}/data/semeval/dev/anger-ratings-0to1.dev.gold.txt\",\n",
    "                         sep=\"\\t\", header=None, names=[\"id\", \"text\", \"emotion\", \"intensity\"])\n",
    "sadness_test = pd.read_csv(f\"{dir}/data/semeval/dev/sadness-ratings-0to1.dev.gold.txt\",\n",
    "                         sep=\"\\t\", header=None, names=[\"id\", \"text\", \"emotion\", \"intensity\"])\n",
    "fear_test = pd.read_csv(f\"{dir}/data/semeval/dev/fear-ratings-0to1.dev.gold.txt\",\n",
    "                         sep=\"\\t\", header=None, names=[\"id\", \"text\", \"emotion\", \"intensity\"])\n",
    "joy_test = pd.read_csv(f\"{dir}/data/semeval/dev/joy-ratings-0to1.dev.gold.txt\",\n",
    "                         sep=\"\\t\", header=None, names=[\"id\", \"text\", \"emotion\", \"intensity\"])\n",
    "\n",
    "# combine 4 sub-dataset\n",
    "test_df = pd.concat([anger_test, fear_test, joy_test, sadness_test], ignore_index=True)\n",
    "train_df.head()"
   ]
  },
  {
   "cell_type": "code",
   "execution_count": 4,
   "metadata": {
    "executionInfo": {
     "elapsed": 1,
     "status": "ok",
     "timestamp": 1733234886843,
     "user": {
      "displayName": "哲銘",
      "userId": "01517148372053884002"
     },
     "user_tz": -480
    },
    "id": "HBHwcL8sYTpX"
   },
   "outputs": [],
   "source": [
    "# shuffle dataset\n",
    "train_df = train_df.sample(frac=1)\n",
    "test_df = test_df.sample(frac=1)"
   ]
  },
  {
   "cell_type": "code",
   "execution_count": 5,
   "metadata": {
    "colab": {
     "base_uri": "https://localhost:8080/"
    },
    "executionInfo": {
     "elapsed": 3,
     "status": "ok",
     "timestamp": 1733234888193,
     "user": {
      "displayName": "哲銘",
      "userId": "01517148372053884002"
     },
     "user_tz": -480
    },
    "id": "9w_cDUwCYTpX",
    "outputId": "9d1202da-1931-434a-f320-85071d0f43cd",
    "scrolled": true
   },
   "outputs": [
    {
     "name": "stdout",
     "output_type": "stream",
     "text": [
      "Shape of Training df:  (3613, 4)\n",
      "Shape of Testing df:  (347, 4)\n"
     ]
    }
   ],
   "source": [
    "print(\"Shape of Training df: \", train_df.shape)\n",
    "print(\"Shape of Testing df: \", test_df.shape)"
   ]
  },
  {
   "cell_type": "markdown",
   "metadata": {
    "id": "escCgU1zYTpX"
   },
   "source": [
    "---\n",
    "### ** >>> Exercise 1 (Take home): **  \n",
    "Plot word frequency for Top 30 words in both train and test dataset. (Hint: refer to DM lab 1)\n"
   ]
  },
  {
   "cell_type": "code",
   "execution_count": 6,
   "metadata": {
    "colab": {
     "base_uri": "https://localhost:8080/",
     "height": 1000
    },
    "executionInfo": {
     "elapsed": 8881,
     "status": "ok",
     "timestamp": 1733234898956,
     "user": {
      "displayName": "哲銘",
      "userId": "01517148372053884002"
     },
     "user_tz": -480
    },
    "id": "HoXjet3pYTpo",
    "outputId": "eaa5688b-0fca-45c3-8fe5-518e1aed33dc"
   },
   "outputs": [
    {
     "data": {
      "image/png": "[encoded data removed]",
      "text/plain": [
       "<Figure size 1200x600 with 1 Axes>"
      ]
     },
     "metadata": {},
     "output_type": "display_data"
    },
    {
     "data": {
      "image/png": "[encoded data removed]",
      "text/plain": [
       "<Figure size 1200x600 with 1 Axes>"
      ]
     },
     "metadata": {},
     "output_type": "display_data"
    }
   ],
   "source": [
    "# Answer here\n",
    "import re\n",
    "from matplotlib import pyplot as plt\n",
    "def preprocess_text(text):\n",
    "    text = text.lower()  #\n",
    "    text = re.sub(r\"[^\\w\\s]\", \"\", text)\n",
    "    words = text.split()\n",
    "    return words\n",
    "\n",
    "all_words_train = []\n",
    "for text in train_df['text']:\n",
    "    all_words_train.extend(preprocess_text(text))\n",
    "\n",
    "all_words_test = []\n",
    "for text in test_df['text']:\n",
    "    all_words_test.extend(preprocess_text(text))\n",
    "\n",
    "combined_df=pd.DataFrame()\n",
    "all_words_train_count=pd.Series(all_words_train).value_counts().head(30)\n",
    "all_words_test_count=pd.Series(all_words_test).value_counts().head(30)\n",
    "combined_df = pd.DataFrame({\n",
    "    \"train_word\": all_words_train_count.index,\n",
    "    \"train_count\": all_words_train_count.values,\n",
    "    \"test_word\": all_words_test_count.index,\n",
    "    \"test_count\": all_words_test_count.values,\n",
    "})\n",
    "\n",
    "plt.figure(figsize=(12, 6))\n",
    "plt.bar(combined_df['train_word'], combined_df['train_count'], alpha=0.7, color='blue')\n",
    "plt.xlabel('Train Words')\n",
    "plt.ylabel('Frequency')\n",
    "plt.title('Top 30 Word Frequencies in Train Dataset')\n",
    "plt.xticks(rotation=45)\n",
    "plt.tight_layout()\n",
    "plt.show()\n",
    "\n",
    "# Test dataset word frequency plot\n",
    "plt.figure(figsize=(12, 6))\n",
    "plt.bar(combined_df['test_word'], combined_df['test_count'], alpha=0.7, color='orange')\n",
    "plt.xlabel('Test Words')\n",
    "plt.ylabel('Frequency')\n",
    "plt.title('Top 30 Word Frequencies in Test Dataset')\n",
    "plt.xticks(rotation=45)\n",
    "plt.tight_layout()\n",
    "plt.show()"
   ]
  },
  {
   "cell_type": "markdown",
   "metadata": {
    "id": "_hr8aKhlYTpo"
   },
   "source": [
    "---\n",
    "### 1.2 Save data"
   ]
  },
  {
   "cell_type": "markdown",
   "metadata": {
    "id": "Zm6GF2VvYTpo"
   },
   "source": [
    "We will save our data in Pickle format. The pickle module implements binary protocols for serializing and de-serializing a Python object structure.   \n",
    "  \n",
    "Some advantages for using pickle structure:  \n",
    "* Because it stores the attribute type, it's more convenient for cross-platform use.  \n",
    "* When your data is huge, it could use less space to store also consume less loading time.   "
   ]
  },
  {
   "cell_type": "code",
   "execution_count": 7,
   "metadata": {
    "executionInfo": {
     "elapsed": 3,
     "status": "ok",
     "timestamp": 1733234898956,
     "user": {
      "displayName": "哲銘",
      "userId": "01517148372053884002"
     },
     "user_tz": -480
    },
    "id": "dZzepBdpYTpo"
   },
   "outputs": [],
   "source": [
    "## save to pickle file\n",
    "train_df.to_pickle(\"train_df.pkl\")\n",
    "test_df.to_pickle(\"test_df.pkl\")"
   ]
  },
  {
   "cell_type": "code",
   "execution_count": 8,
   "metadata": {
    "executionInfo": {
     "elapsed": 2,
     "status": "ok",
     "timestamp": 1733234898956,
     "user": {
      "displayName": "哲銘",
      "userId": "01517148372053884002"
     },
     "user_tz": -480
    },
    "id": "H5uO-kOUYTpo"
   },
   "outputs": [],
   "source": [
    "import pandas as pd\n",
    "\n",
    "## load a pickle file\n",
    "train_df = pd.read_pickle(\"train_df.pkl\")\n",
    "test_df = pd.read_pickle(\"test_df.pkl\")"
   ]
  },
  {
   "cell_type": "markdown",
   "metadata": {
    "id": "_sLDcQzeYTpo"
   },
   "source": [
    "For more information: https://reurl.cc/0Dzqx"
   ]
  },
  {
   "cell_type": "markdown",
   "metadata": {
    "id": "dKHpxTzLYTpo"
   },
   "source": [
    "---\n",
    "### 1.3 Exploratory data analysis (EDA)\n",
    "\n",
    "Again, before getting our hands dirty, we need to explore a little bit and understand the data we're dealing with."
   ]
  },
  {
   "cell_type": "code",
   "execution_count": 9,
   "metadata": {
    "colab": {
     "base_uri": "https://localhost:8080/",
     "height": 238
    },
    "executionInfo": {
     "elapsed": 298,
     "status": "ok",
     "timestamp": 1733234901827,
     "user": {
      "displayName": "哲銘",
      "userId": "01517148372053884002"
     },
     "user_tz": -480
    },
    "id": "mLnEEliCYTpo",
    "outputId": "5d5be554-3448-468a-f064-3693c0370867"
   },
   "outputs": [
    {
     "data": {
      "text/plain": [
       "emotion\n",
       "anger       857\n",
       "fear       1147\n",
       "joy         823\n",
       "sadness     786\n",
       "Name: text, dtype: int64"
      ]
     },
     "execution_count": 9,
     "metadata": {},
     "output_type": "execute_result"
    }
   ],
   "source": [
    "# group to find distribution\n",
    "train_df.groupby(['emotion']).count()['text']"
   ]
  },
  {
   "cell_type": "code",
   "execution_count": 10,
   "metadata": {
    "colab": {
     "base_uri": "https://localhost:8080/",
     "height": 333
    },
    "executionInfo": {
     "elapsed": 2093,
     "status": "ok",
     "timestamp": 1733234905001,
     "user": {
      "displayName": "哲銘",
      "userId": "01517148372053884002"
     },
     "user_tz": -480
    },
    "id": "pcVOe8nYYTpo",
    "outputId": "15c35a1e-5a9b-471f-c6e9-54575306109e"
   },
   "outputs": [
    {
     "data": {
      "image/png": "[encoded data removed]",
      "text/plain": [
       "<Figure size 500x300 with 1 Axes>"
      ]
     },
     "metadata": {},
     "output_type": "display_data"
    }
   ],
   "source": [
    "%matplotlib inline\n",
    "import numpy as np\n",
    "import matplotlib.pyplot as plt\n",
    "\n",
    "# the histogram of the data\n",
    "labels = train_df['emotion'].unique()\n",
    "post_total = len(train_df)\n",
    "df1 = train_df.groupby(['emotion']).count()['text']\n",
    "df1 = df1.apply(lambda x: round(x*100/post_total,3))\n",
    "\n",
    "#plot\n",
    "fig, ax = plt.subplots(figsize=(5,3))\n",
    "plt.bar(df1.index,df1.values)\n",
    "\n",
    "#arrange\n",
    "plt.ylabel('% of instances')\n",
    "plt.xlabel('Emotion')\n",
    "plt.title('Emotion distribution')\n",
    "plt.grid(True)\n",
    "plt.show()"
   ]
  },
  {
   "cell_type": "markdown",
   "metadata": {
    "id": "B_jGcireYTpo"
   },
   "source": [
    "---"
   ]
  },
  {
   "cell_type": "markdown",
   "metadata": {
    "id": "hgHvhTJuYTpo"
   },
   "source": [
    "## 2. Feature engineering\n",
    "### Using Bag of Words\n",
    "Using scikit-learn ```CountVectorizer``` perform word frequency and use these as features to train a model.  \n",
    "http://scikit-learn.org/stable/modules/generated/sklearn.feature_extraction.text.CountVectorizer.html"
   ]
  },
  {
   "cell_type": "code",
   "execution_count": 11,
   "metadata": {
    "executionInfo": {
     "elapsed": 5747,
     "status": "ok",
     "timestamp": 1733234912746,
     "user": {
      "displayName": "哲銘",
      "userId": "01517148372053884002"
     },
     "user_tz": -480
    },
    "id": "rbl89LPUYTpo"
   },
   "outputs": [],
   "source": [
    "from sklearn.feature_extraction.text import CountVectorizer"
   ]
  },
  {
   "cell_type": "code",
   "execution_count": 12,
   "metadata": {
    "colab": {
     "base_uri": "https://localhost:8080/"
    },
    "executionInfo": {
     "elapsed": 1259,
     "status": "ok",
     "timestamp": 1733234914004,
     "user": {
      "displayName": "哲銘",
      "userId": "01517148372053884002"
     },
     "user_tz": -480
    },
    "id": "5cpCUVN8YTpo",
    "outputId": "34f73176-d97f-48fa-f067-32502b89d4ff"
   },
   "outputs": [
    {
     "data": {
      "text/plain": [
       "<3613x10115 sparse matrix of type '<class 'numpy.int64'>'\n",
       "\twith 51467 stored elements in Compressed Sparse Row format>"
      ]
     },
     "execution_count": 12,
     "metadata": {},
     "output_type": "execute_result"
    }
   ],
   "source": [
    "from sklearn.feature_extraction.text import CountVectorizer\n",
    "# build analyzers (bag-of-words)\n",
    "BOW_vectorizer = CountVectorizer()\n",
    "# 1. Learn a vocabulary dictionary of all tokens in the raw documents.\n",
    "BOW_vectorizer.fit(train_df['text'])\n",
    "\n",
    "# 2. Transform documents to document-term matrix.\n",
    "train_data_BOW_features = BOW_vectorizer.transform(train_df['text'])\n",
    "test_data_BOW_features = BOW_vectorizer.transform(test_df['text'])\n",
    "# check the result\n",
    "train_data_BOW_features"
   ]
  },
  {
   "cell_type": "code",
   "execution_count": 13,
   "metadata": {
    "colab": {
     "base_uri": "https://localhost:8080/",
     "height": 186
    },
    "executionInfo": {
     "elapsed": 4,
     "status": "ok",
     "timestamp": 1733234914004,
     "user": {
      "displayName": "哲銘",
      "userId": "01517148372053884002"
     },
     "user_tz": -480
    },
    "id": "irGLsag-YTpo",
    "outputId": "ae040c76-7b41-4660-92f1-e4650d57c83b"
   },
   "outputs": [
    {
     "data": {
      "text/plain": [
       "scipy.sparse._csr.csr_matrix"
      ]
     },
     "execution_count": 13,
     "metadata": {},
     "output_type": "execute_result"
    }
   ],
   "source": [
    "type(train_data_BOW_features)"
   ]
  },
  {
   "cell_type": "code",
   "execution_count": 14,
   "metadata": {
    "colab": {
     "base_uri": "https://localhost:8080/"
    },
    "executionInfo": {
     "elapsed": 1338,
     "status": "ok",
     "timestamp": 1733234915339,
     "user": {
      "displayName": "哲銘",
      "userId": "01517148372053884002"
     },
     "user_tz": -480
    },
    "id": "WqbR8KWNYTpo",
    "outputId": "9f6065bd-4bab-4be9-c115-510878d64017",
    "scrolled": true
   },
   "outputs": [
    {
     "data": {
      "text/plain": [
       "array([[0, 0, 0, ..., 0, 0, 0],\n",
       "       [0, 0, 0, ..., 0, 0, 0],\n",
       "       [0, 0, 0, ..., 0, 0, 0],\n",
       "       ...,\n",
       "       [0, 0, 0, ..., 0, 0, 0],\n",
       "       [0, 0, 0, ..., 0, 0, 0],\n",
       "       [0, 0, 0, ..., 0, 0, 0]], dtype=int64)"
      ]
     },
     "execution_count": 14,
     "metadata": {},
     "output_type": "execute_result"
    }
   ],
   "source": [
    "# add .toarray() to show\n",
    "train_data_BOW_features.toarray()"
   ]
  },
  {
   "cell_type": "code",
   "execution_count": 15,
   "metadata": {
    "colab": {
     "base_uri": "https://localhost:8080/"
    },
    "executionInfo": {
     "elapsed": 357,
     "status": "ok",
     "timestamp": 1733234918327,
     "user": {
      "displayName": "哲銘",
      "userId": "01517148372053884002"
     },
     "user_tz": -480
    },
    "id": "mL0xkGyGYTpo",
    "outputId": "dd7d1d61-43f1-49a2-843a-2593ce16dd76",
    "scrolled": false
   },
   "outputs": [
    {
     "data": {
      "text/plain": [
       "(3613, 10115)"
      ]
     },
     "execution_count": 15,
     "metadata": {},
     "output_type": "execute_result"
    }
   ],
   "source": [
    "# check the dimension\n",
    "train_data_BOW_features.shape"
   ]
  },
  {
   "cell_type": "code",
   "execution_count": 16,
   "metadata": {
    "colab": {
     "base_uri": "https://localhost:8080/"
    },
    "executionInfo": {
     "elapsed": 465,
     "status": "ok",
     "timestamp": 1733234919265,
     "user": {
      "displayName": "哲銘",
      "userId": "01517148372053884002"
     },
     "user_tz": -480
    },
    "id": "iyRaxyBZYTpo",
    "outputId": "7500762f-3f4c-4c94-dd54-37bdaf3761e1"
   },
   "outputs": [
    {
     "data": {
      "text/plain": [
       "array(['2k17', '2much', '2nd', '30', '300', '301', '30am', '30pm', '30s',\n",
       "       '31'], dtype=object)"
      ]
     },
     "execution_count": 16,
     "metadata": {},
     "output_type": "execute_result"
    }
   ],
   "source": [
    "# observe some feature names\n",
    "feature_names = BOW_vectorizer.get_feature_names_out()\n",
    "feature_names[100:110]"
   ]
  },
  {
   "cell_type": "markdown",
   "metadata": {
    "id": "zm00p_sxYTpo"
   },
   "source": []
  },
  {
   "cell_type": "markdown",
   "metadata": {
    "id": "roSfgQKaYTpo"
   },
   "source": [
    "The embedding is done. We can technically feed this into our model. However, depending on the embedding technique you use and your model, your accuracy might not be as high, because:\n",
    "\n",
    "* curse of dimensionality  (we have 10,115 dimension now)\n",
    "* some important features are ignored (for example, some models using emoticons yeld better performance than counterparts)"
   ]
  },
  {
   "cell_type": "code",
   "execution_count": 17,
   "metadata": {
    "colab": {
     "base_uri": "https://localhost:8080/"
    },
    "executionInfo": {
     "elapsed": 307,
     "status": "ok",
     "timestamp": 1733234921353,
     "user": {
      "displayName": "哲銘",
      "userId": "01517148372053884002"
     },
     "user_tz": -480
    },
    "id": "kx4YPbrdYTpo",
    "outputId": "bd23bfa8-f625-451b-e71c-a86b1116bacb"
   },
   "outputs": [
    {
     "data": {
      "text/plain": [
       "False"
      ]
     },
     "execution_count": 17,
     "metadata": {},
     "output_type": "execute_result"
    }
   ],
   "source": [
    "\"😂\" in feature_names"
   ]
  },
  {
   "cell_type": "code",
   "execution_count": 18,
   "metadata": {},
   "outputs": [],
   "source": [
    "import os"
   ]
  },
  {
   "cell_type": "code",
   "execution_count": 19,
   "metadata": {},
   "outputs": [
    {
     "data": {
      "text/plain": [
       "'d:\\\\school\\\\DM2024-Lab2-Master'"
      ]
     },
     "execution_count": 19,
     "metadata": {},
     "output_type": "execute_result"
    }
   ],
   "source": [
    "os.getcwd()"
   ]
  },
  {
   "cell_type": "markdown",
   "metadata": {
    "id": "0MFzyA95YTpo"
   },
   "source": [
    "Let's try using another tokenizer below."
   ]
  },
  {
   "cell_type": "code",
   "execution_count": 20,
   "metadata": {
    "colab": {
     "base_uri": "https://localhost:8080/"
    },
    "executionInfo": {
     "elapsed": 7949,
     "status": "ok",
     "timestamp": 1733234930548,
     "user": {
      "displayName": "哲銘",
      "userId": "01517148372053884002"
     },
     "user_tz": -480
    },
    "id": "SttodxACYTpo",
    "outputId": "99911c4b-3b53-4cdd-e7a8-4478b2969f14"
   },
   "outputs": [
    {
     "name": "stderr",
     "output_type": "stream",
     "text": [
      "[nltk_data] Downloading package punkt to\n",
      "[nltk_data]     d:\\school\\DM2024-Lab2-Master...\n",
      "[nltk_data]   Package punkt is already up-to-date!\n",
      "c:\\Users\\123321\\anaconda3\\lib\\site-packages\\sklearn\\feature_extraction\\text.py:528: UserWarning: The parameter 'token_pattern' will not be used since 'tokenizer' is not None'\n",
      "  warnings.warn(\n"
     ]
    },
    {
     "data": {
      "text/plain": [
       "(3613, 500)"
      ]
     },
     "execution_count": 20,
     "metadata": {},
     "output_type": "execute_result"
    }
   ],
   "source": [
    "import nltk\n",
    "nltk.data.path.append(os.getcwd())\n",
    "nltk.download('punkt', download_dir=os.getcwd())\n",
    "# build analyzers (bag-of-words)\n",
    "BOW_500 = CountVectorizer(max_features=500, tokenizer=nltk.word_tokenize)\n",
    "\n",
    "# apply analyzer to training data\n",
    "BOW_500.fit(train_df['text'])\n",
    "\n",
    "train_data_BOW_features_500 = BOW_500.transform(train_df['text'])\n",
    "\n",
    "## check dimension\n",
    "train_data_BOW_features_500.shape"
   ]
  },
  {
   "cell_type": "code",
   "execution_count": 21,
   "metadata": {
    "colab": {
     "base_uri": "https://localhost:8080/"
    },
    "executionInfo": {
     "elapsed": 6,
     "status": "ok",
     "timestamp": 1733234930548,
     "user": {
      "displayName": "哲銘",
      "userId": "01517148372053884002"
     },
     "user_tz": -480
    },
    "id": "sPi42W0pYTpo",
    "outputId": "7c54a9b8-d5cd-491f-b430-d8cd4fc52189"
   },
   "outputs": [
    {
     "data": {
      "text/plain": [
       "array([[0, 0, 0, ..., 0, 0, 0],\n",
       "       [0, 0, 0, ..., 0, 0, 0],\n",
       "       [6, 2, 0, ..., 0, 0, 0],\n",
       "       ...,\n",
       "       [0, 2, 0, ..., 0, 0, 0],\n",
       "       [0, 0, 0, ..., 0, 0, 0],\n",
       "       [0, 0, 0, ..., 0, 0, 0]], dtype=int64)"
      ]
     },
     "execution_count": 21,
     "metadata": {},
     "output_type": "execute_result"
    }
   ],
   "source": [
    "train_data_BOW_features_500.toarray()"
   ]
  },
  {
   "cell_type": "code",
   "execution_count": 22,
   "metadata": {
    "colab": {
     "base_uri": "https://localhost:8080/"
    },
    "executionInfo": {
     "elapsed": 281,
     "status": "ok",
     "timestamp": 1733234934465,
     "user": {
      "displayName": "哲銘",
      "userId": "01517148372053884002"
     },
     "user_tz": -480
    },
    "id": "JCgAnTOfYTpo",
    "outputId": "f29ca913-e844-42bd-c274-4153f1ebc550"
   },
   "outputs": [
    {
     "data": {
      "text/plain": [
       "array(['change', 'cheer', 'cheerful', 'cheerfully', 'cheering', 'cheery',\n",
       "       'come', 'comes', 'could', 'country'], dtype=object)"
      ]
     },
     "execution_count": 22,
     "metadata": {},
     "output_type": "execute_result"
    }
   ],
   "source": [
    "# observe some feature names\n",
    "feature_names_500 = BOW_500.get_feature_names_out()\n",
    "feature_names_500[100:110]"
   ]
  },
  {
   "cell_type": "code",
   "execution_count": 23,
   "metadata": {
    "colab": {
     "base_uri": "https://localhost:8080/"
    },
    "executionInfo": {
     "elapsed": 3,
     "status": "ok",
     "timestamp": 1733234935773,
     "user": {
      "displayName": "哲銘",
      "userId": "01517148372053884002"
     },
     "user_tz": -480
    },
    "id": "ubgedNi4YTpo",
    "outputId": "188fe565-80f9-4001-cdc0-c9db7e64a482"
   },
   "outputs": [
    {
     "data": {
      "text/plain": [
       "True"
      ]
     },
     "execution_count": 23,
     "metadata": {},
     "output_type": "execute_result"
    }
   ],
   "source": [
    "\"😂\" in feature_names_500"
   ]
  },
  {
   "cell_type": "code",
   "execution_count": 24,
   "metadata": {
    "colab": {
     "base_uri": "https://localhost:8080/"
    },
    "executionInfo": {
     "elapsed": 4,
     "status": "ok",
     "timestamp": 1733234936898,
     "user": {
      "displayName": "哲銘",
      "userId": "01517148372053884002"
     },
     "user_tz": -480
    },
    "id": "NHSpjzZCbQKb",
    "outputId": "39c5dd7d-5c49-4893-fba6-d41551b7981b"
   },
   "outputs": [
    {
     "data": {
      "text/plain": [
       "array(['change', 'cheer', 'cheerful', 'cheerfully', 'cheering', 'cheery',\n",
       "       'come', 'comes', 'could', 'country'], dtype=object)"
      ]
     },
     "execution_count": 24,
     "metadata": {},
     "output_type": "execute_result"
    }
   ],
   "source": [
    "feature_names_500[100:110]"
   ]
  },
  {
   "cell_type": "markdown",
   "metadata": {
    "id": "fj6TV4ngYTpo"
   },
   "source": [
    "---\n",
    "### ** >>> Exercise 2 (Take home): **  \n",
    "Generate an embedding using the TF-IDF vectorizer instead of th BOW one with 1000 features and show the feature names for features [100:110]."
   ]
  },
  {
   "cell_type": "code",
   "execution_count": 25,
   "metadata": {
    "colab": {
     "base_uri": "https://localhost:8080/"
    },
    "executionInfo": {
     "elapsed": 5720,
     "status": "ok",
     "timestamp": 1733234944157,
     "user": {
      "displayName": "哲銘",
      "userId": "01517148372053884002"
     },
     "user_tz": -480
    },
    "id": "BOjVbgmxYTpo",
    "outputId": "90c76749-a72b-412c-9cf9-4416d01b7b5c"
   },
   "outputs": [
    {
     "data": {
      "text/plain": [
       "array(['awful', 'b', 'baby', 'back', 'bad', 'ball', 'balls', 'bb18', 'bc',\n",
       "       'bday'], dtype=object)"
      ]
     },
     "execution_count": 25,
     "metadata": {},
     "output_type": "execute_result"
    }
   ],
   "source": [
    "# Answer here\n",
    "from sklearn.feature_extraction.text import TfidfVectorizer\n",
    "from nltk.tokenize import word_tokenize\n",
    "# Build TF-IDF vectorizer with 1000 features\n",
    "TFIDF_vectorizer = TfidfVectorizer(max_features=1000, tokenizer=word_tokenize)\n",
    "\n",
    "# Fit and transform training data\n",
    "TFIDF_vectorizer.fit(train_df['text'])\n",
    "train_data_TFIDF_features = TFIDF_vectorizer.transform(train_df['text'])\n",
    "\n",
    "# Check feature names\n",
    "tfidf_feature_names = TFIDF_vectorizer.get_feature_names_out()\n",
    "tfidf_feature_names[100:110]\n",
    "\n"
   ]
  },
  {
   "cell_type": "markdown",
   "metadata": {
    "id": "e0BvbNAVYTpo"
   },
   "source": [
    "---\n",
    "## 3. Model\n",
    "### 3.1 Decision Trees\n",
    "Using scikit-learn ```DecisionTreeClassifier``` performs word frequency and uses these as features to train a model.  \n",
    "http://scikit-learn.org/stable/modules/generated/sklearn.tree.DecisionTreeClassifier.html#sklearn.tree.DecisionTreeClassifier"
   ]
  },
  {
   "cell_type": "code",
   "execution_count": 26,
   "metadata": {
    "colab": {
     "base_uri": "https://localhost:8080/"
    },
    "executionInfo": {
     "elapsed": 1688,
     "status": "ok",
     "timestamp": 1733234949234,
     "user": {
      "displayName": "哲銘",
      "userId": "01517148372053884002"
     },
     "user_tz": -480
    },
    "id": "SD0rMWKgYTpo",
    "outputId": "4170eb8d-089d-4af6-89b0-a33234af2d77"
   },
   "outputs": [
    {
     "name": "stdout",
     "output_type": "stream",
     "text": [
      "X_train.shape:  (3613, 500)\n",
      "y_train.shape:  (3613,)\n",
      "X_test.shape:  (347, 500)\n",
      "y_test.shape:  (347,)\n"
     ]
    }
   ],
   "source": [
    "from sklearn.tree import DecisionTreeClassifier\n",
    "\n",
    "# for a classificaiton problem, you need to provide both training & testing data\n",
    "X_train = BOW_500.transform(train_df['text'])\n",
    "y_train = train_df['emotion']\n",
    "\n",
    "X_test = BOW_500.transform(test_df['text'])\n",
    "y_test = test_df['emotion']\n",
    "\n",
    "## take a look at data dimension is a good habit  :)\n",
    "print('X_train.shape: ', X_train.shape)\n",
    "print('y_train.shape: ', y_train.shape)\n",
    "print('X_test.shape: ', X_test.shape)\n",
    "print('y_test.shape: ', y_test.shape)"
   ]
  },
  {
   "cell_type": "code",
   "execution_count": 27,
   "metadata": {
    "colab": {
     "base_uri": "https://localhost:8080/"
    },
    "executionInfo": {
     "elapsed": 5,
     "status": "ok",
     "timestamp": 1733234949235,
     "user": {
      "displayName": "哲銘",
      "userId": "01517148372053884002"
     },
     "user_tz": -480
    },
    "id": "iDuvLf7TYTpo",
    "outputId": "a8ec019c-ad60-414e-ac2d-4e8ebbe74c4c"
   },
   "outputs": [
    {
     "data": {
      "text/plain": [
       "array(['anger', 'sadness', 'fear', 'anger', 'sadness', 'joy', 'anger',\n",
       "       'fear', 'anger', 'sadness'], dtype=object)"
      ]
     },
     "execution_count": 27,
     "metadata": {},
     "output_type": "execute_result"
    }
   ],
   "source": [
    "## build DecisionTree model\n",
    "DT_model = DecisionTreeClassifier(random_state=1)\n",
    "\n",
    "## training!\n",
    "DT_model = DT_model.fit(X_train, y_train)\n",
    "\n",
    "## predict!\n",
    "y_train_pred = DT_model.predict(X_train)\n",
    "y_test_pred = DT_model.predict(X_test)\n",
    "\n",
    "## so we get the pred result\n",
    "y_test_pred[:10]"
   ]
  },
  {
   "cell_type": "markdown",
   "metadata": {
    "id": "zqZHlDjxYTpo"
   },
   "source": []
  },
  {
   "cell_type": "markdown",
   "metadata": {
    "id": "iBNmBT50YTpo"
   },
   "source": [
    "---\n",
    "## 4. Results Evaluation"
   ]
  },
  {
   "cell_type": "markdown",
   "metadata": {
    "id": "-gQU_PbhYTpo"
   },
   "source": [
    "Now we will check the results of our model's performance"
   ]
  },
  {
   "cell_type": "code",
   "execution_count": 28,
   "metadata": {
    "colab": {
     "base_uri": "https://localhost:8080/"
    },
    "executionInfo": {
     "elapsed": 281,
     "status": "ok",
     "timestamp": 1733234952102,
     "user": {
      "displayName": "哲銘",
      "userId": "01517148372053884002"
     },
     "user_tz": -480
    },
    "id": "A9yx3tv-YTpo",
    "outputId": "c60fe792-0d7e-40d5-c7af-54d2681ec115"
   },
   "outputs": [
    {
     "name": "stdout",
     "output_type": "stream",
     "text": [
      "training accuracy: 0.99\n",
      "testing accuracy: 0.68\n"
     ]
    }
   ],
   "source": [
    "## accuracy\n",
    "from sklearn.metrics import accuracy_score\n",
    "\n",
    "acc_train = accuracy_score(y_true=y_train, y_pred=y_train_pred)\n",
    "acc_test = accuracy_score(y_true=y_test, y_pred=y_test_pred)\n",
    "\n",
    "print('training accuracy: {}'.format(round(acc_train, 2)))\n",
    "print('testing accuracy: {}'.format(round(acc_test, 2)))\n"
   ]
  },
  {
   "cell_type": "code",
   "execution_count": 29,
   "metadata": {
    "colab": {
     "base_uri": "https://localhost:8080/"
    },
    "executionInfo": {
     "elapsed": 3,
     "status": "ok",
     "timestamp": 1733234953165,
     "user": {
      "displayName": "哲銘",
      "userId": "01517148372053884002"
     },
     "user_tz": -480
    },
    "id": "-wkOqjqiYTpo",
    "outputId": "5d6cc132-1e49-4cda-95da-505ae1ac65ed"
   },
   "outputs": [
    {
     "name": "stdout",
     "output_type": "stream",
     "text": [
      "              precision    recall  f1-score   support\n",
      "\n",
      "       anger       0.66      0.68      0.67        84\n",
      "        fear       0.66      0.69      0.67       110\n",
      "         joy       0.72      0.71      0.71        79\n",
      "     sadness       0.70      0.64      0.67        74\n",
      "\n",
      "    accuracy                           0.68       347\n",
      "   macro avg       0.68      0.68      0.68       347\n",
      "weighted avg       0.68      0.68      0.68       347\n",
      "\n"
     ]
    }
   ],
   "source": [
    "## precision, recall, f1-score,\n",
    "from sklearn.metrics import classification_report\n",
    "\n",
    "print(classification_report(y_true=y_test, y_pred=y_test_pred))"
   ]
  },
  {
   "cell_type": "code",
   "execution_count": 30,
   "metadata": {
    "colab": {
     "base_uri": "https://localhost:8080/"
    },
    "executionInfo": {
     "elapsed": 2,
     "status": "ok",
     "timestamp": 1733234954259,
     "user": {
      "displayName": "哲銘",
      "userId": "01517148372053884002"
     },
     "user_tz": -480
    },
    "id": "N6mhrmKHYTpo",
    "outputId": "f644ddd0-1e53-43f9-dbd7-7ef7faeeb0ee"
   },
   "outputs": [
    {
     "name": "stdout",
     "output_type": "stream",
     "text": [
      "[[57 18  6  3]\n",
      " [16 76  9  9]\n",
      " [ 6  9 56  8]\n",
      " [ 7 13  7 47]]\n"
     ]
    }
   ],
   "source": [
    "## check by confusion matrix\n",
    "from sklearn.metrics import confusion_matrix\n",
    "\n",
    "cm = confusion_matrix(y_true=y_test, y_pred=y_test_pred)\n",
    "print(cm)"
   ]
  },
  {
   "cell_type": "code",
   "execution_count": 31,
   "metadata": {
    "executionInfo": {
     "elapsed": 269,
     "status": "ok",
     "timestamp": 1733234955616,
     "user": {
      "displayName": "哲銘",
      "userId": "01517148372053884002"
     },
     "user_tz": -480
    },
    "id": "-TcX8NA5YTpo"
   },
   "outputs": [],
   "source": [
    "# Funciton for visualizing confusion_matrix\n",
    "import matplotlib.pyplot as plt\n",
    "import seaborn as sns\n",
    "import numpy as np\n",
    "import itertools\n",
    "\n",
    "def plot_confusion_matrix(cm, classes, title='Confusion matrix',\n",
    "                          cmap=sns.cubehelix_palette(as_cmap=True)):\n",
    "    \"\"\"\n",
    "    This function is modified from:\n",
    "    http://scikit-learn.org/stable/auto_examples/model_selection/plot_confusion_matrix.html\n",
    "    \"\"\"\n",
    "    classes.sort()\n",
    "    tick_marks = np.arange(len(classes))\n",
    "\n",
    "    fig, ax = plt.subplots(figsize=(5,5))\n",
    "    im = ax.imshow(cm, interpolation='nearest', cmap=cmap)\n",
    "    ax.figure.colorbar(im, ax=ax)\n",
    "    ax.set(xticks=np.arange(cm.shape[1]),\n",
    "           yticks=np.arange(cm.shape[0]),\n",
    "           xticklabels = classes,\n",
    "           yticklabels = classes,\n",
    "           title = title,\n",
    "           xlabel = 'Predicted label',\n",
    "           ylabel = 'True label')\n",
    "\n",
    "    fmt = 'd'\n",
    "    thresh = cm.max() / 2.\n",
    "    for i, j in itertools.product(range(cm.shape[0]), range(cm.shape[1])):\n",
    "        plt.text(j, i, format(cm[i, j], fmt), horizontalalignment=\"center\", color=\"white\" if cm[i, j] > thresh else \"black\")\n",
    "    ylim_top = len(classes) - 0.5\n",
    "    plt.ylim([ylim_top, -.5])\n",
    "    plt.tight_layout()\n",
    "    plt.show()"
   ]
  },
  {
   "cell_type": "code",
   "execution_count": 32,
   "metadata": {
    "colab": {
     "base_uri": "https://localhost:8080/",
     "height": 501
    },
    "executionInfo": {
     "elapsed": 386,
     "status": "ok",
     "timestamp": 1733234957091,
     "user": {
      "displayName": "哲銘",
      "userId": "01517148372053884002"
     },
     "user_tz": -480
    },
    "id": "1nBVOUpDYTpo",
    "outputId": "8d81e6fc-bbcc-4648-c770-9eb765c81c4c"
   },
   "outputs": [
    {
     "data": {
      "image/png": "[encoded data removed]",
      "text/plain": [
       "<Figure size 500x500 with 2 Axes>"
      ]
     },
     "metadata": {},
     "output_type": "display_data"
    }
   ],
   "source": [
    "# plot your confusion matrix\n",
    "my_tags = ['anger', 'fear', 'joy', 'sadness']\n",
    "plot_confusion_matrix(cm, classes=my_tags, title='Confusion matrix')"
   ]
  },
  {
   "cell_type": "markdown",
   "metadata": {
    "id": "l743vmwgYTpo"
   },
   "source": [
    "---\n",
    "### ** >>> Exercise 3 (Take home): **  \n",
    "Can you interpret the results above? What do they mean?"
   ]
  },
  {
   "cell_type": "code",
   "execution_count": 33,
   "metadata": {
    "executionInfo": {
     "elapsed": 293,
     "status": "ok",
     "timestamp": 1733234958876,
     "user": {
      "displayName": "哲銘",
      "userId": "01517148372053884002"
     },
     "user_tz": -480
    },
    "id": "8pYICOxsYTpo"
   },
   "outputs": [],
   "source": [
    "# Answer here\n",
    "# 1.\n",
    "# Training Accuracy: 99% indicates that the model performs almost perfectly on the training dataset\n",
    "# However, Testing Accuracy: 68% indicating it has not generalized well to unseen data.\n",
    "# 2.\n",
    "# Anger: Precision = 0.66, Recall = 0.68, F1-Score = 0.67\n",
    "# The model performs moderately well in identifying \"anger\" but makes some false predictions for this class.\n",
    "# Fear: Precision = 0.66, Recall = 0.69, F1-Score = 0.67\n",
    "# Slightly better than \"anger,\" but still some false positives and false negatives occur.\n",
    "# Joy: Precision = 0.72, Recall = 0.71, F1-Score = 0.71\n",
    "# \"Joy\" has the highest precision and recall, suggesting it is the easiest emotion for the model to classify correctly.\n",
    "# Sadness: Precision = 0.70, Recall = 0.64, F1-Score = 0.67\n",
    "# \"Sadness\" has decent precision but lower recall, meaning it often misses true \"sadness\" instances.\n",
    "\n",
    "# 3. Confusion Matrix\n",
    "# For \"anger\":\n",
    "# 57 instances were correctly classified as \"anger.\"\n",
    "# 18 were incorrectly classified as \"fear.\"\n",
    "# Misclassifications suggest confusion between \"anger\" and \"fear.\"\n",
    "# For \"fear\":\n",
    "# 76 instances were correctly classified as \"fear.\"\n",
    "# Misclassifications include 16 as \"anger,\" indicating some overlap between these emotions.\n",
    "# For \"joy\":\n",
    "# 56 instances were correctly classified.\n",
    "# Some were misclassified as \"fear\" and \"sadness.\"\n",
    "# For \"sadness\":\n",
    "# 47 instances were correctly classified.\n",
    "# Significant misclassifications as \"fear\" (13) and \"anger\" (7).\n",
    "\n",
    "# The model performs best for the \"joy\" class, likely due to distinct patterns in the data for this emotion.\n",
    "# The model struggles with \"sadness\" and \"fear,\" as these emotions may have overlapping features in the text data.\n",
    "# Overfitting is evident, as indicated by the large gap between training and testing accuracy."
   ]
  },
  {
   "cell_type": "markdown",
   "metadata": {
    "id": "GaHpgl87YTpo"
   },
   "source": [
    "---\n",
    "### ** >>> Exercise 4 (Take home): **  \n",
    "Build a model using a ```Naive Bayes``` model and train it. What are the testing results?\n",
    "\n",
    "*Reference*: https://scikit-learn.org/stable/modules/generated/sklearn.naive_bayes.MultinomialNB.html"
   ]
  },
  {
   "cell_type": "code",
   "execution_count": 34,
   "metadata": {
    "colab": {
     "base_uri": "https://localhost:8080/"
    },
    "executionInfo": {
     "elapsed": 304,
     "status": "ok",
     "timestamp": 1733234961303,
     "user": {
      "displayName": "哲銘",
      "userId": "01517148372053884002"
     },
     "user_tz": -480
    },
    "id": "ZPvaHzpXYTpo",
    "outputId": "c9578318-4029-4c09-9d6e-63645a193f46"
   },
   "outputs": [
    {
     "name": "stdout",
     "output_type": "stream",
     "text": [
      "Training Accuracy: 0.79\n",
      "Testing Accuracy: 0.70\n",
      "\n",
      "Classification Report:\n",
      "              precision    recall  f1-score   support\n",
      "\n",
      "       anger       0.63      0.65      0.64        84\n",
      "        fear       0.73      0.77      0.75       110\n",
      "         joy       0.78      0.71      0.74        79\n",
      "     sadness       0.64      0.62      0.63        74\n",
      "\n",
      "    accuracy                           0.70       347\n",
      "   macro avg       0.70      0.69      0.69       347\n",
      "weighted avg       0.70      0.70      0.70       347\n",
      "\n",
      "\n",
      "Confusion Matrix:\n",
      "[[55 15  5  9]\n",
      " [ 9 85  5 11]\n",
      " [11  6 56  6]\n",
      " [12 10  6 46]]\n"
     ]
    }
   ],
   "source": [
    "# Answer here\n",
    "from sklearn.naive_bayes import MultinomialNB\n",
    "NB_model = MultinomialNB()\n",
    "\n",
    "# Train the model\n",
    "NB_model.fit(X_train, y_train)\n",
    "\n",
    "# Predict on training and testing data\n",
    "y_train_pred = NB_model.predict(X_train)\n",
    "y_test_pred = NB_model.predict(X_test)\n",
    "\n",
    "# Evaluate the model\n",
    "# Accuracy\n",
    "acc_train = accuracy_score(y_train, y_train_pred)\n",
    "acc_test = accuracy_score(y_test, y_test_pred)\n",
    "\n",
    "print(f'Training Accuracy: {acc_train:.2f}')\n",
    "print(f'Testing Accuracy: {acc_test:.2f}')\n",
    "\n",
    "# Precision, Recall, F1-score\n",
    "print(\"\\nClassification Report:\")\n",
    "print(classification_report(y_test, y_test_pred))\n",
    "\n",
    "# Confusion Matrix\n",
    "cm = confusion_matrix(y_test, y_test_pred)\n",
    "print(\"\\nConfusion Matrix:\")\n",
    "print(cm)\n",
    "\n"
   ]
  },
  {
   "cell_type": "markdown",
   "metadata": {
    "id": "Xv2DqWQSYTpo"
   },
   "source": [
    "---\n",
    "### ** >>> Exercise 5 (Take home): **  \n",
    "\n",
    "How do the results from the Naive Bayes model and the Decision Tree model compare? How do you interpret these differences? Use the theoretical background covered in class to try and explain these differences."
   ]
  },
  {
   "cell_type": "code",
   "execution_count": 35,
   "metadata": {
    "executionInfo": {
     "elapsed": 336,
     "status": "ok",
     "timestamp": 1733234963613,
     "user": {
      "displayName": "哲銘",
      "userId": "01517148372053884002"
     },
     "user_tz": -480
    },
    "id": "ALN_jHdlYTpo"
   },
   "outputs": [],
   "source": [
    "# Answer here\n",
    "# Using the Naive Bayes model, we achieved the following results:\n",
    "# Training accuracy: 79%, Testing accuracy: 70%.\n",
    "# This suggests that the Naive Bayes model is less overfitted and generalizes better to the test data.\n",
    "\n",
    "# The Naive Bayes model demonstrates a more balanced performance across all classes.\n",
    "# \"Fear\" and \"Joy\" maintain relatively high precision and recall,\n",
    "# indicating that these emotions are easier for the model to classify correctly.\n",
    "\n",
    "# Decision Trees split data using thresholds that maximize class separation at each step\n",
    "# making them effective for capturing complex decision boundaries\n",
    "# however, without constraints (e.g., max_depth), Decision Trees tend to overfit\n",
    "# especially with small training sets or noisy data.\n",
    "\n",
    "# Naive Bayes relies on the conditional independence assumption\n",
    "# which simplifies the classification process by assuming that features are independent\n",
    "# This makes it computationally efficient and robust to small datasets\n",
    "\n",
    "# While Naive Bayes avoids overfitting and achieves better generalization\n",
    "# it may oversimplify the problem, resulting in slightly lower performance on some classes (e.g., \"Joy\")"
   ]
  },
  {
   "cell_type": "markdown",
   "metadata": {
    "id": "ehlJ60lhYTpo"
   },
   "source": [
    "---"
   ]
  },
  {
   "cell_type": "markdown",
   "metadata": {
    "id": "79F_DaW-YTpo"
   },
   "source": [
    "## 5. Other things you can try"
   ]
  },
  {
   "cell_type": "markdown",
   "metadata": {
    "id": "_oeqpRu6YTpo"
   },
   "source": [
    "Thus, there are several things you can try that will affect your results. In order to yield better results, you can experiment by:\n",
    "- Trying different features (Feature engineering)e.g Word2Vec, PCA, LDA, FastText, Clustering\n",
    "- Trying different models\n",
    "- Analyzing your results and interpret them to improve your feature engineering/model building process\n",
    "- Iterate through the steps above until finding a satisfying result\n",
    "\n",
    "Remember that you should also consider the task at hand and the model you'll feed the data to."
   ]
  },
  {
   "cell_type": "markdown",
   "metadata": {
    "id": "fiGUSmPLYTpo"
   },
   "source": [
    "---\n",
    "## 6. Deep Learning\n",
    "\n",
    "We use [Keras](https://keras.io/) to be our deep learning framework, and follow the [Model (functional API)](https://keras.io/models/model/) to build a Deep Neural Network (DNN) model. Keras runs with Tensorflow in the backend. It's a nice abstraction to start working with NN models.\n",
    "\n",
    "Because Deep Learning is a 1-semester course, we can't talk about each detail about it in the lab session. Here, we only provide a simple template about how to build & run a DL model successfully. You can follow this template to design your model.\n",
    "\n",
    "We will begin by building a fully connected network, which looks like this:"
   ]
  },
  {
   "cell_type": "markdown",
   "metadata": {
    "id": "1nB0BTq2YTpo"
   },
   "source": [
    "![Dataset Overview](./pics/pic1.png)\n",
    "\n",
    "(source: https://github.com/drewnoff/spark-notebook-ml-labs/tree/master/labs/DLFramework)\n"
   ]
  },
  {
   "cell_type": "markdown",
   "metadata": {
    "id": "-EtVRGhNYTpo"
   },
   "source": [
    "### 6.1 Prepare data (X, y)"
   ]
  },
  {
   "cell_type": "code",
   "execution_count": 36,
   "metadata": {
    "colab": {
     "base_uri": "https://localhost:8080/"
    },
    "executionInfo": {
     "elapsed": 6443,
     "status": "ok",
     "timestamp": 1733234974630,
     "user": {
      "displayName": "哲銘",
      "userId": "01517148372053884002"
     },
     "user_tz": -480
    },
    "id": "4mIdg2D6YTpo",
    "outputId": "1708c597-e6dc-4fdb-d892-16e5c2b43bbb"
   },
   "outputs": [
    {
     "name": "stdout",
     "output_type": "stream",
     "text": [
      "X_train.shape:  (3613, 500)\n",
      "y_train.shape:  (3613,)\n",
      "X_test.shape:  (347, 500)\n",
      "y_test.shape:  (347,)\n"
     ]
    }
   ],
   "source": [
    "import keras\n",
    "\n",
    "# standardize name (X, y)\n",
    "X_train = BOW_500.transform(train_df['text'])\n",
    "y_train = train_df['emotion']\n",
    "\n",
    "X_test = BOW_500.transform(test_df['text'])\n",
    "y_test = test_df['emotion']\n",
    "\n",
    "## check dimension is a good habbit\n",
    "print('X_train.shape: ', X_train.shape)\n",
    "print('y_train.shape: ', y_train.shape)\n",
    "print('X_test.shape: ', X_test.shape)\n",
    "print('y_test.shape: ', y_test.shape)"
   ]
  },
  {
   "cell_type": "code",
   "execution_count": 37,
   "metadata": {
    "executionInfo": {
     "elapsed": 4,
     "status": "ok",
     "timestamp": 1733234974630,
     "user": {
      "displayName": "哲銘",
      "userId": "01517148372053884002"
     },
     "user_tz": -480
    },
    "id": "7LUod1F6TBa7"
   },
   "outputs": [],
   "source": [
    "import keras"
   ]
  },
  {
   "cell_type": "code",
   "execution_count": 38,
   "metadata": {
    "colab": {
     "base_uri": "https://localhost:8080/"
    },
    "executionInfo": {
     "elapsed": 484,
     "status": "ok",
     "timestamp": 1733234975111,
     "user": {
      "displayName": "哲銘",
      "userId": "01517148372053884002"
     },
     "user_tz": -480
    },
    "id": "xVBw7nSXTBa7",
    "outputId": "a6437ebd-8c22-4074-f140-6f2316ec9b72"
   },
   "outputs": [
    {
     "data": {
      "text/plain": [
       "<347x500 sparse matrix of type '<class 'numpy.int64'>'\n",
       "\twith 4103 stored elements in Compressed Sparse Row format>"
      ]
     },
     "execution_count": 38,
     "metadata": {},
     "output_type": "execute_result"
    }
   ],
   "source": [
    "BOW_500.transform(test_df['text'])"
   ]
  },
  {
   "cell_type": "markdown",
   "metadata": {
    "id": "iBZZedZ2YTpo"
   },
   "source": [
    "### 6.2 Deal with categorical label (y)\n",
    "\n",
    "Rather than put your label `train_df['emotion']` directly into a model, we have to process these categorical (or say nominal) label by ourselves.\n",
    "\n",
    "Here, we use the basic method [one-hot encoding](https://en.wikipedia.org/wiki/One-hot) to transform our categorical  labels to numerical ones.\n"
   ]
  },
  {
   "cell_type": "code",
   "execution_count": 39,
   "metadata": {
    "colab": {
     "base_uri": "https://localhost:8080/"
    },
    "executionInfo": {
     "elapsed": 376,
     "status": "ok",
     "timestamp": 1733234979234,
     "user": {
      "displayName": "哲銘",
      "userId": "01517148372053884002"
     },
     "user_tz": -480
    },
    "id": "SU95MCsSYTpo",
    "outputId": "720f9b2c-00dc-49f0-b9e6-9ca89371be11"
   },
   "outputs": [
    {
     "name": "stdout",
     "output_type": "stream",
     "text": [
      "check label:  ['anger' 'fear' 'joy' 'sadness']\n",
      "\n",
      "## Before convert\n",
      "y_train[0:4]:\n",
      " 2975    sadness\n",
      "351       anger\n",
      "1001       fear\n",
      "607       anger\n",
      "Name: emotion, dtype: object\n",
      "\n",
      "y_train.shape:  (3613,)\n",
      "y_test.shape:  (347,)\n",
      "\n",
      "\n",
      "## After convert\n",
      "y_train[0:4]:\n",
      " [[0. 0. 0. 1.]\n",
      " [1. 0. 0. 0.]\n",
      " [0. 1. 0. 0.]\n",
      " [1. 0. 0. 0.]]\n",
      "\n",
      "y_train.shape:  (3613, 4)\n",
      "y_test.shape:  (347, 4)\n"
     ]
    }
   ],
   "source": [
    "## deal with label (string -> one-hot)\n",
    "\n",
    "from sklearn.preprocessing import LabelEncoder\n",
    "\n",
    "label_encoder = LabelEncoder()\n",
    "label_encoder.fit(y_train)\n",
    "print('check label: ', label_encoder.classes_)\n",
    "print('\\n## Before convert')\n",
    "print('y_train[0:4]:\\n', y_train[0:4])\n",
    "print('\\ny_train.shape: ', y_train.shape)\n",
    "print('y_test.shape: ', y_test.shape)\n",
    "\n",
    "def label_encode(le, labels):\n",
    "    enc = le.transform(labels)\n",
    "    return keras.utils.to_categorical(enc)\n",
    "\n",
    "def label_decode(le, one_hot_label):\n",
    "    dec = np.argmax(one_hot_label, axis=1)\n",
    "    return le.inverse_transform(dec)\n",
    "\n",
    "y_train = label_encode(label_encoder, y_train)\n",
    "y_test = label_encode(label_encoder, y_test)\n",
    "\n",
    "print('\\n\\n## After convert')\n",
    "print('y_train[0:4]:\\n', y_train[0:4])\n",
    "print('\\ny_train.shape: ', y_train.shape)\n",
    "print('y_test.shape: ', y_test.shape)\n"
   ]
  },
  {
   "cell_type": "markdown",
   "metadata": {
    "id": "W4bqEcMbYTpo"
   },
   "source": [
    "### 6.3 Build model"
   ]
  },
  {
   "cell_type": "code",
   "execution_count": 40,
   "metadata": {
    "colab": {
     "base_uri": "https://localhost:8080/"
    },
    "executionInfo": {
     "elapsed": 316,
     "status": "ok",
     "timestamp": 1733234981321,
     "user": {
      "displayName": "哲銘",
      "userId": "01517148372053884002"
     },
     "user_tz": -480
    },
    "id": "6sA7cx-oYTpo",
    "outputId": "f03e99a2-a1ef-49d4-acfb-ee3936d11122"
   },
   "outputs": [
    {
     "name": "stdout",
     "output_type": "stream",
     "text": [
      "input_shape:  500\n",
      "output_shape:  4\n"
     ]
    }
   ],
   "source": [
    "# I/O check\n",
    "input_shape = X_train.shape[1]\n",
    "print('input_shape: ', input_shape)\n",
    "\n",
    "output_shape = len(label_encoder.classes_)\n",
    "print('output_shape: ', output_shape)"
   ]
  },
  {
   "cell_type": "markdown",
   "metadata": {
    "id": "8c-uWuloYTpo"
   },
   "source": [
    "![Dataset Overview](./pics/pic2.png)"
   ]
  },
  {
   "cell_type": "code",
   "execution_count": 41,
   "metadata": {
    "colab": {
     "base_uri": "https://localhost:8080/",
     "height": 353
    },
    "executionInfo": {
     "elapsed": 299,
     "status": "ok",
     "timestamp": 1733234983282,
     "user": {
      "displayName": "哲銘",
      "userId": "01517148372053884002"
     },
     "user_tz": -480
    },
    "id": "jTeBWTvgYTpo",
    "outputId": "3ef973d2-f592-4e4d-9518-693a2ce1257c"
   },
   "outputs": [
    {
     "name": "stdout",
     "output_type": "stream",
     "text": [
      "Model: \"model\"\n",
      "_________________________________________________________________\n",
      " Layer (type)                Output Shape              Param #   \n",
      "=================================================================\n",
      " input_1 (InputLayer)        [(None, 500)]             0         \n",
      "                                                                 \n",
      " dense (Dense)               (None, 64)                32064     \n",
      "                                                                 \n",
      " re_lu (ReLU)                (None, 64)                0         \n",
      "                                                                 \n",
      " dense_1 (Dense)             (None, 64)                4160      \n",
      "                                                                 \n",
      " re_lu_1 (ReLU)              (None, 64)                0         \n",
      "                                                                 \n",
      " dense_2 (Dense)             (None, 4)                 260       \n",
      "                                                                 \n",
      " softmax (Softmax)           (None, 4)                 0         \n",
      "                                                                 \n",
      "=================================================================\n",
      "Total params: 36484 (142.52 KB)\n",
      "Trainable params: 36484 (142.52 KB)\n",
      "Non-trainable params: 0 (0.00 Byte)\n",
      "_________________________________________________________________\n"
     ]
    }
   ],
   "source": [
    "from keras.models import Model\n",
    "from keras.layers import Input, Dense\n",
    "from keras.layers import ReLU, Softmax\n",
    "\n",
    "# input layer\n",
    "model_input = Input(shape=(input_shape, ))  # 500\n",
    "X = model_input\n",
    "\n",
    "# 1st hidden layer\n",
    "X_W1 = Dense(units=64)(X)  # 64\n",
    "H1 = ReLU()(X_W1)\n",
    "\n",
    "# 2nd hidden layer\n",
    "H1_W2 = Dense(units=64)(H1)  # 64\n",
    "H2 = ReLU()(H1_W2)\n",
    "\n",
    "# output layer\n",
    "H2_W3 = Dense(units=output_shape)(H2)  # 4\n",
    "H3 = Softmax()(H2_W3)\n",
    "\n",
    "model_output = H3\n",
    "\n",
    "# create model\n",
    "model = Model(inputs=[model_input], outputs=[model_output])\n",
    "\n",
    "# loss function & optimizer\n",
    "model.compile(optimizer='adam',\n",
    "              loss='categorical_crossentropy',\n",
    "              metrics=['accuracy'])\n",
    "\n",
    "# show model construction\n",
    "model.summary()"
   ]
  },
  {
   "cell_type": "markdown",
   "metadata": {
    "id": "nmTSDO2pYTpo"
   },
   "source": [
    "### 6.4 Train"
   ]
  },
  {
   "cell_type": "code",
   "execution_count": 42,
   "metadata": {
    "colab": {
     "base_uri": "https://localhost:8080/"
    },
    "executionInfo": {
     "elapsed": 16023,
     "status": "ok",
     "timestamp": 1733235004023,
     "user": {
      "displayName": "哲銘",
      "userId": "01517148372053884002"
     },
     "user_tz": -480
    },
    "id": "Kl374LYqYTpo",
    "outputId": "a0468717-e102-48b7-ebf8-311f48262f98"
   },
   "outputs": [
    {
     "name": "stdout",
     "output_type": "stream",
     "text": [
      "Epoch 1/25\n",
      "113/113 [==============================] - 1s 3ms/step - loss: 1.3166 - accuracy: 0.3878 - val_loss: 1.2767 - val_accuracy: 0.4899\n",
      "Epoch 2/25\n",
      "113/113 [==============================] - 0s 1ms/step - loss: 0.9545 - accuracy: 0.6590 - val_loss: 0.8891 - val_accuracy: 0.6801\n",
      "Epoch 3/25\n",
      "113/113 [==============================] - 0s 1ms/step - loss: 0.5724 - accuracy: 0.7980 - val_loss: 0.8074 - val_accuracy: 0.6830\n",
      "Epoch 4/25\n",
      "113/113 [==============================] - 0s 2ms/step - loss: 0.4154 - accuracy: 0.8478 - val_loss: 0.7938 - val_accuracy: 0.7118\n",
      "Epoch 5/25\n",
      "113/113 [==============================] - 0s 1ms/step - loss: 0.3289 - accuracy: 0.8832 - val_loss: 0.8165 - val_accuracy: 0.6830\n",
      "Epoch 6/25\n",
      "113/113 [==============================] - 0s 1ms/step - loss: 0.2696 - accuracy: 0.9070 - val_loss: 0.8906 - val_accuracy: 0.6715\n",
      "Epoch 7/25\n",
      "113/113 [==============================] - 0s 1ms/step - loss: 0.2260 - accuracy: 0.9233 - val_loss: 0.9112 - val_accuracy: 0.6916\n",
      "Epoch 8/25\n",
      "113/113 [==============================] - 0s 1ms/step - loss: 0.1909 - accuracy: 0.9352 - val_loss: 1.0338 - val_accuracy: 0.6801\n",
      "Epoch 9/25\n",
      "113/113 [==============================] - 0s 1ms/step - loss: 0.1669 - accuracy: 0.9507 - val_loss: 1.0614 - val_accuracy: 0.6916\n",
      "Epoch 10/25\n",
      "113/113 [==============================] - 0s 1ms/step - loss: 0.1404 - accuracy: 0.9596 - val_loss: 1.1355 - val_accuracy: 0.6859\n",
      "Epoch 11/25\n",
      "113/113 [==============================] - 0s 1ms/step - loss: 0.1257 - accuracy: 0.9660 - val_loss: 1.1805 - val_accuracy: 0.7003\n",
      "Epoch 12/25\n",
      "113/113 [==============================] - 0s 1ms/step - loss: 0.1175 - accuracy: 0.9660 - val_loss: 1.2494 - val_accuracy: 0.6830\n",
      "Epoch 13/25\n",
      "113/113 [==============================] - 0s 1ms/step - loss: 0.1033 - accuracy: 0.9707 - val_loss: 1.2544 - val_accuracy: 0.6974\n",
      "Epoch 14/25\n",
      "113/113 [==============================] - 0s 1ms/step - loss: 0.0999 - accuracy: 0.9707 - val_loss: 1.3138 - val_accuracy: 0.6916\n",
      "Epoch 15/25\n",
      "113/113 [==============================] - 0s 1ms/step - loss: 0.0907 - accuracy: 0.9709 - val_loss: 1.3422 - val_accuracy: 0.7003\n",
      "Epoch 16/25\n",
      "113/113 [==============================] - 0s 1ms/step - loss: 0.0864 - accuracy: 0.9743 - val_loss: 1.3734 - val_accuracy: 0.6974\n",
      "Epoch 17/25\n",
      "113/113 [==============================] - 0s 1ms/step - loss: 0.0787 - accuracy: 0.9765 - val_loss: 1.4263 - val_accuracy: 0.7089\n",
      "Epoch 18/25\n",
      "113/113 [==============================] - 0s 1ms/step - loss: 0.0789 - accuracy: 0.9762 - val_loss: 1.4608 - val_accuracy: 0.6916\n",
      "Epoch 19/25\n",
      "113/113 [==============================] - 0s 1ms/step - loss: 0.0745 - accuracy: 0.9768 - val_loss: 1.4478 - val_accuracy: 0.6830\n",
      "Epoch 20/25\n",
      "113/113 [==============================] - 0s 1ms/step - loss: 0.0737 - accuracy: 0.9754 - val_loss: 1.4667 - val_accuracy: 0.6945\n",
      "Epoch 21/25\n",
      "113/113 [==============================] - 0s 1ms/step - loss: 0.0645 - accuracy: 0.9773 - val_loss: 1.4907 - val_accuracy: 0.6945\n",
      "Epoch 22/25\n",
      "113/113 [==============================] - 0s 1ms/step - loss: 0.0695 - accuracy: 0.9768 - val_loss: 1.5439 - val_accuracy: 0.6772\n",
      "Epoch 23/25\n",
      "113/113 [==============================] - 0s 1ms/step - loss: 0.0631 - accuracy: 0.9795 - val_loss: 1.5355 - val_accuracy: 0.6686\n",
      "Epoch 24/25\n",
      "113/113 [==============================] - 0s 1ms/step - loss: 0.0650 - accuracy: 0.9784 - val_loss: 1.5758 - val_accuracy: 0.7003\n",
      "Epoch 25/25\n",
      "113/113 [==============================] - 0s 1ms/step - loss: 0.0625 - accuracy: 0.9787 - val_loss: 1.5477 - val_accuracy: 0.6916\n",
      "training finish\n"
     ]
    }
   ],
   "source": [
    "from keras.callbacks import CSVLogger\n",
    "\n",
    "csv_logger = CSVLogger(f'{dir}/logs/training_log.csv')\n",
    "\n",
    "# training setting\n",
    "epochs = 25\n",
    "batch_size = 32\n",
    "\n",
    "# training!\n",
    "history = model.fit(X_train, y_train,\n",
    "                    epochs=epochs,\n",
    "                    batch_size=batch_size,\n",
    "                    callbacks=[csv_logger],\n",
    "                    validation_data = (X_test, y_test))\n",
    "print('training finish')"
   ]
  },
  {
   "cell_type": "markdown",
   "metadata": {
    "id": "ip8RYsvSYTpo"
   },
   "source": [
    "### 6.5 Predict on testing data"
   ]
  },
  {
   "cell_type": "code",
   "execution_count": 43,
   "metadata": {
    "colab": {
     "base_uri": "https://localhost:8080/"
    },
    "executionInfo": {
     "elapsed": 471,
     "status": "ok",
     "timestamp": 1733235004489,
     "user": {
      "displayName": "哲銘",
      "userId": "01517148372053884002"
     },
     "user_tz": -480
    },
    "id": "xdnLuBYBYTpo",
    "outputId": "d0018a1e-b992-4d87-cfd4-389f626d5d05"
   },
   "outputs": [
    {
     "name": "stdout",
     "output_type": "stream",
     "text": [
      "3/3 [==============================] - 0s 2ms/step\n"
     ]
    },
    {
     "data": {
      "text/plain": [
       "array([[9.73758459e-01, 6.39971113e-03, 2.45993678e-03, 1.73817668e-02],\n",
       "       [6.32891158e-07, 8.81591191e-08, 9.99999046e-01, 2.97358042e-07],\n",
       "       [2.32447965e-05, 7.71769822e-01, 4.12731990e-03, 2.24079594e-01],\n",
       "       [3.90280783e-01, 1.22304894e-02, 5.84736824e-01, 1.27519695e-02],\n",
       "       [2.28142053e-05, 6.62221666e-03, 6.74878189e-04, 9.92680073e-01]],\n",
       "      dtype=float32)"
      ]
     },
     "execution_count": 43,
     "metadata": {},
     "output_type": "execute_result"
    }
   ],
   "source": [
    "## predict\n",
    "pred_result = model.predict(X_test, batch_size=128)\n",
    "pred_result[:5]"
   ]
  },
  {
   "cell_type": "code",
   "execution_count": 44,
   "metadata": {
    "colab": {
     "base_uri": "https://localhost:8080/"
    },
    "executionInfo": {
     "elapsed": 309,
     "status": "ok",
     "timestamp": 1733235008193,
     "user": {
      "displayName": "哲銘",
      "userId": "01517148372053884002"
     },
     "user_tz": -480
    },
    "id": "hSaXGEX-YTpo",
    "outputId": "c0b8eb09-617e-4462-f37b-4d748195c5af"
   },
   "outputs": [
    {
     "data": {
      "text/plain": [
       "array(['anger', 'joy', 'fear', 'joy', 'sadness'], dtype=object)"
      ]
     },
     "execution_count": 44,
     "metadata": {},
     "output_type": "execute_result"
    }
   ],
   "source": [
    "pred_result = label_decode(label_encoder, pred_result)\n",
    "pred_result[:5]"
   ]
  },
  {
   "cell_type": "code",
   "execution_count": 45,
   "metadata": {
    "colab": {
     "base_uri": "https://localhost:8080/"
    },
    "executionInfo": {
     "elapsed": 347,
     "status": "ok",
     "timestamp": 1733235011285,
     "user": {
      "displayName": "哲銘",
      "userId": "01517148372053884002"
     },
     "user_tz": -480
    },
    "id": "bRRHye9KYTp5",
    "outputId": "7b300d27-1be3-45bb-9fda-64be575d6915"
   },
   "outputs": [
    {
     "name": "stdout",
     "output_type": "stream",
     "text": [
      "testing accuracy: 0.69\n"
     ]
    }
   ],
   "source": [
    "from sklearn.metrics import accuracy_score\n",
    "\n",
    "print('testing accuracy: {}'.format(round(accuracy_score(label_decode(label_encoder, y_test), pred_result), 2)))"
   ]
  },
  {
   "cell_type": "code",
   "execution_count": 46,
   "metadata": {
    "colab": {
     "base_uri": "https://localhost:8080/",
     "height": 824
    },
    "executionInfo": {
     "elapsed": 327,
     "status": "ok",
     "timestamp": 1733235014877,
     "user": {
      "displayName": "哲銘",
      "userId": "01517148372053884002"
     },
     "user_tz": -480
    },
    "id": "ks2Q0aMsYTp5",
    "outputId": "37c3205b-4941-439f-c7c5-629b9c11d0aa"
   },
   "outputs": [
    {
     "data": {
      "text/html": [
       "<div>\n",
       "<style scoped>\n",
       "    .dataframe tbody tr th:only-of-type {\n",
       "        vertical-align: middle;\n",
       "    }\n",
       "\n",
       "    .dataframe tbody tr th {\n",
       "        vertical-align: top;\n",
       "    }\n",
       "\n",
       "    .dataframe thead th {\n",
       "        text-align: right;\n",
       "    }\n",
       "</style>\n",
       "<table border=\"1\" class=\"dataframe\">\n",
       "  <thead>\n",
       "    <tr style=\"text-align: right;\">\n",
       "      <th></th>\n",
       "      <th>epoch</th>\n",
       "      <th>accuracy</th>\n",
       "      <th>loss</th>\n",
       "      <th>val_accuracy</th>\n",
       "      <th>val_loss</th>\n",
       "    </tr>\n",
       "  </thead>\n",
       "  <tbody>\n",
       "    <tr>\n",
       "      <th>0</th>\n",
       "      <td>0</td>\n",
       "      <td>0.387766</td>\n",
       "      <td>1.316638</td>\n",
       "      <td>0.489914</td>\n",
       "      <td>1.276651</td>\n",
       "    </tr>\n",
       "    <tr>\n",
       "      <th>1</th>\n",
       "      <td>1</td>\n",
       "      <td>0.659009</td>\n",
       "      <td>0.954509</td>\n",
       "      <td>0.680115</td>\n",
       "      <td>0.889133</td>\n",
       "    </tr>\n",
       "    <tr>\n",
       "      <th>2</th>\n",
       "      <td>2</td>\n",
       "      <td>0.797952</td>\n",
       "      <td>0.572356</td>\n",
       "      <td>0.682997</td>\n",
       "      <td>0.807427</td>\n",
       "    </tr>\n",
       "    <tr>\n",
       "      <th>3</th>\n",
       "      <td>3</td>\n",
       "      <td>0.847772</td>\n",
       "      <td>0.415400</td>\n",
       "      <td>0.711816</td>\n",
       "      <td>0.793785</td>\n",
       "    </tr>\n",
       "    <tr>\n",
       "      <th>4</th>\n",
       "      <td>4</td>\n",
       "      <td>0.883200</td>\n",
       "      <td>0.328927</td>\n",
       "      <td>0.682997</td>\n",
       "      <td>0.816510</td>\n",
       "    </tr>\n",
       "    <tr>\n",
       "      <th>5</th>\n",
       "      <td>5</td>\n",
       "      <td>0.907003</td>\n",
       "      <td>0.269558</td>\n",
       "      <td>0.671470</td>\n",
       "      <td>0.890610</td>\n",
       "    </tr>\n",
       "    <tr>\n",
       "      <th>6</th>\n",
       "      <td>6</td>\n",
       "      <td>0.923332</td>\n",
       "      <td>0.225992</td>\n",
       "      <td>0.691643</td>\n",
       "      <td>0.911171</td>\n",
       "    </tr>\n",
       "    <tr>\n",
       "      <th>7</th>\n",
       "      <td>7</td>\n",
       "      <td>0.935234</td>\n",
       "      <td>0.190948</td>\n",
       "      <td>0.680115</td>\n",
       "      <td>1.033803</td>\n",
       "    </tr>\n",
       "    <tr>\n",
       "      <th>8</th>\n",
       "      <td>8</td>\n",
       "      <td>0.950733</td>\n",
       "      <td>0.166860</td>\n",
       "      <td>0.691643</td>\n",
       "      <td>1.061377</td>\n",
       "    </tr>\n",
       "    <tr>\n",
       "      <th>9</th>\n",
       "      <td>9</td>\n",
       "      <td>0.959590</td>\n",
       "      <td>0.140403</td>\n",
       "      <td>0.685879</td>\n",
       "      <td>1.135508</td>\n",
       "    </tr>\n",
       "    <tr>\n",
       "      <th>10</th>\n",
       "      <td>10</td>\n",
       "      <td>0.965956</td>\n",
       "      <td>0.125676</td>\n",
       "      <td>0.700288</td>\n",
       "      <td>1.180470</td>\n",
       "    </tr>\n",
       "    <tr>\n",
       "      <th>11</th>\n",
       "      <td>11</td>\n",
       "      <td>0.965956</td>\n",
       "      <td>0.117506</td>\n",
       "      <td>0.682997</td>\n",
       "      <td>1.249442</td>\n",
       "    </tr>\n",
       "    <tr>\n",
       "      <th>12</th>\n",
       "      <td>12</td>\n",
       "      <td>0.970662</td>\n",
       "      <td>0.103294</td>\n",
       "      <td>0.697406</td>\n",
       "      <td>1.254351</td>\n",
       "    </tr>\n",
       "    <tr>\n",
       "      <th>13</th>\n",
       "      <td>13</td>\n",
       "      <td>0.970662</td>\n",
       "      <td>0.099929</td>\n",
       "      <td>0.691643</td>\n",
       "      <td>1.313826</td>\n",
       "    </tr>\n",
       "    <tr>\n",
       "      <th>14</th>\n",
       "      <td>14</td>\n",
       "      <td>0.970938</td>\n",
       "      <td>0.090689</td>\n",
       "      <td>0.700288</td>\n",
       "      <td>1.342241</td>\n",
       "    </tr>\n",
       "    <tr>\n",
       "      <th>15</th>\n",
       "      <td>15</td>\n",
       "      <td>0.974260</td>\n",
       "      <td>0.086370</td>\n",
       "      <td>0.697406</td>\n",
       "      <td>1.373447</td>\n",
       "    </tr>\n",
       "    <tr>\n",
       "      <th>16</th>\n",
       "      <td>16</td>\n",
       "      <td>0.976474</td>\n",
       "      <td>0.078671</td>\n",
       "      <td>0.708934</td>\n",
       "      <td>1.426316</td>\n",
       "    </tr>\n",
       "    <tr>\n",
       "      <th>17</th>\n",
       "      <td>17</td>\n",
       "      <td>0.976197</td>\n",
       "      <td>0.078851</td>\n",
       "      <td>0.691643</td>\n",
       "      <td>1.460763</td>\n",
       "    </tr>\n",
       "    <tr>\n",
       "      <th>18</th>\n",
       "      <td>18</td>\n",
       "      <td>0.976751</td>\n",
       "      <td>0.074520</td>\n",
       "      <td>0.682997</td>\n",
       "      <td>1.447805</td>\n",
       "    </tr>\n",
       "    <tr>\n",
       "      <th>19</th>\n",
       "      <td>19</td>\n",
       "      <td>0.975367</td>\n",
       "      <td>0.073652</td>\n",
       "      <td>0.694524</td>\n",
       "      <td>1.466735</td>\n",
       "    </tr>\n",
       "    <tr>\n",
       "      <th>20</th>\n",
       "      <td>20</td>\n",
       "      <td>0.977304</td>\n",
       "      <td>0.064537</td>\n",
       "      <td>0.694524</td>\n",
       "      <td>1.490690</td>\n",
       "    </tr>\n",
       "    <tr>\n",
       "      <th>21</th>\n",
       "      <td>21</td>\n",
       "      <td>0.976751</td>\n",
       "      <td>0.069461</td>\n",
       "      <td>0.677233</td>\n",
       "      <td>1.543863</td>\n",
       "    </tr>\n",
       "    <tr>\n",
       "      <th>22</th>\n",
       "      <td>22</td>\n",
       "      <td>0.979518</td>\n",
       "      <td>0.063121</td>\n",
       "      <td>0.668588</td>\n",
       "      <td>1.535496</td>\n",
       "    </tr>\n",
       "    <tr>\n",
       "      <th>23</th>\n",
       "      <td>23</td>\n",
       "      <td>0.978411</td>\n",
       "      <td>0.065004</td>\n",
       "      <td>0.700288</td>\n",
       "      <td>1.575849</td>\n",
       "    </tr>\n",
       "    <tr>\n",
       "      <th>24</th>\n",
       "      <td>24</td>\n",
       "      <td>0.978688</td>\n",
       "      <td>0.062462</td>\n",
       "      <td>0.691643</td>\n",
       "      <td>1.547696</td>\n",
       "    </tr>\n",
       "  </tbody>\n",
       "</table>\n",
       "</div>"
      ],
      "text/plain": [
       "    epoch  accuracy      loss  val_accuracy  val_loss\n",
       "0       0  0.387766  1.316638      0.489914  1.276651\n",
       "1       1  0.659009  0.954509      0.680115  0.889133\n",
       "2       2  0.797952  0.572356      0.682997  0.807427\n",
       "3       3  0.847772  0.415400      0.711816  0.793785\n",
       "4       4  0.883200  0.328927      0.682997  0.816510\n",
       "5       5  0.907003  0.269558      0.671470  0.890610\n",
       "6       6  0.923332  0.225992      0.691643  0.911171\n",
       "7       7  0.935234  0.190948      0.680115  1.033803\n",
       "8       8  0.950733  0.166860      0.691643  1.061377\n",
       "9       9  0.959590  0.140403      0.685879  1.135508\n",
       "10     10  0.965956  0.125676      0.700288  1.180470\n",
       "11     11  0.965956  0.117506      0.682997  1.249442\n",
       "12     12  0.970662  0.103294      0.697406  1.254351\n",
       "13     13  0.970662  0.099929      0.691643  1.313826\n",
       "14     14  0.970938  0.090689      0.700288  1.342241\n",
       "15     15  0.974260  0.086370      0.697406  1.373447\n",
       "16     16  0.976474  0.078671      0.708934  1.426316\n",
       "17     17  0.976197  0.078851      0.691643  1.460763\n",
       "18     18  0.976751  0.074520      0.682997  1.447805\n",
       "19     19  0.975367  0.073652      0.694524  1.466735\n",
       "20     20  0.977304  0.064537      0.694524  1.490690\n",
       "21     21  0.976751  0.069461      0.677233  1.543863\n",
       "22     22  0.979518  0.063121      0.668588  1.535496\n",
       "23     23  0.978411  0.065004      0.700288  1.575849\n",
       "24     24  0.978688  0.062462      0.691643  1.547696"
      ]
     },
     "execution_count": 46,
     "metadata": {},
     "output_type": "execute_result"
    }
   ],
   "source": [
    "#Let's take a look at the training log\n",
    "training_log = pd.DataFrame()\n",
    "training_log = pd.read_csv(f\"{dir}/logs/training_log.csv\")\n",
    "training_log"
   ]
  },
  {
   "cell_type": "markdown",
   "metadata": {
    "id": "NoYqY0-tYTp5"
   },
   "source": [
    "---\n",
    "### ** >>> Exercise 6 (Take home): **  \n",
    "\n",
    "Plot the Training and Validation Accuracy and Loss (different plots), just like the images below.(Note: the pictures below are an example from a different model). How to interpret the graphs you got? How are they related to the concept of overfitting/underfitting covered in class?\n",
    "\n",
    "![Dataset Overview](./pics/pic3.png)\n"
   ]
  },
  {
   "cell_type": "markdown",
   "metadata": {
    "id": "LBS9hivWTBa9"
   },
   "source": [
    "![Dataset Overview](./pics/pic4.png)"
   ]
  },
  {
   "cell_type": "code",
   "execution_count": 47,
   "metadata": {
    "colab": {
     "base_uri": "https://localhost:8080/",
     "height": 1000
    },
    "executionInfo": {
     "elapsed": 900,
     "status": "ok",
     "timestamp": 1733235018723,
     "user": {
      "displayName": "哲銘",
      "userId": "01517148372053884002"
     },
     "user_tz": -480
    },
    "id": "AlhstCrlYTp5",
    "outputId": "8a06dae6-57df-4798-d96e-443df032c69c"
   },
   "outputs": [
    {
     "data": {
      "image/png": "[encoded data removed]",
      "text/plain": [
       "<Figure size 1000x500 with 1 Axes>"
      ]
     },
     "metadata": {},
     "output_type": "display_data"
    },
    {
     "data": {
      "image/png": "[encoded data removed]",
      "text/plain": [
       "<Figure size 1000x500 with 1 Axes>"
      ]
     },
     "metadata": {},
     "output_type": "display_data"
    },
    {
     "data": {
      "text/plain": [
       "'The validation accuracy initially improves but begins to plateau and slightly decrease around epoch 10,\\nnever exceeding approximately 68%. This indicates that the model is overfitting:\\nit performs exceedingly well on the training data but struggles to generalize to unseen validation data.'"
      ]
     },
     "execution_count": 47,
     "metadata": {},
     "output_type": "execute_result"
    }
   ],
   "source": [
    "# Answer here\n",
    "plt.figure(figsize=(10, 5))\n",
    "plt.plot(training_log['epoch'], training_log['accuracy'], label='Training Accuracy')\n",
    "plt.plot(training_log['epoch'], training_log['val_accuracy'], label='Validation Accuracy')\n",
    "plt.title('Training and Validation Accuracy')\n",
    "plt.xlabel('Epochs')\n",
    "plt.ylabel('Accuracy')\n",
    "plt.legend()\n",
    "plt.grid()\n",
    "plt.show()\n",
    "\n",
    "# Plot Training and Validation Loss\n",
    "plt.figure(figsize=(10, 5))\n",
    "plt.plot(training_log['epoch'], training_log['loss'], label='Training Loss')\n",
    "plt.plot(training_log['epoch'], training_log['val_loss'], label='Validation Loss')\n",
    "plt.title('Training and Validation Loss')\n",
    "plt.xlabel('Epochs')\n",
    "plt.ylabel('Loss')\n",
    "plt.legend()\n",
    "plt.grid()\n",
    "plt.show()\n",
    "\n",
    "'''The validation accuracy initially improves but begins to plateau and slightly decrease around epoch 10,\n",
    "never exceeding approximately 68%. This indicates that the model is overfitting:\n",
    "it performs exceedingly well on the training data but struggles to generalize to unseen validation data.'''"
   ]
  },
  {
   "cell_type": "markdown",
   "metadata": {
    "id": "UYabzgSGYTp5"
   },
   "source": [
    "---"
   ]
  },
  {
   "cell_type": "markdown",
   "metadata": {
    "id": "4e5eiVLOYTp5"
   },
   "source": [
    "### Note\n",
    "\n",
    "If you don't have a GPU (level is higher than GTX 1060) or you are not good at setting lots of things about computer, we recommend you to use the [kaggle kernel](https://www.kaggle.com/kernels) to do deep learning model training. They have already installed all the librarys and provided free GPU for you to use.\n",
    "\n",
    "Note however that you will only be able to run a kernel for 6 hours. After 6 hours of inactivity, your Kaggle kernel will shut down (meaning if your model takes more than 6 hours to train, you can't train it at once).\n",
    "\n",
    "\n",
    "### More Information for your reference\n",
    "\n",
    "* Keras document: https://keras.io/\n",
    "* Keras GitHub example: https://github.com/keras-team/keras/tree/master/examples\n",
    "* CS229: Machine Learning: http://cs229.stanford.edu/syllabus.html\n",
    "* Deep Learning cheatsheet: https://stanford.edu/~shervine/teaching/cs-229/cheatsheet-deep-learning\n",
    "* If you want to try TensorFlow or PyTorch: https://pytorch.org/tutorials/\n",
    "https://www.tensorflow.org/tutorials/quickstart/beginner"
   ]
  },
  {
   "cell_type": "markdown",
   "metadata": {
    "id": "IESBq48MYTp5"
   },
   "source": [
    "---\n",
    "## 7. Word2Vector\n",
    "\n",
    "We will introduce how to use `gensim` to train your word2vec model and how to load a pre-trained model.\n",
    "\n",
    "https://radimrehurek.com/gensim/index.html"
   ]
  },
  {
   "cell_type": "markdown",
   "metadata": {
    "id": "KRSDMhQ5YTp5"
   },
   "source": [
    "### 7.1 Prepare training corpus"
   ]
  },
  {
   "cell_type": "code",
   "execution_count": 48,
   "metadata": {
    "colab": {
     "base_uri": "https://localhost:8080/",
     "height": 204
    },
    "executionInfo": {
     "elapsed": 1359,
     "status": "ok",
     "timestamp": 1733235024596,
     "user": {
      "displayName": "哲銘",
      "userId": "01517148372053884002"
     },
     "user_tz": -480
    },
    "id": "6aBYrovJYTp5",
    "outputId": "e65ded9b-80cf-4446-dfc3-4467c5e49449"
   },
   "outputs": [
    {
     "data": {
      "text/html": [
       "<div>\n",
       "<style scoped>\n",
       "    .dataframe tbody tr th:only-of-type {\n",
       "        vertical-align: middle;\n",
       "    }\n",
       "\n",
       "    .dataframe tbody tr th {\n",
       "        vertical-align: top;\n",
       "    }\n",
       "\n",
       "    .dataframe thead th {\n",
       "        text-align: right;\n",
       "    }\n",
       "</style>\n",
       "<table border=\"1\" class=\"dataframe\">\n",
       "  <thead>\n",
       "    <tr style=\"text-align: right;\">\n",
       "      <th></th>\n",
       "      <th>id</th>\n",
       "      <th>text</th>\n",
       "      <th>text_tokenized</th>\n",
       "    </tr>\n",
       "  </thead>\n",
       "  <tbody>\n",
       "    <tr>\n",
       "      <th>2975</th>\n",
       "      <td>40148</td>\n",
       "      <td>@CNN yes. Too many cops. And too many ppl who ...</td>\n",
       "      <td>[@, CNN, yes, ., Too, many, cops, ., And, too,...</td>\n",
       "    </tr>\n",
       "    <tr>\n",
       "      <th>351</th>\n",
       "      <td>10351</td>\n",
       "      <td>@TillTheEndMMVI I accidetly dumped boiling wat...</td>\n",
       "      <td>[@, TillTheEndMMVI, I, accidetly, dumped, boil...</td>\n",
       "    </tr>\n",
       "    <tr>\n",
       "      <th>1001</th>\n",
       "      <td>20144</td>\n",
       "      <td>@Budget  car rental you have made realize why ...</td>\n",
       "      <td>[@, Budget, car, rental, you, have, made, real...</td>\n",
       "    </tr>\n",
       "    <tr>\n",
       "      <th>607</th>\n",
       "      <td>10607</td>\n",
       "      <td>@UnknownAndYoung — a low growl escaping him. O...</td>\n",
       "      <td>[@, UnknownAndYoung, —, a, low, growl, escapin...</td>\n",
       "    </tr>\n",
       "    <tr>\n",
       "      <th>1892</th>\n",
       "      <td>21035</td>\n",
       "      <td>The radio just told me Lady GaGa is going coun...</td>\n",
       "      <td>[The, radio, just, told, me, Lady, GaGa, is, g...</td>\n",
       "    </tr>\n",
       "  </tbody>\n",
       "</table>\n",
       "</div>"
      ],
      "text/plain": [
       "         id                                               text  \\\n",
       "2975  40148  @CNN yes. Too many cops. And too many ppl who ...   \n",
       "351   10351  @TillTheEndMMVI I accidetly dumped boiling wat...   \n",
       "1001  20144  @Budget  car rental you have made realize why ...   \n",
       "607   10607  @UnknownAndYoung — a low growl escaping him. O...   \n",
       "1892  21035  The radio just told me Lady GaGa is going coun...   \n",
       "\n",
       "                                         text_tokenized  \n",
       "2975  [@, CNN, yes, ., Too, many, cops, ., And, too,...  \n",
       "351   [@, TillTheEndMMVI, I, accidetly, dumped, boil...  \n",
       "1001  [@, Budget, car, rental, you, have, made, real...  \n",
       "607   [@, UnknownAndYoung, —, a, low, growl, escapin...  \n",
       "1892  [The, radio, just, told, me, Lady, GaGa, is, g...  "
      ]
     },
     "execution_count": 48,
     "metadata": {},
     "output_type": "execute_result"
    }
   ],
   "source": [
    "## check library\n",
    "import gensim\n",
    "\n",
    "## ignore warnings\n",
    "import warnings\n",
    "warnings.filterwarnings('ignore')\n",
    "\n",
    "# # if you want to see the training messages, you can use it\n",
    "# import logging\n",
    "# logging.basicConfig(format='%(asctime)s : %(levelname)s : %(message)s', level=logging.INFO)\n",
    "\n",
    "## the input type\n",
    "train_df['text_tokenized'] = train_df['text'].apply(lambda x: nltk.word_tokenize(x))\n",
    "train_df[['id', 'text', 'text_tokenized']].head()"
   ]
  },
  {
   "cell_type": "code",
   "execution_count": 49,
   "metadata": {
    "colab": {
     "base_uri": "https://localhost:8080/"
    },
    "executionInfo": {
     "elapsed": 355,
     "status": "ok",
     "timestamp": 1733235026956,
     "user": {
      "displayName": "哲銘",
      "userId": "01517148372053884002"
     },
     "user_tz": -480
    },
    "id": "okFIEcmnYTp5",
    "outputId": "f773d28e-08aa-45bf-b9c9-b6c76dabe3e1"
   },
   "outputs": [
    {
     "data": {
      "text/plain": [
       "array([list(['@', 'CNN', 'yes', '.', 'Too', 'many', 'cops', '.', 'And', 'too', 'many', 'ppl', 'who', 'should', 'have', 'lost', 'their', 'lives', 'r', 'still', 'alive', '.']),\n",
       "       list(['@', 'TillTheEndMMVI', 'I', 'accidetly', 'dumped', 'boiling', 'water', 'my', 'myself', '😫']),\n",
       "       list(['@', 'Budget', 'car', 'rental', 'you', 'have', 'made', 'realize', 'why', 'I', 'always', 'use', '@', 'nationalcares', '!', '!', '!', '!', 'What', 'a', '#', 'nightmare', '!', '!', '#', 'disgusted'])],\n",
       "      dtype=object)"
      ]
     },
     "execution_count": 49,
     "metadata": {},
     "output_type": "execute_result"
    }
   ],
   "source": [
    "## create the training corpus\n",
    "training_corpus = train_df['text_tokenized'].values\n",
    "training_corpus[:3]"
   ]
  },
  {
   "cell_type": "markdown",
   "metadata": {
    "id": "dOgAriPRYTp5"
   },
   "source": [
    "### 7.2 Training our model\n",
    "\n",
    "You can try to train your own model. More details: https://radimrehurek.com/gensim/models/word2vec.html"
   ]
  },
  {
   "cell_type": "code",
   "execution_count": 50,
   "metadata": {
    "executionInfo": {
     "elapsed": 4152,
     "status": "ok",
     "timestamp": 1733235032529,
     "user": {
      "displayName": "哲銘",
      "userId": "01517148372053884002"
     },
     "user_tz": -480
    },
    "id": "72ZA54IDYTp5",
    "scrolled": true
   },
   "outputs": [],
   "source": [
    "from gensim.models import Word2Vec\n",
    "\n",
    "## setting\n",
    "vector_dim = 100\n",
    "window_size = 5\n",
    "min_count = 1\n",
    "training_epochs = 20\n",
    "\n",
    "## model\n",
    "word2vec_model = Word2Vec(sentences=training_corpus,\n",
    "                          vector_size=vector_dim, window=window_size,\n",
    "                          min_count=min_count, epochs=training_epochs)"
   ]
  },
  {
   "cell_type": "markdown",
   "metadata": {
    "id": "ob0Molb3YTp5"
   },
   "source": [
    "![Imgur](https://i.imgur.com/Fca3MCs.png)"
   ]
  },
  {
   "cell_type": "markdown",
   "metadata": {
    "id": "E0jjvjN5YTp5"
   },
   "source": [
    "### 7.3 Generating word vector (embeddings)"
   ]
  },
  {
   "cell_type": "code",
   "execution_count": 51,
   "metadata": {
    "colab": {
     "base_uri": "https://localhost:8080/"
    },
    "executionInfo": {
     "elapsed": 324,
     "status": "ok",
     "timestamp": 1733235035363,
     "user": {
      "displayName": "哲銘",
      "userId": "01517148372053884002"
     },
     "user_tz": -480
    },
    "id": "4ejofZfCYTp5",
    "outputId": "a10b3005-7b9b-43b2-e151-94d9fcd67b55"
   },
   "outputs": [
    {
     "data": {
      "text/plain": [
       "array([ 0.5349063 ,  0.18904999, -0.00997998,  0.49841905,  0.03164679,\n",
       "       -1.3775834 ,  0.7766546 ,  1.3534648 , -0.46179312, -1.0117984 ,\n",
       "       -0.47330576, -0.85295266, -0.7344514 ,  0.6518998 ,  0.10975093,\n",
       "       -0.28931704,  0.04801757, -0.48036408,  0.11208061, -0.92621547,\n",
       "        0.41944164,  0.6139344 ,  0.44282877,  0.11177742,  0.33022732,\n",
       "        0.108059  , -0.35934538,  0.55680394, -0.7049209 , -0.14216207,\n",
       "        0.5925887 , -0.21641907,  0.61559314, -0.48164034, -0.00980913,\n",
       "       -0.0595425 ,  0.49356478, -0.08867939, -0.21532984, -0.8008098 ,\n",
       "       -0.13035361,  0.13297626, -0.26993647,  0.34537613,  0.7702056 ,\n",
       "       -0.22769347, -0.77710414, -0.22872484,  0.6544502 ,  0.5310027 ,\n",
       "       -0.04876334, -0.5469799 , -0.3732001 , -0.28766602, -0.4446935 ,\n",
       "       -0.1143992 ,  0.00675528,  0.27823758, -0.18460582,  0.18170732,\n",
       "       -0.17412782, -0.0597061 ,  0.5923286 , -0.01717739, -0.8111549 ,\n",
       "        0.6257455 ,  0.0819337 ,  0.73888165, -1.4101914 ,  0.4722598 ,\n",
       "       -0.13097398,  0.9371601 ,  0.9021179 , -0.6981642 ,  0.28603435,\n",
       "        0.0426411 ,  0.6422075 ,  0.08306431, -0.46977577,  0.09807505,\n",
       "       -0.7739226 , -0.19279042, -0.40001878,  0.8456505 ,  0.04854396,\n",
       "       -0.6346907 ,  0.60749173,  0.35288396, -0.06040706,  0.4800014 ,\n",
       "        0.39419562,  0.9198239 ,  0.25358438,  0.11037948,  1.0690322 ,\n",
       "       -0.47205302,  0.4582998 ,  0.2555327 ,  0.32170936, -0.08073891],\n",
       "      dtype=float32)"
      ]
     },
     "execution_count": 51,
     "metadata": {},
     "output_type": "execute_result"
    }
   ],
   "source": [
    "# get the corresponding vector of a word\n",
    "word_vec = word2vec_model.wv['happy']\n",
    "word_vec"
   ]
  },
  {
   "cell_type": "code",
   "execution_count": 52,
   "metadata": {
    "colab": {
     "base_uri": "https://localhost:8080/"
    },
    "executionInfo": {
     "elapsed": 304,
     "status": "ok",
     "timestamp": 1733235036684,
     "user": {
      "displayName": "哲銘",
      "userId": "01517148372053884002"
     },
     "user_tz": -480
    },
    "id": "9dUSkCscYTp5",
    "outputId": "a3cab58f-71e1-4909-9b81-9a1b065ad8fd"
   },
   "outputs": [
    {
     "data": {
      "text/plain": [
       "[('birthday', 0.9363282918930054),\n",
       " ('Makes', 0.9249094128608704),\n",
       " ('blessed', 0.9204970002174377),\n",
       " ('bday', 0.9197599291801453),\n",
       " ('Be', 0.913170576095581),\n",
       " ('help', 0.9083749651908875),\n",
       " ('keeping', 0.9064867496490479),\n",
       " ('ampalaya', 0.9028218388557434),\n",
       " ('cats', 0.9017587900161743),\n",
       " (\"'you\", 0.9016640186309814)]"
      ]
     },
     "execution_count": 52,
     "metadata": {},
     "output_type": "execute_result"
    }
   ],
   "source": [
    "# Get the most similar words\n",
    "word = 'happy'\n",
    "topn = 10\n",
    "word2vec_model.wv.most_similar(word, topn=topn)"
   ]
  },
  {
   "cell_type": "markdown",
   "metadata": {
    "id": "zuQvZVJvYTp5"
   },
   "source": [
    "### 7.4 Using a pre-trained w2v model\n",
    "\n",
    "Instead of training your own model ,you can use a model that has already been trained. Here, we see 2 ways of doing that:\n",
    "\n",
    "\n",
    "#### (1) Download model by yourself\n",
    "\n",
    "source: [GoogleNews-vectors-negative300](https://code.google.com/archive/p/word2vec/)\n",
    "\n",
    "more details: https://radimrehurek.com/gensim/models/keyedvectors.html"
   ]
  },
  {
   "cell_type": "code",
   "execution_count": 53,
   "metadata": {
    "colab": {
     "base_uri": "https://localhost:8080/"
    },
    "executionInfo": {
     "elapsed": 26766,
     "status": "ok",
     "timestamp": 1733235075798,
     "user": {
      "displayName": "哲銘",
      "userId": "01517148372053884002"
     },
     "user_tz": -480
    },
    "id": "eTCl1sVBxE9C",
    "outputId": "d36ad519-7a08-42e6-c0c2-10e4b5ee06ff"
   },
   "outputs": [
    {
     "name": "stdout",
     "output_type": "stream",
     "text": [
      "Download complete!\n"
     ]
    }
   ],
   "source": [
    "import requests\n",
    "import os\n",
    "# # Define the Hugging Face file URL\n",
    "# file_url = \"https://huggingface.co/LoganKilpatrick/GoogleNews-vectors-negative300/resolve/main/GoogleNews-vectors-negative300.bin.gz\"\n",
    "# output_path = \"./GoogleNews/GoogleNews-vectors-negative300.bin.gz\"\n",
    "\n",
    "# # Ensure the destination directory exists\n",
    "# os.makedirs(os.path.dirname(output_path), exist_ok=True)\n",
    "\n",
    "# # Download the file\n",
    "# response = requests.get(file_url, stream=True)\n",
    "# with open(output_path, \"wb\") as f:\n",
    "#     for chunk in response.iter_content(chunk_size=8192):\n",
    "#         if chunk:  # Filter out keep-alive chunks\n",
    "#             f.write(chunk)\n",
    "\n",
    "print(\"Download complete!\")\n"
   ]
  },
  {
   "cell_type": "code",
   "execution_count": 54,
   "metadata": {
    "colab": {
     "base_uri": "https://localhost:8080/"
    },
    "executionInfo": {
     "elapsed": 74373,
     "status": "ok",
     "timestamp": 1733235153092,
     "user": {
      "displayName": "哲銘",
      "userId": "01517148372053884002"
     },
     "user_tz": -480
    },
    "id": "bdH9E9auYTp5",
    "outputId": "3a65904a-bf38-4fd4-849a-e33a974e6e90"
   },
   "outputs": [
    {
     "name": "stdout",
     "output_type": "stream",
     "text": [
      "load ok\n"
     ]
    },
    {
     "data": {
      "text/plain": [
       "[('glad', 0.7408890724182129),\n",
       " ('pleased', 0.6632170677185059),\n",
       " ('ecstatic', 0.6626912355422974),\n",
       " ('overjoyed', 0.6599286794662476),\n",
       " ('thrilled', 0.6514049172401428),\n",
       " ('satisfied', 0.6437949538230896),\n",
       " ('proud', 0.636042058467865),\n",
       " ('delighted', 0.6272379159927368),\n",
       " ('disappointed', 0.6269949674606323),\n",
       " ('excited', 0.6247665882110596)]"
      ]
     },
     "execution_count": 54,
     "metadata": {},
     "output_type": "execute_result"
    }
   ],
   "source": [
    "from gensim.models import KeyedVectors\n",
    "\n",
    "## Note: this model is very huge, this will take some time ...\n",
    "model_path = \"GoogleNews/GoogleNews-vectors-negative300.bin.gz\"\n",
    "w2v_google_model = KeyedVectors.load_word2vec_format(model_path, binary=True)\n",
    "print('load ok')\n",
    "\n",
    "w2v_google_model.most_similar('happy', topn=10)"
   ]
  },
  {
   "cell_type": "markdown",
   "metadata": {
    "id": "NdQ9ul0eYTp5"
   },
   "source": [
    "#### (2) Using gensim api\n",
    "\n",
    "Other pretrained models are available here: https://github.com/RaRe-Technologies/gensim-data"
   ]
  },
  {
   "cell_type": "code",
   "execution_count": 55,
   "metadata": {
    "colab": {
     "base_uri": "https://localhost:8080/"
    },
    "executionInfo": {
     "elapsed": 38252,
     "status": "ok",
     "timestamp": 1733235193711,
     "user": {
      "displayName": "哲銘",
      "userId": "01517148372053884002"
     },
     "user_tz": -480
    },
    "id": "oIxHpNB6YTp5",
    "outputId": "f4b12d0d-d2a3-4852-829c-28a338d6fba8"
   },
   "outputs": [
    {
     "name": "stdout",
     "output_type": "stream",
     "text": [
      "load ok\n"
     ]
    },
    {
     "data": {
      "text/plain": [
       "[('birthday', 0.9577818512916565),\n",
       " ('thank', 0.937666654586792),\n",
       " ('welcome', 0.93361496925354),\n",
       " ('love', 0.917618453502655),\n",
       " ('miss', 0.9164499640464783),\n",
       " ('hello', 0.9158352017402649),\n",
       " ('thanks', 0.9150084853172302),\n",
       " ('merry', 0.9053248167037964),\n",
       " ('bless', 0.902732253074646),\n",
       " ('wish', 0.9013165235519409)]"
      ]
     },
     "execution_count": 55,
     "metadata": {},
     "output_type": "execute_result"
    }
   ],
   "source": [
    "import gensim.downloader as api\n",
    "\n",
    "## If you see `SSL: CERTIFICATE_VERIFY_FAILED` error, use this:\n",
    "import ssl\n",
    "import urllib.request\n",
    "ssl._create_default_https_context = ssl._create_unverified_context\n",
    "\n",
    "glove_twitter_25_model = api.load(\"glove-twitter-25\")\n",
    "print('load ok')\n",
    "\n",
    "glove_twitter_25_model.most_similar('happy', topn=10)"
   ]
  },
  {
   "cell_type": "markdown",
   "metadata": {
    "id": "GCNDNqeXYTp5"
   },
   "source": [
    "### 7.5 king + woman - man = ?"
   ]
  },
  {
   "cell_type": "markdown",
   "metadata": {
    "id": "_GtCRr_7YTp5"
   },
   "source": [
    "Let's run one of the most famous examples for Word2Vec and compute the similarity between these 3 words:"
   ]
  },
  {
   "cell_type": "code",
   "execution_count": 56,
   "metadata": {
    "colab": {
     "base_uri": "https://localhost:8080/"
    },
    "executionInfo": {
     "elapsed": 595,
     "status": "ok",
     "timestamp": 1733234148569,
     "user": {
      "displayName": "哲銘",
      "userId": "01517148372053884002"
     },
     "user_tz": -480
    },
    "id": "Zew7m_kIYTp5",
    "outputId": "c25b6c50-8c43-462a-ca4e-18fc1f7e6a39"
   },
   "outputs": [
    {
     "data": {
      "text/plain": [
       "[('queen', 0.7118193507194519),\n",
       " ('monarch', 0.6189674735069275),\n",
       " ('princess', 0.5902431011199951),\n",
       " ('crown_prince', 0.5499460697174072),\n",
       " ('prince', 0.5377321243286133),\n",
       " ('kings', 0.5236844420433044),\n",
       " ('Queen_Consort', 0.5235945582389832),\n",
       " ('queens', 0.518113374710083),\n",
       " ('sultan', 0.5098593831062317),\n",
       " ('monarchy', 0.5087411999702454)]"
      ]
     },
     "execution_count": 56,
     "metadata": {},
     "output_type": "execute_result"
    }
   ],
   "source": [
    "w2v_google_model.most_similar(positive=['king', 'woman'], negative=['man'])"
   ]
  },
  {
   "cell_type": "markdown",
   "metadata": {
    "id": "y3RQVnBOYTp5"
   },
   "source": [
    "---\n",
    "### ** >>> Exercise 7 (Take home): **  \n",
    "\n",
    "Now, we have the word vectors, but our input data is a sequence of words (or say sentence).\n",
    "How can we utilize these \"word\" vectors to represent the sentence data and train our model?\n"
   ]
  },
  {
   "cell_type": "code",
   "execution_count": 57,
   "metadata": {
    "colab": {
     "base_uri": "https://localhost:8080/"
    },
    "executionInfo": {
     "elapsed": 10,
     "status": "ok",
     "timestamp": 1733235230886,
     "user": {
      "displayName": "哲銘",
      "userId": "01517148372053884002"
     },
     "user_tz": -480
    },
    "id": "TBwRT93DYTp5",
    "outputId": "9beb7129-f02b-45d7-d555-d84afd53e22c"
   },
   "outputs": [
    {
     "data": {
      "text/plain": [
       "array([-9.53369141e-02, -1.27258301e-02,  6.03942871e-02,  6.42299652e-02,\n",
       "        1.44042969e-02,  6.29425049e-05, -5.74340820e-02, -1.00952148e-01,\n",
       "       -5.12084961e-02, -9.33227539e-02,  7.14111328e-03, -1.18881226e-01,\n",
       "       -3.97949219e-02, -1.42700195e-01, -1.65527344e-01,  7.78808594e-02,\n",
       "       -4.90417480e-02,  1.91345215e-02,  2.14233398e-02, -1.27586365e-01,\n",
       "       -1.19247437e-02,  3.07312012e-02, -1.56860352e-02,  6.37817383e-02,\n",
       "        4.66308594e-02, -7.47375488e-02, -8.48388672e-02, -5.78765869e-02,\n",
       "       -6.65588379e-02, -1.40686035e-02, -8.20312500e-02, -1.22558594e-01,\n",
       "       -8.83789062e-02, -1.51062012e-01, -9.52148438e-02, -6.04858398e-02,\n",
       "        2.57568359e-02,  1.62570000e-01,  2.96783447e-02, -2.79235840e-03,\n",
       "        1.27319336e-01, -3.63464355e-02, -4.07104492e-02,  1.26953125e-01,\n",
       "       -1.21398926e-01, -1.25610352e-01, -6.46972656e-02,  1.45721436e-02,\n",
       "       -3.90014648e-02,  7.54547119e-02, -1.10717773e-01,  3.02734375e-02,\n",
       "       -2.68554688e-02, -1.53015137e-01, -1.08337402e-01, -3.61595154e-02,\n",
       "       -7.68280029e-02, -1.77856445e-01,  4.60205078e-02, -3.05633545e-02,\n",
       "        7.18383789e-02, -1.60522461e-02, -2.72369385e-03, -9.31396484e-02,\n",
       "       -1.10717773e-01, -7.82546997e-02, -1.47972107e-02,  1.18896484e-01,\n",
       "       -7.54394531e-02, -3.16314697e-02,  6.48193359e-02,  6.95724487e-02,\n",
       "        1.30035400e-01, -9.07592773e-02, -8.03909302e-02,  7.41271973e-02,\n",
       "        1.12762451e-02, -4.37927246e-02, -8.99810791e-02, -4.90722656e-02,\n",
       "       -5.72204590e-04,  3.93676758e-02,  1.05468750e-01,  2.09350586e-02,\n",
       "        4.06036377e-02, -3.63502502e-02, -7.37915039e-02,  2.13134766e-01,\n",
       "        4.72869873e-02,  6.79931641e-02, -7.52105713e-02, -3.07617188e-02,\n",
       "       -1.54113770e-02, -6.67800903e-02, -4.70809937e-02,  9.03549194e-02,\n",
       "       -3.83300781e-02,  1.66015625e-02, -1.66625977e-02,  6.35375977e-02,\n",
       "        5.85327148e-02, -1.86523438e-01, -4.49905396e-02, -1.71142578e-01,\n",
       "        1.81274414e-02, -7.39746094e-02, -3.69262695e-02, -1.85546875e-02,\n",
       "        2.53295898e-02, -1.17767334e-01, -1.32446289e-02,  1.31652832e-01,\n",
       "       -3.24096680e-02, -4.76226807e-02,  6.86340332e-02,  1.61376953e-01,\n",
       "       -1.37207031e-01, -1.06567383e-01,  1.08398438e-01, -1.23901367e-02,\n",
       "       -1.58447266e-01, -7.55310059e-02, -1.06323242e-01,  2.84500122e-02,\n",
       "        1.59484863e-01, -9.99145508e-02, -1.18408203e-02,  4.28771973e-02,\n",
       "        1.29333496e-01, -7.32421875e-03,  4.63256836e-02,  2.25830078e-02,\n",
       "       -9.45434570e-02, -6.95190430e-02,  2.04467773e-03, -3.16162109e-02,\n",
       "        8.77990723e-02,  1.33636475e-01,  2.51464844e-02,  2.36145020e-01,\n",
       "        8.69750977e-04, -2.98461914e-02, -3.53698730e-02, -1.79748535e-02,\n",
       "       -1.56311035e-01, -4.15802002e-02,  4.34570312e-02,  1.42944336e-01,\n",
       "       -2.14996338e-02, -7.08007812e-03,  2.12890625e-01,  2.36816406e-02,\n",
       "       -7.96813965e-02,  1.84326172e-01, -1.90429688e-01, -1.79595947e-02,\n",
       "        4.27246094e-04,  2.13623047e-04, -8.81958008e-02,  1.03538513e-01,\n",
       "        5.46569824e-02,  1.40380859e-03,  1.27212524e-01,  4.61425781e-02,\n",
       "       -6.36596680e-02,  1.02874756e-01,  2.97119141e-01,  1.24588013e-02,\n",
       "       -8.88977051e-02, -3.73687744e-02, -6.95800781e-03, -1.06109619e-01,\n",
       "       -8.83483887e-02, -1.72119141e-02,  6.82983398e-02, -1.58996582e-02,\n",
       "       -5.36193848e-02, -9.15832520e-02, -8.04443359e-02, -6.71386719e-04,\n",
       "        1.29394531e-02, -3.26538086e-02, -2.25067139e-02,  4.88891602e-02,\n",
       "        4.40673828e-02,  1.40380859e-02,  9.05151367e-02, -2.05078125e-02,\n",
       "        1.21093750e-01,  2.16064453e-02,  3.07617188e-02, -8.34960938e-02,\n",
       "        6.12182617e-02, -9.94644165e-02,  2.14233398e-02, -6.12792969e-02,\n",
       "        1.86706543e-01, -7.64160156e-02, -7.95438886e-04, -5.77392578e-02,\n",
       "       -1.32690430e-01,  1.41296387e-01,  3.77655029e-02, -2.28271484e-02,\n",
       "       -1.23153687e-01, -5.51757812e-02, -2.56347656e-02,  1.51367188e-02,\n",
       "        7.72094727e-02, -3.82690430e-02,  1.09863281e-02, -5.99365234e-02,\n",
       "       -1.33544922e-01, -4.51660156e-03, -5.90820312e-02,  7.02514648e-02,\n",
       "        5.28564453e-02,  9.84954834e-03, -2.21405029e-02, -8.64257812e-02,\n",
       "       -5.81665039e-02,  7.32116699e-02,  6.96716309e-02, -1.24511719e-02,\n",
       "        2.23388672e-02, -4.54101562e-02, -1.24023438e-01,  6.09588623e-02,\n",
       "       -4.51049805e-02, -5.75637817e-02, -1.45874023e-02,  2.01721191e-02,\n",
       "       -8.00323486e-02, -7.56835938e-03, -2.05993652e-03, -3.46069336e-02,\n",
       "        1.23138428e-01, -4.99267578e-02, -1.51367188e-02,  1.08032227e-02,\n",
       "        2.55737305e-02,  4.34570312e-02,  1.06323242e-01, -2.62145996e-02,\n",
       "        6.43005371e-02, -1.37733459e-01, -8.69140625e-02,  7.20214844e-03,\n",
       "        1.19018555e-01, -8.69750977e-02, -9.19189453e-02,  6.90917969e-02,\n",
       "        1.55029297e-02,  3.85017395e-02, -5.73730469e-03,  2.60009766e-02,\n",
       "       -7.07092285e-02, -9.17358398e-02, -1.39648438e-01, -1.32960320e-01,\n",
       "        1.91650391e-02, -7.67593384e-02, -6.78253174e-02,  1.47094727e-02,\n",
       "        4.25567627e-02,  1.31469727e-01, -3.06396484e-02, -1.23168945e-01,\n",
       "       -5.96923828e-02,  4.16259766e-02,  1.05216980e-01, -1.48941040e-01,\n",
       "        5.43212891e-03, -6.46972656e-02,  2.19726562e-02, -5.54809570e-02,\n",
       "       -8.75854492e-02, -6.79931641e-02, -8.51440430e-03, -8.66317749e-03,\n",
       "        7.50732422e-02,  4.55322266e-02,  7.32421875e-02,  5.72204590e-02,\n",
       "        1.83105469e-02,  3.87573242e-03,  3.24707031e-02, -2.09350586e-02,\n",
       "        8.55674744e-02,  5.67626953e-02, -7.46765137e-02, -7.69042969e-03,\n",
       "       -1.32629395e-01,  1.61254883e-01,  2.85186768e-02, -8.64410400e-02,\n",
       "       -1.90917969e-01, -2.13623047e-03, -3.65295410e-02,  9.19799805e-02],\n",
       "      dtype=float32)"
      ]
     },
     "execution_count": 57,
     "metadata": {},
     "output_type": "execute_result"
    }
   ],
   "source": [
    "# Answer here\n",
    "import numpy as np\n",
    "\n",
    "def sentence_to_vector(sentence, model):\n",
    "    words = sentence.split()\n",
    "    word_vectors = [model[word] for word in words if word in model]\n",
    "    if len(word_vectors) == 0:\n",
    "        return np.zeros(model.vector_size)\n",
    "    return np.mean(word_vectors, axis=0)\n",
    "\n",
    "# Example\n",
    "sentence = \"DM 2024 lab 2 master .ipynb\"\n",
    "sentence_vector = sentence_to_vector(sentence, w2v_google_model)\n",
    "sentence_vector"
   ]
  },
  {
   "cell_type": "markdown",
   "metadata": {
    "id": "LrK7O1KDYTp5"
   },
   "source": [
    "## 8. Clustering: k-means\n",
    "\n",
    "Here we introduce how to use `sklearn` to do the basic **unsupervised learning** approach, k-means.    \n",
    "\n",
    "more details: http://scikit-learn.org/stable/modules/generated/sklearn.cluster.KMeans.html\n"
   ]
  },
  {
   "cell_type": "markdown",
   "metadata": {
    "id": "Hr8_IxwBYTp5"
   },
   "source": [
    "#### Basic concept\n",
    "\n",
    "![Image](https://i.imgur.com/PEdUf54.png)\n",
    "\n",
    "(img source: https://towardsdatascience.com/k-means-clustering-identifying-f-r-i-e-n-d-s-in-the-world-of-strangers-695537505d)"
   ]
  },
  {
   "cell_type": "code",
   "execution_count": 58,
   "metadata": {
    "colab": {
     "base_uri": "https://localhost:8080/"
    },
    "executionInfo": {
     "elapsed": 338,
     "status": "ok",
     "timestamp": 1733235234311,
     "user": {
      "displayName": "哲銘",
      "userId": "01517148372053884002"
     },
     "user_tz": -480
    },
    "id": "6heUPVwWYTp5",
    "outputId": "57f8ef56-a102-420a-b3c8-5a012422d462"
   },
   "outputs": [
    {
     "name": "stdout",
     "output_type": "stream",
     "text": [
      "target words:  ['happy', 'fear', 'angry', 'car', 'teacher', 'computer']\n"
     ]
    }
   ],
   "source": [
    "# clustering target\n",
    "target_list = ['happy', 'fear', 'angry', 'car', 'teacher', 'computer']\n",
    "print('target words: ', target_list)\n",
    "\n",
    "# convert to word vector\n",
    "X = [word2vec_model.wv[word] for word in target_list]"
   ]
  },
  {
   "cell_type": "code",
   "execution_count": 59,
   "metadata": {
    "colab": {
     "base_uri": "https://localhost:8080/"
    },
    "executionInfo": {
     "elapsed": 350,
     "status": "ok",
     "timestamp": 1733235235641,
     "user": {
      "displayName": "哲銘",
      "userId": "01517148372053884002"
     },
     "user_tz": -480
    },
    "id": "E9t_sJrvYTp5",
    "outputId": "5b27b1a5-dc6c-4f28-efe5-73c1de5672e6"
   },
   "outputs": [
    {
     "name": "stdout",
     "output_type": "stream",
     "text": [
      "word: happy \t cluster: 0\n",
      "word: fear \t cluster: 0\n",
      "word: angry \t cluster: 0\n",
      "word: car \t cluster: 1\n",
      "word: teacher \t cluster: 1\n",
      "word: computer \t cluster: 1\n"
     ]
    }
   ],
   "source": [
    "from sklearn.cluster import KMeans\n",
    "\n",
    "# we have to decide how many cluster (k) we want\n",
    "k = 2\n",
    "\n",
    "# k-means model\n",
    "kmeans_model = KMeans(n_clusters=k)\n",
    "kmeans_model.fit(X)\n",
    "\n",
    "# cluster result\n",
    "cluster_result = kmeans_model.labels_\n",
    "\n",
    "# show\n",
    "for i in range(len(target_list)):\n",
    "    print('word: {} \\t cluster: {}'.format(target_list[i], cluster_result[i]))"
   ]
  },
  {
   "cell_type": "markdown",
   "metadata": {
    "id": "QcDTL7kRYTp5"
   },
   "source": [
    "![Dataset Overview](./pics/pic6.png)"
   ]
  },
  {
   "cell_type": "code",
   "execution_count": 60,
   "metadata": {
    "colab": {
     "base_uri": "https://localhost:8080/"
    },
    "executionInfo": {
     "elapsed": 3,
     "status": "ok",
     "timestamp": 1733235237361,
     "user": {
      "displayName": "哲銘",
      "userId": "01517148372053884002"
     },
     "user_tz": -480
    },
    "id": "NIMFax_uYTp5",
    "outputId": "ec751c5b-a4c9-4a35-f2a1-b974053698f1"
   },
   "outputs": [
    {
     "data": {
      "text/plain": [
       "array([1])"
      ]
     },
     "execution_count": 60,
     "metadata": {},
     "output_type": "execute_result"
    }
   ],
   "source": [
    "#check cluster membership\n",
    "word = 'student'\n",
    "word_vec = word2vec_model.wv[word]\n",
    "kmeans_model.predict([word_vec])"
   ]
  },
  {
   "cell_type": "code",
   "execution_count": 61,
   "metadata": {
    "colab": {
     "base_uri": "https://localhost:8080/"
    },
    "executionInfo": {
     "elapsed": 3,
     "status": "ok",
     "timestamp": 1733235238437,
     "user": {
      "displayName": "哲銘",
      "userId": "01517148372053884002"
     },
     "user_tz": -480
    },
    "id": "vIDuLDOlYTp5",
    "outputId": "4b68954a-ed33-4d4e-fe39-24eeb8650659"
   },
   "outputs": [
    {
     "data": {
      "text/plain": [
       "array([0])"
      ]
     },
     "execution_count": 61,
     "metadata": {},
     "output_type": "execute_result"
    }
   ],
   "source": [
    "#check cluster membership\n",
    "word = 'sad'\n",
    "word_vec = word2vec_model.wv[word]\n",
    "kmeans_model.predict([word_vec])"
   ]
  },
  {
   "cell_type": "markdown",
   "metadata": {
    "id": "cZOEGH3GYTp5"
   },
   "source": [
    "\n",
    "## 9. High-dimension Visualization: t-SNE and UMAP\n",
    "\n",
    "No matter if you use the Bag-of-words, TF-IDF, or Word2Vec, it's very hard to see the embedding result, because the dimension is larger than 3.  \n",
    "\n",
    "In Lab 1, we already talked about PCA, t-SNE and UMAP. We can use PCA to reduce the dimension of our data, then visualize it. However, if you dig deeper into the result, you'd find it is insufficient.\n",
    "\n",
    "Our aim will be to create a visualization similar to the one below with t-SNE:"
   ]
  },
  {
   "cell_type": "markdown",
   "metadata": {
    "id": "4FeIFzzxYTp5"
   },
   "source": [
    "  "
   ]
  },
  {
   "cell_type": "markdown",
   "metadata": {
    "id": "3-JR-rqyYTp5"
   },
   "source": [
    "![Dataset Overview](./pics/pic7.png)\n",
    "\n",
    "source: https://www.fabian-keller.de/research/high-dimensional-data-visualization"
   ]
  },
  {
   "cell_type": "markdown",
   "metadata": {
    "id": "wUTnLfcmTBa_"
   },
   "source": [
    "And also like this for UMAP:\n",
    "![Dataset Overview](./pics/pic9.png)\n",
    "\n",
    "source: https://umap-learn.readthedocs.io/en/latest/auto_examples/plot_mnist_example.html"
   ]
  },
  {
   "cell_type": "markdown",
   "metadata": {
    "id": "KCFR771SYTp5"
   },
   "source": [
    "  "
   ]
  },
  {
   "cell_type": "markdown",
   "metadata": {
    "id": "tmdbJbjxYTp5"
   },
   "source": [
    "t-SNE and UMAP reference:  \n",
    "http://scikit-learn.org/stable/modules/generated/sklearn.manifold.TSNE.html\n",
    "https://umap-learn.readthedocs.io/en/latest/"
   ]
  },
  {
   "cell_type": "markdown",
   "metadata": {
    "id": "MU8eeDnGYTp5"
   },
   "source": [
    "### 9.1 Prepare visualizing target"
   ]
  },
  {
   "cell_type": "markdown",
   "metadata": {
    "id": "T9IHcP3VYTp5"
   },
   "source": [
    "Let's prepare data lists like:\n",
    "- happy words\n",
    "- angry words\n",
    "- data words\n",
    "- mining words"
   ]
  },
  {
   "cell_type": "code",
   "execution_count": 62,
   "metadata": {
    "colab": {
     "base_uri": "https://localhost:8080/"
    },
    "executionInfo": {
     "elapsed": 2002,
     "status": "ok",
     "timestamp": 1733235245986,
     "user": {
      "displayName": "哲銘",
      "userId": "01517148372053884002"
     },
     "user_tz": -480
    },
    "id": "L9il5L7pYTp5",
    "outputId": "d53a4163-5a06-4ca2-e0ae-e4508142ed43"
   },
   "outputs": [
    {
     "name": "stdout",
     "output_type": "stream",
     "text": [
      "happy_words:  ['happy', 'glad', 'pleased', 'ecstatic', 'overjoyed', 'thrilled']\n",
      "angry_words:  ['angry', 'irate', 'enraged', 'indignant', 'incensed', 'annoyed']\n",
      "data_words:  ['data', 'Data', 'datasets', 'dataset', 'databases', 'statistics']\n",
      "mining_words:  ['mining', 'Mining', 'mines', 'coal_mining', 'mine', 'miner']\n",
      "\n",
      "target words: \n",
      "['happy', 'glad', 'pleased', 'ecstatic', 'overjoyed', 'thrilled', 'angry', 'irate', 'enraged', 'indignant', 'incensed', 'annoyed', 'data', 'Data', 'datasets', 'dataset', 'databases', 'statistics', 'mining', 'Mining', 'mines', 'coal_mining', 'mine', 'miner']\n",
      "\n",
      "color list:\n",
      "['b', 'b', 'b', 'b', 'b', 'b', 'g', 'g', 'g', 'g', 'g', 'g', 'r', 'r', 'r', 'r', 'r', 'r', 'y', 'y', 'y', 'y', 'y', 'y']\n"
     ]
    }
   ],
   "source": [
    "word_list = ['happy', 'angry', 'data', 'mining']\n",
    "\n",
    "topn = 5\n",
    "happy_words = ['happy'] + [word_ for word_, sim_ in w2v_google_model.most_similar('happy', topn=topn)]\n",
    "angry_words = ['angry'] + [word_ for word_, sim_ in w2v_google_model.most_similar('angry', topn=topn)]\n",
    "data_words = ['data'] + [word_ for word_, sim_ in w2v_google_model.most_similar('data', topn=topn)]\n",
    "mining_words = ['mining'] + [word_ for word_, sim_ in w2v_google_model.most_similar('mining', topn=topn)]\n",
    "\n",
    "print('happy_words: ', happy_words)\n",
    "print('angry_words: ', angry_words)\n",
    "print('data_words: ', data_words)\n",
    "print('mining_words: ', mining_words)\n",
    "\n",
    "target_words = happy_words + angry_words + data_words + mining_words\n",
    "print('\\ntarget words: ')\n",
    "print(target_words)\n",
    "\n",
    "print('\\ncolor list:')\n",
    "cn = topn + 1\n",
    "color = ['b'] * cn + ['g'] * cn + ['r'] * cn + ['y'] * cn\n",
    "print(color)"
   ]
  },
  {
   "cell_type": "code",
   "execution_count": null,
   "metadata": {},
   "outputs": [],
   "source": []
  },
  {
   "cell_type": "markdown",
   "metadata": {
    "id": "zKa5LRxbYTp5"
   },
   "source": [
    "### 9.2 Plot using t-SNE and UMAP (2-dimension)"
   ]
  },
  {
   "cell_type": "code",
   "execution_count": 63,
   "metadata": {
    "colab": {
     "base_uri": "https://localhost:8080/",
     "height": 730
    },
    "executionInfo": {
     "elapsed": 2377,
     "status": "ok",
     "timestamp": 1733235251172,
     "user": {
      "displayName": "哲銘",
      "userId": "01517148372053884002"
     },
     "user_tz": -480
    },
    "id": "CJlljN2gYTp5",
    "outputId": "6ecc7155-9822-4127-a3d4-c40cfe03e84d"
   },
   "outputs": [
    {
     "data": {
      "image/png": "[encoded data removed]",
      "text/plain": [
       "<Figure size 862.5x862.5 with 1 Axes>"
      ]
     },
     "metadata": {},
     "output_type": "display_data"
    }
   ],
   "source": [
    "%matplotlib inline\n",
    "import matplotlib.pyplot as plt\n",
    "from sklearn.manifold import TSNE\n",
    "\n",
    "## w2v model\n",
    "model = w2v_google_model\n",
    "\n",
    "## prepare training word vectors\n",
    "size = 200\n",
    "target_size = len(target_words)\n",
    "all_word = list(model.index_to_key)\n",
    "word_train = target_words + all_word[:size]\n",
    "X_train = model[word_train]\n",
    "\n",
    "## t-SNE model\n",
    "tsne = TSNE(n_components=2, metric='cosine', random_state=28)\n",
    "\n",
    "## training\n",
    "X_tsne = tsne.fit_transform(X_train)\n",
    "\n",
    "## plot the result\n",
    "plt.figure(figsize=(7.5, 7.5), dpi=115)\n",
    "plt.scatter(X_tsne[:target_size, 0], X_tsne[:target_size, 1], c=color)\n",
    "for label, x, y in zip(target_words, X_tsne[:target_size, 0], X_tsne[:target_size, 1]):\n",
    "    plt.annotate(label, xy=(x,y), xytext=(0,0),  textcoords='offset points')\n",
    "plt.show()"
   ]
  },
  {
   "cell_type": "code",
   "execution_count": 64,
   "metadata": {
    "colab": {
     "base_uri": "https://localhost:8080/",
     "height": 730
    },
    "executionInfo": {
     "elapsed": 30758,
     "status": "ok",
     "timestamp": 1733235286172,
     "user": {
      "displayName": "哲銘",
      "userId": "01517148372053884002"
     },
     "user_tz": -480
    },
    "id": "Pau4mqqyTBbA",
    "outputId": "7a22c70c-02f8-4575-b903-ed08618aa482"
   },
   "outputs": [
    {
     "data": {
      "image/png": "[encoded data removed]",
      "text/plain": [
       "<Figure size 862.5x862.5 with 1 Axes>"
      ]
     },
     "metadata": {},
     "output_type": "display_data"
    }
   ],
   "source": [
    "# !pip install umap-learn\n",
    "import matplotlib.pyplot as plt\n",
    "import umap.umap_ as umap\n",
    "\n",
    "## w2v model\n",
    "model = w2v_google_model\n",
    "\n",
    "## prepare training word vectors\n",
    "size = 200\n",
    "target_size = len(target_words)\n",
    "all_word = list(model.index_to_key)\n",
    "word_train = target_words + all_word[:size]\n",
    "X_train = model[word_train]\n",
    "\n",
    "## UMAP model\n",
    "umap_model = umap.UMAP(n_components=2, metric='cosine', random_state=28)\n",
    "\n",
    "## training\n",
    "X_umap = umap_model.fit_transform(X_train)\n",
    "\n",
    "## plot the result\n",
    "plt.figure(figsize=(7.5, 7.5), dpi=115)\n",
    "plt.scatter(X_umap[:target_size, 0], X_umap[:target_size, 1], c=color)\n",
    "for label, x, y in zip(target_words, X_umap[:target_size, 0], X_umap[:target_size, 1]):\n",
    "    plt.annotate(label, xy=(x,y), xytext=(0,0),  textcoords='offset points')\n",
    "plt.show()\n"
   ]
  },
  {
   "cell_type": "markdown",
   "metadata": {
    "id": "2PL61rqYYTp5"
   },
   "source": [
    "\n",
    "### ** >>> Exercise 8 (Take home): **  \n",
    "\n",
    "Generate a t-SNE and UMAP visualization to show the 15 words most related to the words \"angry\", \"happy\", \"sad\", \"fear\" (60 words total). Compare the differences between both graphs."
   ]
  },
  {
   "cell_type": "code",
   "execution_count": 65,
   "metadata": {
    "colab": {
     "base_uri": "https://localhost:8080/",
     "height": 559
    },
    "executionInfo": {
     "elapsed": 5458,
     "status": "ok",
     "timestamp": 1733235880234,
     "user": {
      "displayName": "哲銘",
      "userId": "01517148372053884002"
     },
     "user_tz": -480
    },
    "id": "rvh7ymeNYTp5",
    "outputId": "c4f2952b-7d2b-4add-bee4-a42b4f0ac842"
   },
   "outputs": [
    {
     "data": {
      "image/png": "[encoded data removed]",
      "text/plain": [
       "<Figure size 1000x500 with 2 Axes>"
      ]
     },
     "metadata": {},
     "output_type": "display_data"
    },
    {
     "data": {
      "text/plain": [
       "'In the t-SNE graph, the \"fear\" cluster is compact but isolated, and its relationship with \"angry\" or other emotions is unclear.\\nThe \"sad\" and \"happy\" clusters overlap slightly, though this might be due to projection artifacts.\\nIn the UMAP graph, the \"fear\" and \"angry\" clusters seem far from each other, suggesting potential differnce in the embeddings.'"
      ]
     },
     "execution_count": 65,
     "metadata": {},
     "output_type": "execute_result"
    }
   ],
   "source": [
    "# Answer here\n",
    "\n",
    "# Get the 15 most similar words for each target word\n",
    "target_words = [\"angry\", \"happy\", \"sad\", \"fear\"]\n",
    "related_words = {}\n",
    "for word in target_words:\n",
    "    try:\n",
    "        similar_words = w2v_google_model.most_similar(word, topn=15)\n",
    "        related_words[word] = [w for w, _ in similar_words]\n",
    "    except KeyError:\n",
    "        print(f\"Word '{word}' not in vocabulary.\")\n",
    "\n",
    "# Collect vectors and labels\n",
    "all_words = []\n",
    "all_labels = []\n",
    "for key, words in related_words.items():\n",
    "    all_words.extend(words)\n",
    "    all_labels.extend([key] * len(words))\n",
    "\n",
    "# Add the target words themselves\n",
    "all_words.extend(target_words)\n",
    "all_labels.extend(target_words)\n",
    "\n",
    "# Fetch word vectors\n",
    "word_vectors = np.array([w2v_google_model[word] for word in all_words])\n",
    "\n",
    "# t-SNE\n",
    "tsne = TSNE(n_components=2, random_state=42)\n",
    "tsne_results = tsne.fit_transform(word_vectors)\n",
    "\n",
    "# UMAP\n",
    "umap_model = umap.UMAP(n_neighbors=15, min_dist=0.1, random_state=42)\n",
    "umap_results = umap_model.fit_transform(word_vectors)\n",
    "\n",
    "# Plot t-SNE\n",
    "plt.figure(figsize=(10, 5))\n",
    "plt.subplot(1, 2, 1)\n",
    "for label in set(all_labels):\n",
    "    indices = [i for i, l in enumerate(all_labels) if l == label]\n",
    "    plt.scatter(tsne_results[indices, 0], tsne_results[indices, 1], label=label, alpha=0.7)\n",
    "plt.title(\"t-SNE Visualization\")\n",
    "plt.legend()\n",
    "plt.grid(True)\n",
    "\n",
    "# Plot UMAP\n",
    "plt.subplot(1, 2, 2)\n",
    "for label in set(all_labels):\n",
    "    indices = [i for i, l in enumerate(all_labels) if l == label]\n",
    "    plt.scatter(umap_results[indices, 0], umap_results[indices, 1], label=label, alpha=0.7)\n",
    "plt.title(\"UMAP Visualization\")\n",
    "plt.legend()\n",
    "plt.grid(True)\n",
    "\n",
    "plt.tight_layout()\n",
    "plt.show()\n",
    "\n",
    "'''In the t-SNE graph, the \"fear\" cluster is compact but isolated, and its relationship with \"angry\" or other emotions is unclear.\n",
    "The \"sad\" and \"happy\" clusters overlap slightly, though this might be due to projection artifacts.\n",
    "In the UMAP graph, the \"fear\" and \"angry\" clusters seem far from each other, suggesting potential differnce in the embeddings.'''"
   ]
  },
  {
   "cell_type": "markdown",
   "metadata": {
    "id": "uiRBHdAVTBbA"
   },
   "source": [
    "## 10. Large Language Models (LLMs)\n",
    "Large Language Models (LLMs) are AI models trained on vast text data to understand and generate human language. Models like GPT and BERT excel at tasks like translation, summarization, and sentiment analysis due to their deep learning techniques and large-scale training. Recently these models got popular with the rise of Open-AI's ChatGPT and their different models, showcasing the potential of these models in a lot of aspects of our current society.\n",
    "\n",
    "Open-source LLMs are cost-effective and customizable, with strong community support, but may underperform compared to paid models and require technical expertise to manage. Paid LLMs offer superior performance, ease of use, and regular updates, but are costly, less flexible, and create dependency on external providers for ongoing access and updates.\n",
    "\n",
    "#### Open Source LLMs:\n",
    "In this lab we are going to use Ollama ([Ollama GitHub Link](https://github.com/ollama/ollama)), that is a library that let us use a long list of open-source LLMs of differing size. For this section we are going to be using **'llama3.2'** or **'llama3.2:1b'** for **text based tasks**, and **'llava-phi3'** for **multi-modal tasks** (e.g. image to text). Ollama has a great variety of models, and those can be found here: [model library](https://ollama.com/library). You are free to explore them if you want to try using them, you can check the advantages and disadvantages of each.\n",
    "\n",
    "Or they can also be observed in here:\n",
    "![Dataset Overview](./pics/pic10.png)\n",
    "\n",
    "In the previous image we can observe that all LLMs have something called parameters, these are the internal weights that the model learns during training, helping it understand and generate language. The more a model has, the more complex and accurate it can be, but it also needs more memory to run.\n",
    "\n",
    "For example:\n",
    "\n",
    "Models with **7 billion parameters** need at least **8 GB of VRAM**.\n",
    "**13 billion parameters** require **16 GB of VRAM**.\n",
    "**33 billion parameters** need **32 GB of VRAM**.\n",
    "The higher the number of parameters, the more memory and computational power the model needs to function efficiently.\n",
    "\n",
    "And so that is why we are trying to use small LLMs for this practice, because they require a lot of computational resources, so by using 'llama3.2' and 'llava-phi3', both models with 3 billion parameters, we will only use at most 8 GB of VRAM. But if there are some issues with 'llama3.2' we can still use 'llama3.2:1b' the model with 1 billion parameters that requires less resources.\n",
    "\n",
    "So now let's talk about the models:\n",
    "**LLaMA 3.2** is part of the LLaMA series (Large Language Model Meta AI), designed to provide efficient language understanding and generation. Despite having fewer parameters than some larger models, it offers strong performance in NLP tasks, making it suitable for scenarios where both accuracy and resource efficiency are important.\n",
    "\n",
    "**LLaVA** (Large Language and Vision Assistant) models, like **LLaVA-Phi3** are multimodal models combining language and vision capabilities. It can interpret visual inputs like images and generate corresponding text, making it ideal for tasks that require both visual understanding and language generation, such as image captioning and answering visual-based questions.\n",
    "\n",
    "**I will be using the llama3.2 model going onwards, you can change it for the smallest version if it is necessary for you, or you can try to run it on Kaggle where you can use online GPU resources for it.**"
   ]
  },
  {
   "cell_type": "markdown",
   "metadata": {
    "id": "Cv6AK2WlTBbA"
   },
   "source": [
    "### 10.1 Text Prompting\n",
    "Like with ChatGPT we can use these models to ask about anything. Here we are going to ask a question and then ask it to return it in markdown format to make it look better afterwards."
   ]
  },
  {
   "cell_type": "code",
   "execution_count": 66,
   "metadata": {
    "colab": {
     "base_uri": "https://localhost:8080/"
    },
    "executionInfo": {
     "elapsed": 8183,
     "status": "ok",
     "timestamp": 1733235916472,
     "user": {
      "displayName": "哲銘",
      "userId": "01517148372053884002"
     },
     "user_tz": -480
    },
    "id": "0S9K_OCz6P_3",
    "outputId": "acdeb670-a371-483b-90f1-16e341ee36ca"
   },
   "outputs": [
    {
     "name": "stdout",
     "output_type": "stream",
     "text": [
      "Requirement already satisfied: ollama in c:\\users\\123321\\anaconda3\\lib\\site-packages (0.4.3)\n",
      "Requirement already satisfied: httpx<0.28.0,>=0.27.0 in c:\\users\\123321\\anaconda3\\lib\\site-packages (from ollama) (0.27.0)\n",
      "Requirement already satisfied: pydantic<3.0.0,>=2.9.0 in c:\\users\\123321\\anaconda3\\lib\\site-packages (from ollama) (2.10.3)\n",
      "Requirement already satisfied: anyio in c:\\users\\123321\\anaconda3\\lib\\site-packages (from httpx<0.28.0,>=0.27.0->ollama) (4.2.0)\n",
      "Requirement already satisfied: certifi in c:\\users\\123321\\anaconda3\\lib\\site-packages (from httpx<0.28.0,>=0.27.0->ollama) (2024.8.30)\n",
      "Requirement already satisfied: httpcore==1.* in c:\\users\\123321\\anaconda3\\lib\\site-packages (from httpx<0.28.0,>=0.27.0->ollama) (1.0.2)\n",
      "Requirement already satisfied: idna in c:\\users\\123321\\anaconda3\\lib\\site-packages (from httpx<0.28.0,>=0.27.0->ollama) (3.10)\n",
      "Requirement already satisfied: sniffio in c:\\users\\123321\\anaconda3\\lib\\site-packages (from httpx<0.28.0,>=0.27.0->ollama) (1.3.0)\n",
      "Requirement already satisfied: h11<0.15,>=0.13 in c:\\users\\123321\\anaconda3\\lib\\site-packages (from httpcore==1.*->httpx<0.28.0,>=0.27.0->ollama) (0.14.0)\n",
      "Requirement already satisfied: annotated-types>=0.6.0 in c:\\users\\123321\\anaconda3\\lib\\site-packages (from pydantic<3.0.0,>=2.9.0->ollama) (0.6.0)\n",
      "Requirement already satisfied: pydantic-core==2.27.1 in c:\\users\\123321\\anaconda3\\lib\\site-packages (from pydantic<3.0.0,>=2.9.0->ollama) (2.27.1)\n",
      "Requirement already satisfied: typing-extensions>=4.12.2 in c:\\users\\123321\\anaconda3\\lib\\site-packages (from pydantic<3.0.0,>=2.9.0->ollama) (4.12.2)\n",
      "Requirement already satisfied: exceptiongroup>=1.0.2 in c:\\users\\123321\\anaconda3\\lib\\site-packages (from anyio->httpx<0.28.0,>=0.27.0->ollama) (1.2.0)\n"
     ]
    }
   ],
   "source": [
    "!pip install ollama"
   ]
  },
  {
   "cell_type": "code",
   "execution_count": 70,
   "metadata": {
    "colab": {
     "base_uri": "https://localhost:8080/",
     "height": 401
    },
    "executionInfo": {
     "elapsed": 301,
     "status": "error",
     "timestamp": 1733236029635,
     "user": {
      "displayName": "哲銘",
      "userId": "01517148372053884002"
     },
     "user_tz": -480
    },
    "id": "_jOFAReOTBbA",
    "outputId": "53c668ed-9ca6-421c-a68c-59ec8054f02b"
   },
   "outputs": [
    {
     "name": "stdout",
     "output_type": "stream",
     "text": [
      "# Data Mining\n",
      "================\n",
      "\n",
      "Data mining is the process of discovering patterns, relationships, and insights from large databases or data sets. It involves using various techniques, such as statistical modeling, machine learning algorithms, and knowledge discovery methods, to extract meaningful information from data.\n",
      "\n",
      "## Characteristics of Data Mining\n",
      "\n",
      "*   **Pattern discovery**: Data mining aims to identify patterns, trends, and anomalies in the data.\n",
      "*   **Data preprocessing**: Preprocessing is a critical step in data mining, where data is cleaned, transformed, and prepared for analysis.\n",
      "*   **Model evaluation**: Once patterns are identified, models are evaluated to determine their accuracy and relevance.\n",
      "\n",
      "## Types of Data Mining\n",
      "\n",
      "*   **Supervised learning**: Learning from labeled data, where the model is trained to predict a specific outcome based on input features.\n",
      "*   **Unsupervised learning**: Discovering patterns and relationships in unlabeled data without prior knowledge of the outcome.\n",
      "*   **Regressive modeling**: Predicting the next value in a time series or sequence.\n",
      "\n",
      "## Techniques Used in Data Mining\n",
      "\n",
      "*   **Statistical analysis**: Using statistical methods, such as regression, hypothesis testing, and confidence intervals, to analyze and interpret data.\n",
      "*   **Machine learning algorithms**: Developing models using machine learning techniques, such as decision trees, neural networks, and clustering algorithms.\n",
      "*   **Knowledge discovery methods**: Extracting insights from data through various techniques, including mining, cartography, and text analysis.\n",
      "\n",
      "## Applications of Data Mining\n",
      "\n",
      "*   **Business intelligence**: Analyzing customer behavior, market trends, and operational performance to inform business decisions.\n",
      "*   **Predictive maintenance**: Using machine learning models to predict equipment failures and reduce downtime.\n",
      "*   **Personalized marketing**: Identifying customers with similar interests and preferences based on data analysis.\n",
      "\n",
      "## Data Mining Tools and Software\n",
      "\n",
      "*   **R**: A popular programming language for statistical computing and data visualization.\n",
      "*   **Python**: A versatile programming language used for data mining, machine learning, and data science.\n",
      "*   **Microsoft Excel**: A spreadsheet software that can be used for basic data analysis and visualization.\n"
     ]
    }
   ],
   "source": [
    "import ollama\n",
    "response = ollama.chat(model='llama3.2:1b', messages=[\n",
    "    {\n",
    "        'role': 'user',\n",
    "        'content': 'What is data mining? (in markdown format)'\n",
    "    },\n",
    "])\n",
    "\n",
    "print(response['message']['content'])"
   ]
  },
  {
   "cell_type": "code",
   "execution_count": 71,
   "metadata": {
    "colab": {
     "base_uri": "https://localhost:8080/"
    },
    "executionInfo": {
     "elapsed": 476,
     "status": "ok",
     "timestamp": 1733236163120,
     "user": {
      "displayName": "哲銘",
      "userId": "01517148372053884002"
     },
     "user_tz": -480
    },
    "id": "VuucjUbj7Prv",
    "outputId": "35500e26-10e2-4153-b271-9c802330ffaa"
   },
   "outputs": [
    {
     "name": "stdout",
     "output_type": "stream",
     "text": [
      "{'model': 'llama3.2:1b', 'created_at': '2024-12-07T10:19:54.7110132Z', 'message': {'role': 'assistant', 'content': 'How can I assist you today?'}, 'done_reason': 'stop', 'done': True, 'total_duration': 303620600, 'load_duration': 20168700, 'prompt_eval_count': 26, 'prompt_eval_duration': 3000000, 'eval_count': 8, 'eval_duration': 279000000}\n"
     ]
    }
   ],
   "source": [
    "import requests\n",
    "\n",
    "url = \"http://127.0.0.1:11434/api/chat\"\n",
    "payload = {\n",
    "    \"model\": \"llama3.2:1b\",\n",
    "    \"messages\": [{\"role\": \"user\", \"content\": \"Hello\"}],\n",
    "    \"stream\": False\n",
    "}\n",
    "try:\n",
    "    response = requests.post(url, json=payload)\n",
    "    print(response.json())\n",
    "except requests.exceptions.RequestException as e:\n",
    "    print(f\"Error: {e}\")"
   ]
  },
  {
   "cell_type": "markdown",
   "metadata": {
    "id": "4vfGyyffTBbA"
   },
   "source": [
    "**We can use the IPython library to make the response look better:**"
   ]
  },
  {
   "cell_type": "code",
   "execution_count": 72,
   "metadata": {
    "colab": {
     "base_uri": "https://localhost:8080/",
     "height": 50
    },
    "executionInfo": {
     "elapsed": 280,
     "status": "ok",
     "timestamp": 1733235982360,
     "user": {
      "displayName": "哲銘",
      "userId": "01517148372053884002"
     },
     "user_tz": -480
    },
    "id": "9f2dshV8TBbA",
    "outputId": "78750f47-fe3e-42c0-848c-79fb9ef9b385"
   },
   "outputs": [
    {
     "data": {
      "text/markdown": [
       "*some markdown* $\\phi$"
      ],
      "text/plain": [
       "<IPython.core.display.Markdown object>"
      ]
     },
     "metadata": {},
     "output_type": "display_data"
    }
   ],
   "source": [
    "from IPython.display import display, Markdown, Latex\n",
    "display(Markdown('*some markdown* $\\phi$'))"
   ]
  },
  {
   "cell_type": "code",
   "execution_count": 73,
   "metadata": {
    "colab": {
     "base_uri": "https://localhost:8080/",
     "height": 139
    },
    "executionInfo": {
     "elapsed": 278,
     "status": "error",
     "timestamp": 1733235990705,
     "user": {
      "displayName": "哲銘",
      "userId": "01517148372053884002"
     },
     "user_tz": -480
    },
    "id": "VqDsQ3kpTBbB",
    "outputId": "2147a8e5-ed09-4912-dc48-b8f4668f78c9"
   },
   "outputs": [
    {
     "data": {
      "text/markdown": [
       "How can I assist you today?"
      ],
      "text/plain": [
       "<IPython.core.display.Markdown object>"
      ]
     },
     "metadata": {},
     "output_type": "display_data"
    }
   ],
   "source": [
    "from IPython.display import display, Markdown\n",
    "\n",
    "response_data = response.json()  # 将响应解析为字典\n",
    "display(Markdown(response_data['message']['content']))"
   ]
  },
  {
   "cell_type": "markdown",
   "metadata": {
    "id": "Rmk4-xILTBbB"
   },
   "source": [
    "\n",
    "### ** >>> Exercise 9 (Take home): **  \n",
    "\n",
    "You noticed there is a **role** parameter inside the ollama.chat function, investigate what other roles there can be inside the function and what do they do. Give an example of a prompt using another role in additional to the **user** one."
   ]
  },
  {
   "cell_type": "code",
   "execution_count": 74,
   "metadata": {
    "id": "bFzxvMcCTBbB"
   },
   "outputs": [
    {
     "name": "stdout",
     "output_type": "stream",
     "text": [
      "{'model': 'llama3.2:1b', 'created_at': '2024-12-07T10:24:28.6329021Z', 'message': {'role': 'assistant', 'content': \"Llama is an artificial intelligence model developed by Meta, designed to process and generate human-like language. It's a large language model that can handle various tasks, such as text completion, summarization, and even creative writing. Like other large language models, Llama uses natural language processing to generate text. It works by taking a sequence of words as input and predicting the next word to create coherent and natural-sounding text.\"}, 'done_reason': 'stop', 'done': True, 'total_duration': 1409169900, 'load_duration': 17826600, 'prompt_eval_count': 45, 'prompt_eval_duration': 2000000, 'eval_count': 87, 'eval_duration': 933000000}\n"
     ]
    }
   ],
   "source": [
    "# Answer here\n",
    "# Role user represents the user's input or question.\n",
    "# Typical usage involves the user asking something or providing information.\n",
    "# Example: \"content\": \"What is the capital of France?\".\n",
    "\n",
    "# Role assistant tepresents the AI assistant's response.\n",
    "# This role allows for predefined or custom assistant replies in a conversation flow.\n",
    "# Example: \"content\": \"The capital of France is Paris.\".\n",
    "\n",
    "# Role system is used to set the context, tone, or behavior of the assistant.\n",
    "# Often sent as the first message to establish rules or guidelines for the AI.\n",
    "# Example: \"content\": \"You are a helpful assistant who speaks in a formal tone.\".\n",
    "\n",
    "import requests\n",
    "\n",
    "url = \"http://127.0.0.1:11434/api/chat\"\n",
    "payload = {\n",
    "    \"model\": \"llama3.2:1b\",\n",
    "    \"messages\": [\n",
    "        {\"role\": \"system\", \"content\": \"You are an expert engneer of machine learning.\"},\n",
    "        {\"role\": \"user\", \"content\": \"Can you tell me what is llm?\"},\n",
    "    ],\n",
    "    \"stream\": False\n",
    "}\n",
    "\n",
    "try:\n",
    "    response = requests.post(url, json=payload)\n",
    "    response.raise_for_status()\n",
    "    print(response.json())  # Display the response from the assistant\n",
    "except requests.exceptions.RequestException as e:\n",
    "    print(f\"Error: {e}\")"
   ]
  },
  {
   "cell_type": "markdown",
   "metadata": {
    "id": "QZgnYAyNTBbB"
   },
   "source": [
    "### 10.2 Multi-Modal Prompting - Text + Images\n",
    "Multi-modal prompting involves using input from multiple sources or modes, such as text, images, or audio, to guide a model's response. It allows AI to process and generate information based on more than one type of input.\n",
    "\n",
    "For image plus text prompting, the model receives both an image and a related text prompt. The image provides visual context, while the text gives additional guidance. The model uses both inputs to generate more accurate and contextually relevant responses, which is useful for tasks like image captioning, visual question answering, or content generation based on visual cues."
   ]
  },
  {
   "cell_type": "markdown",
   "metadata": {
    "id": "v4G2dfC5TBbB"
   },
   "source": [
    "Let's look at the following images that are in the **pics** folder in the directory of this notebook:"
   ]
  },
  {
   "cell_type": "markdown",
   "metadata": {
    "id": "6_rQiQivTBbB"
   },
   "source": [
    "![Dataset Overview](./pics/example1.png)\n",
    "source: https://cooljapan-videos.com/tw/articles/epe0y86g"
   ]
  },
  {
   "cell_type": "markdown",
   "metadata": {
    "id": "jX7ti7NXTBbB"
   },
   "source": [
    "![Dataset Overview](./pics/example2.jpg)\n",
    "source: https://www.istockphoto.com/photo/young-cat-scottish-straight-gm1098182434-294927481"
   ]
  },
  {
   "cell_type": "markdown",
   "metadata": {
    "id": "kmtO7fC0TBbB"
   },
   "source": [
    "We will use the **llava-phi3** model that we installed to request a description of the images:"
   ]
  },
  {
   "cell_type": "code",
   "execution_count": 75,
   "metadata": {
    "colab": {
     "base_uri": "https://localhost:8080/",
     "height": 367
    },
    "executionInfo": {
     "elapsed": 8,
     "status": "error",
     "timestamp": 1733236355997,
     "user": {
      "displayName": "哲銘",
      "userId": "01517148372053884002"
     },
     "user_tz": -480
    },
    "id": "BF6sueZtTBbB",
    "outputId": "7dc22649-ca91-4f4b-cdb9-9d6eb76c8596"
   },
   "outputs": [
    {
     "data": {
      "text/markdown": [
       "The image depicts a vibrant scene of a Shiba Inu dog in mid-jump. The dog, with its fur in shades of orange and white, has its mouth wide open as if caught in the middle of a playful bark. Its tail is held high, adding to the sense of motion captured in the image.\n",
       "\n",
       "The background of the image provides context to the action. It features a grassy lawn that extends into the distance where trees stand tall against the sky. The dog's energetic leap stands out against this serene backdrop, creating a dynamic and lively composition.\n",
       "\n",
       "Please note that this description is based on the details visible in the image and does not include any assumptions or interpretations beyond what can be confidently determined from the image itself."
      ],
      "text/plain": [
       "<IPython.core.display.Markdown object>"
      ]
     },
     "metadata": {},
     "output_type": "display_data"
    }
   ],
   "source": [
    "# import ollama\n",
    "response2 = ollama.chat(model='llava-phi3', messages=[\n",
    "    {\n",
    "        'role': 'user',\n",
    "        'content': 'What is this image about?',\n",
    "        'images': ['D:\\school\\DM2024-Lab2-Master\\pics\\example1.png'] #Image with the dog\n",
    "    },\n",
    "])\n",
    "\n",
    "display(Markdown(response2['message']['content']))"
   ]
  },
  {
   "cell_type": "code",
   "execution_count": 76,
   "metadata": {
    "colab": {
     "base_uri": "https://localhost:8080/",
     "height": 367
    },
    "executionInfo": {
     "elapsed": 337,
     "status": "error",
     "timestamp": 1733236363024,
     "user": {
      "displayName": "哲銘",
      "userId": "01517148372053884002"
     },
     "user_tz": -480
    },
    "id": "RPh1hEBYTBbB",
    "outputId": "cf7569c7-bee7-4c76-e614-742443ae3894"
   },
   "outputs": [
    {
     "data": {
      "text/markdown": [
       "The image presents a scene of tranquility and simplicity. At the center of the frame, a gray tabby cat stands confidently on its hind legs against a stark white background. The cat's body is angled slightly to the left, but it faces the camera directly with an expression that suggests curiosity or perhaps surprise. \n",
       "\n",
       "The cat's tail and back paws are raised in the air, adding to the impression of alertness or anticipation. Its front paws are firmly planted on the ground, providing a counterbalance to its elevated rear end. The cat is facing towards the camera with wide eyes that further emphasize its attentive stance.\n",
       "\n",
       "Despite the simplicity of the scene, it's clear that this image captures a moment in time where the cat seems engaged with something off-camera, leaving us to wonder what has caught its attention. The white background serves to highlight the cat and draw our focus towards it, making it the undeniable star of this composition. \n",
       "\n",
       "Overall, the image is a snapshot of a quiet interaction between human and pet, frozen in time for us to appreciate. It's a simple scene, yet one that invites questions and sparks curiosity about what might be happening just out of frame."
      ],
      "text/plain": [
       "<IPython.core.display.Markdown object>"
      ]
     },
     "metadata": {},
     "output_type": "display_data"
    }
   ],
   "source": [
    "response3 = ollama.chat(model='llava-phi3', messages=[\n",
    "    {\n",
    "        'role': 'user',\n",
    "        'content': 'What is this image about?',\n",
    "        'images': ['D:\\school\\DM2024-Lab2-Master\\pics\\example2.jpg'] #Image with the cat\n",
    "    },\n",
    "])\n",
    "\n",
    "display(Markdown(response3['message']['content']))"
   ]
  },
  {
   "cell_type": "markdown",
   "metadata": {
    "id": "GVE54EDJTBbB"
   },
   "source": [
    "\n",
    "### ** >>> Exercise 10 (Take home): **  \n",
    "\n",
    "Try asking the model with one image of your choosing. Is the description accurate? Why?"
   ]
  },
  {
   "cell_type": "code",
   "execution_count": null,
   "metadata": {
    "executionInfo": {
     "elapsed": 308,
     "status": "ok",
     "timestamp": 1733236366918,
     "user": {
      "displayName": "哲銘",
      "userId": "01517148372053884002"
     },
     "user_tz": -480
    },
    "id": "CXPD4bSNTBbB"
   },
   "outputs": [
    {
     "data": {
      "text/markdown": [
       "\n",
       "The image presents a table that provides information on the storage capacity of various devices, specifically laptops. The data is organized in columns and rows against a black background with white text, offering a clear contrast for easy readability. \n",
       "\n",
       "Starting from the top left corner, we have the model number \"LUMA32 XS2\", which occupies the entire first row. Following this, the second row is dedicated to parameters such as size and weight. The third row focuses on storage capacity in gigabytes (GB). The fourth row introduces a new parameter: download speed in megabits per second (Mbps). The fifth row presents a list of laptop models along with their respective sizes, weights, and capacities.\n",
       "\n",
       "The data for each model is meticulously arranged in rows against the black background, making it easy to compare different models and parameters across devices. The table appears to be part of an online store listing or comparison guide, providing potential buyers with detailed specifications of various laptops available for purchase."
      ],
      "text/plain": [
       "<IPython.core.display.Markdown object>"
      ]
     },
     "metadata": {},
     "output_type": "display_data"
    }
   ],
   "source": [
    "# Answer here\n",
    "response3 = ollama.chat(model='llava-phi3', messages=[\n",
    "    {\n",
    "        'role': 'user',\n",
    "        'content': 'What is this image about?',\n",
    "        'images': ['D:\\school\\DM2024-Lab2-Master\\pics\\pic10.png'] #Image with the cat\n",
    "    },\n",
    "])\n",
    "\n",
    "display(Markdown(response3['message']['content']))\n",
    "\n",
    "\"\"\"The image presents a table that provides information on the storage capacity of various devices, specifically laptops. The data is organized in columns and rows against a black background with white text, offering a clear contrast for easy readability.\n",
    "\n",
    "Starting from the top left corner, we have the model number \"LUMA32 XS2\", which occupies the entire first row. Following this, the second row is dedicated to parameters such as size and weight. The third row focuses on storage capacity in gigabytes (GB). The fourth row introduces a new parameter: download speed in megabits per second (Mbps). The fifth row presents a list of laptop models along with their respective sizes, weights, and capacities.\n",
    "\n",
    "The data for each model is meticulously arranged in rows against the black background, making it easy to compare different models and parameters across devices. The table appears to be part of an online store listing or comparison guide, providing potential buyers with detailed specifications of various laptops available for purchase.\"\"\"\n",
    "\n",
    "\n",
    "\"\"\"The reason I chose pic10.png is that it contains a lot of text, and the model should recognize it and provide useful insights, but apparently, the model still has room for improvement.\"\"\""
   ]
  },
  {
   "cell_type": "markdown",
   "metadata": {
    "id": "Q5rUAtr6TBbB"
   },
   "source": [
    "### 10.3 Retrieval-Augmented Generation (RAG)\n",
    "RAG (Retrieval-Augmented Generation) is a technique where a language model combines document retrieval with text generation. In RAG, a retrieval system first finds relevant documents or text chunks, and then the language model uses this retrieved information to generate a more informed and accurate response. This method enhances the model's ability to answer questions by grounding its responses in real, external data.\n",
    "\n",
    "In the following code, we will load a webpage as a document, which allows us to retrieve text from a URL. After loading the content, we will split the document into smaller, manageable chunks, making it easier for our model to process. Then, we'll generate embeddings for these chunks with a specified LLM model (e.g., Llama3.2). These embeddings will be stored in a vector database, which enables us to perform similarity searches. By setting up this retrieval system, we can use a RAG chain to answer questions. The retriever finds relevant text chunks from the document based on a query, and the LLM generates a response by incorporating this retrieved information, making the answers more grounded and accurate."
   ]
  },
  {
   "cell_type": "code",
   "execution_count": 80,
   "metadata": {
    "colab": {
     "base_uri": "https://localhost:8080/",
     "height": 378
    },
    "executionInfo": {
     "elapsed": 1902,
     "status": "error",
     "timestamp": 1733236371118,
     "user": {
      "displayName": "哲銘",
      "userId": "01517148372053884002"
     },
     "user_tz": -480
    },
    "id": "Cjvaw6pvTBbB",
    "outputId": "b5cfe4d1-ca33-4e70-bc19-30dc2a111de5"
   },
   "outputs": [
    {
     "data": {
      "text/markdown": [
       "According to the article, IBM has implemented LLMs at different levels to enhance their natural language understanding (NLU) and natural language processing (NLP) capabilities. Specifically, it mentions that:\n",
       "\n",
       "1. IBM has launched its Granite model series on watsonx.ai, which uses LLMs as the generative AI backbone for other IBM products like Watsonx Assistant and Watsonx Orchestrate.\n",
       "2. Watsonx Assistant is built on top of IBM's Granite model series using OpenAI's Chat GPT-3 and GPT-4 interfaces.\n",
       "\n",
       "These are some of the related solutions or examples mentioned in the article that use LLMs, specifically from IBM."
      ],
      "text/plain": [
       "<IPython.core.display.Markdown object>"
      ]
     },
     "metadata": {},
     "output_type": "display_data"
    }
   ],
   "source": [
    "import ollama\n",
    "import bs4\n",
    "from langchain.text_splitter import RecursiveCharacterTextSplitter\n",
    "from langchain_community.document_loaders import WebBaseLoader\n",
    "from langchain_community.vectorstores import Chroma\n",
    "from langchain_community.embeddings import OllamaEmbeddings\n",
    "from langchain_core.output_parsers import StrOutputParser\n",
    "from langchain_core.runnables import RunnablePassthrough\n",
    "\n",
    "llm_model = \"llama3.2:1b\" #You can change to the one of your preference\n",
    "\n",
    "# Function to load, split, and retrieve documents\n",
    "def load_and_retrieve_docs(url):\n",
    "    loader = WebBaseLoader(\n",
    "        web_paths=(url,),\n",
    "        bs_kwargs=dict()\n",
    "    )\n",
    "    docs = loader.load() #We will load the URL that will serve as our data source\n",
    "    text_splitter = RecursiveCharacterTextSplitter(chunk_size=1000, chunk_overlap=200) #We will divide the URL in chunks of text for easier comparison in the vector space\n",
    "    splits = text_splitter.split_documents(docs)\n",
    "    #print(splits) #You can print this to see how the chunks in the url where split\n",
    "    embeddings = OllamaEmbeddings(model=llm_model) #Generating embeddings with our chosen model\n",
    "    vectorstore = Chroma.from_documents(documents=splits, embedding=embeddings) #Our vector space for comparison\n",
    "    return vectorstore.as_retriever()\n",
    "\n",
    "url=\"https://www.ibm.com/topics/large-language-models\"\n",
    "# Create the retriever\n",
    "retriever = load_and_retrieve_docs(url)\n",
    "\n",
    "def format_docs(docs):\n",
    "    return \"\\n\\n\".join(doc.page_content for doc in docs) #Format the retrieved docs in an orderly manner for prompting\n",
    "\n",
    "# Define the Ollama LLM function\n",
    "def ollama_llm(question, context):\n",
    "    formatted_prompt = f\"Question: {question}\\n\\nContext: {context}\"\n",
    "    response = ollama.chat(model='llama3.2:1b', messages=[{'role': 'user', 'content': formatted_prompt}])\n",
    "    return response['message']['content']\n",
    "\n",
    "# Define the RAG chain\n",
    "def rag_chain(question):\n",
    "    retrieved_docs = retriever.invoke(question)\n",
    "    formatted_context = format_docs(retrieved_docs)\n",
    "    return ollama_llm(question, formatted_context)\n",
    "\n",
    "# Use the RAG chain\n",
    "result = rag_chain(\"What are the related solutions of IBM with LLMs?\")\n",
    "display(Markdown(result))"
   ]
  },
  {
   "cell_type": "markdown",
   "metadata": {
    "id": "gbXsfxu2TBbC"
   },
   "source": [
    "\n",
    "### **Actual content in the URL:**\n",
    "![Dataset Overview](./pics/pic11.png)\n",
    "\n",
    "source: https://www.ibm.com/topics/large-language-models\n"
   ]
  },
  {
   "cell_type": "markdown",
   "metadata": {
    "id": "MmtcR6DuTBbC"
   },
   "source": [
    "\n",
    "### ** >>> Exercise 11 (Take home): **  \n",
    "\n",
    "Try to modify the code to make it accept **three URLs**, or **three text documents** of your choosing. After modifying it, make **three prompts/questions** with information that can be found in each of the documents/urls, **compare the accuracy of the response** with the actual answer. Investigate and discuss the advantages and disadvantages of RAG systems."
   ]
  },
  {
   "cell_type": "code",
   "execution_count": 81,
   "metadata": {
    "id": "J5V9WIerTBbC"
   },
   "outputs": [
    {
     "name": "stdout",
     "output_type": "stream",
     "text": [
      "CPC Corporation, Taiwan, has taken several initiatives to promote green energy development and sustainability:\n",
      "\n",
      "1. **Organizational and process reengineering**: CPC has implemented organizational and process reengineering efforts to improve human resource utilization and increase competitiveness.\n",
      "2. **Rotating employees through different jobs and departments**: The company has formed the Sustainable Operations Promotion Committee to oversee sustainability in four major aspects, including environmental protection, social care, policy and R&D, and environmental accounting and information.\n",
      "3. **Technology transfer of sustainable products**: CPC has developed or acquired several innovative products, such as Marilube (low-alkali marine motor oil), which is environmentally friendly and has contributed to the company's sustainability efforts.\n",
      "\n",
      "These initiatives demonstrate CPC's commitment to corporate sustainability and its efforts to promote green energy development in Taiwan.\n"
     ]
    }
   ],
   "source": [
    "# Answer here\n",
    "import ollama\n",
    "from bs4 import BeautifulSoup\n",
    "from langchain.text_splitter import RecursiveCharacterTextSplitter\n",
    "from langchain_community.document_loaders import WebBaseLoader\n",
    "from langchain_community.vectorstores import Chroma\n",
    "from langchain_community.embeddings import OllamaEmbeddings\n",
    "\n",
    "llm_model = \"llama3.2:1b\"  # You can change to the one of your preference\n",
    "\n",
    "# Function to load, split, and retrieve documents from multiple URLs\n",
    "def load_and_retrieve_docs(urls):\n",
    "    docs = []\n",
    "    for url in urls:\n",
    "        loader = WebBaseLoader(web_paths=(url,), bs_kwargs=dict())\n",
    "        docs.extend(loader.load())  # Load all documents from each URL\n",
    "\n",
    "    # Split documents into chunks\n",
    "    text_splitter = RecursiveCharacterTextSplitter(chunk_size=1000, chunk_overlap=200)\n",
    "    splits = text_splitter.split_documents(docs)\n",
    "\n",
    "    # Generate embeddings and create a vectorstore\n",
    "    embeddings = OllamaEmbeddings(model=llm_model)\n",
    "    vectorstore = Chroma.from_documents(documents=splits, embedding=embeddings)\n",
    "\n",
    "    return vectorstore.as_retriever()\n",
    "\n",
    "# List of URLs\n",
    "urls = [\n",
    "    \"https://www.cpc.com.tw/en/cp.aspx?n=2665\",\n",
    "    \"https://www.cpc.com.tw/en/cp.aspx?n=2685\",\n",
    "    \"https://www.cpc.com.tw/en/cp.aspx?n=3022\"\n",
    "]\n",
    "\n",
    "# Create the retriever\n",
    "retriever = load_and_retrieve_docs(urls)\n",
    "\n",
    "def format_docs(docs):\n",
    "    return \"\\n\\n\".join(doc.page_content for doc in docs)  # Format the retrieved docs\n",
    "\n",
    "# Define the Ollama LLM function\n",
    "def ollama_llm(question, context):\n",
    "    formatted_prompt = f\"Question: {question}\\n\\nContext: {context}\"\n",
    "    response = ollama.chat(model='llama3.2:1b', messages=[{'role': 'user', 'content': formatted_prompt}])\n",
    "    return response['message']['content']\n",
    "\n",
    "# Define the RAG chain\n",
    "def rag_chain(question):\n",
    "    retrieved_docs = retriever.invoke(question)\n",
    "    formatted_context = format_docs(retrieved_docs)\n",
    "    return ollama_llm(question, formatted_context)\n",
    "\n",
    "prompts = [\n",
    "    \"What are the key activities of CPC Corporation, Taiwan, in upstream oil and gas exploration?\",\n",
    "    \"How does CPC Corporation, Taiwan, ensure the quality and efficiency of its refining processes?\",\n",
    "    \"What initiatives has CPC Corporation, Taiwan, undertaken to promote green energy development and sustainability?\"\n",
    "]\n",
    "\n",
    "# Execute the RAG chain for each prompt and collect the responses\n",
    "responses = {}\n",
    "for prompt in prompts:\n",
    "    try:\n",
    "        responses[prompt] = rag_chain(prompt)\n",
    "    except Exception as e:\n",
    "        responses[prompt] = f\"Error: {e}\"\n",
    "\n",
    "# Display the results\n",
    "responses"
   ]
  },
  {
   "cell_type": "markdown",
   "metadata": {
    "id": "cAuvsDnpTBbC"
   },
   "source": [
    "### 10.4 Generating LLM Embeddings:\n",
    "LLM embeddings are dense vector representations of text generated by Large Language Models. These embeddings, like we have already seen in the lab, capture the semantic meaning and relationships between words, phrases, or even entire documents by mapping them into a high-dimensional space where similar pieces of text are placed closer together. What makes LLM embeddings special is that they are contextual and rich in meaning, meaning the same word can have different embeddings based on its surrounding context.\n",
    "\n",
    "For example, the word **\"bank\"** would have different embeddings in the sentences **\"I sat by the river bank\"** and **\"I deposited money in the bank.\"** This ability to understand and encode context enables LLM embeddings to outperform traditional techniques (like TF-IDF or one-hot encoding) by providing a deeper, more nuanced representation of language.\n",
    "\n",
    "Additionally, LLM embeddings are pre-trained on vast amounts of data, allowing them to generalize well across different tasks (like classification, clustering, or similarity detection) without the need for extensive retraining. This makes them highly valuable in many natural language processing tasks today.\n",
    "\n",
    "**Now let's generate some embeddings with llama 3.2 for our dataset:**"
   ]
  },
  {
   "cell_type": "code",
   "execution_count": 82,
   "metadata": {
    "id": "kW-Vogi0TBbC"
   },
   "outputs": [],
   "source": [
    "import pandas as pd\n",
    "import ollama\n",
    "\n",
    "# Let's copy our dataframes for training and testing\n",
    "df_train = train_df\n",
    "df_test = test_df\n",
    "# Define a function to generate embeddings\n",
    "def generate_embeddings(row,text_column_name='text'):\n",
    "    embeddings = ollama.embeddings(\n",
    "        model='llama3.2:1b',\n",
    "        prompt=row[text_column_name],\n",
    "    )\n",
    "    return embeddings[\"embedding\"]"
   ]
  },
  {
   "cell_type": "code",
   "execution_count": 83,
   "metadata": {
    "id": "VvY2B9YYTBbC"
   },
   "outputs": [],
   "source": [
    "# We use the text column\n",
    "column_name = 'text'\n",
    "\n",
    "# Apply the function to the specified column and store the result in a new column 'embeddings'\n",
    "df_train['embeddings'] = df_train.apply(lambda row: generate_embeddings(row, column_name), axis=1)"
   ]
  },
  {
   "cell_type": "code",
   "execution_count": 84,
   "metadata": {
    "id": "p1WSH7GQTBbC"
   },
   "outputs": [],
   "source": [
    "df_test['embeddings'] = df_test.apply(lambda row: generate_embeddings(row, column_name), axis=1)"
   ]
  },
  {
   "cell_type": "code",
   "execution_count": 85,
   "metadata": {
    "id": "vB8xko2eTBbC",
    "outputId": "c268f66c-6862-472a-82fc-781cdbf2bc1d"
   },
   "outputs": [
    {
     "data": {
      "text/html": [
       "<div>\n",
       "<style scoped>\n",
       "    .dataframe tbody tr th:only-of-type {\n",
       "        vertical-align: middle;\n",
       "    }\n",
       "\n",
       "    .dataframe tbody tr th {\n",
       "        vertical-align: top;\n",
       "    }\n",
       "\n",
       "    .dataframe thead th {\n",
       "        text-align: right;\n",
       "    }\n",
       "</style>\n",
       "<table border=\"1\" class=\"dataframe\">\n",
       "  <thead>\n",
       "    <tr style=\"text-align: right;\">\n",
       "      <th></th>\n",
       "      <th>id</th>\n",
       "      <th>text</th>\n",
       "      <th>emotion</th>\n",
       "      <th>intensity</th>\n",
       "      <th>text_tokenized</th>\n",
       "      <th>embeddings</th>\n",
       "    </tr>\n",
       "  </thead>\n",
       "  <tbody>\n",
       "    <tr>\n",
       "      <th>2975</th>\n",
       "      <td>40148</td>\n",
       "      <td>@CNN yes. Too many cops. And too many ppl who ...</td>\n",
       "      <td>sadness</td>\n",
       "      <td>0.688</td>\n",
       "      <td>[@, CNN, yes, ., Too, many, cops, ., And, too,...</td>\n",
       "      <td>[-3.9800658226013184, 4.717365264892578, 2.268...</td>\n",
       "    </tr>\n",
       "    <tr>\n",
       "      <th>351</th>\n",
       "      <td>10351</td>\n",
       "      <td>@TillTheEndMMVI I accidetly dumped boiling wat...</td>\n",
       "      <td>anger</td>\n",
       "      <td>0.521</td>\n",
       "      <td>[@, TillTheEndMMVI, I, accidetly, dumped, boil...</td>\n",
       "      <td>[-1.5584574937820435, 4.278619289398193, 0.594...</td>\n",
       "    </tr>\n",
       "    <tr>\n",
       "      <th>1001</th>\n",
       "      <td>20144</td>\n",
       "      <td>@Budget  car rental you have made realize why ...</td>\n",
       "      <td>fear</td>\n",
       "      <td>0.729</td>\n",
       "      <td>[@, Budget, car, rental, you, have, made, real...</td>\n",
       "      <td>[3.2699358463287354, 5.047285556793213, 1.0048...</td>\n",
       "    </tr>\n",
       "    <tr>\n",
       "      <th>607</th>\n",
       "      <td>10607</td>\n",
       "      <td>@UnknownAndYoung — a low growl escaping him. O...</td>\n",
       "      <td>anger</td>\n",
       "      <td>0.396</td>\n",
       "      <td>[@, UnknownAndYoung, —, a, low, growl, escapin...</td>\n",
       "      <td>[-2.963304281234741, 3.6857857704162598, 2.186...</td>\n",
       "    </tr>\n",
       "    <tr>\n",
       "      <th>1892</th>\n",
       "      <td>21035</td>\n",
       "      <td>The radio just told me Lady GaGa is going coun...</td>\n",
       "      <td>fear</td>\n",
       "      <td>0.246</td>\n",
       "      <td>[The, radio, just, told, me, Lady, GaGa, is, g...</td>\n",
       "      <td>[0.41087764501571655, 4.704644203186035, -0.89...</td>\n",
       "    </tr>\n",
       "    <tr>\n",
       "      <th>...</th>\n",
       "      <td>...</td>\n",
       "      <td>...</td>\n",
       "      <td>...</td>\n",
       "      <td>...</td>\n",
       "      <td>...</td>\n",
       "      <td>...</td>\n",
       "    </tr>\n",
       "    <tr>\n",
       "      <th>2768</th>\n",
       "      <td>30764</td>\n",
       "      <td>@BbeautifulSoul_ u always gotta attitude tho ....</td>\n",
       "      <td>joy</td>\n",
       "      <td>0.188</td>\n",
       "      <td>[@, BbeautifulSoul_, u, always, got, ta, attit...</td>\n",
       "      <td>[-0.570004940032959, 5.813686847686768, 2.5440...</td>\n",
       "    </tr>\n",
       "    <tr>\n",
       "      <th>1322</th>\n",
       "      <td>20465</td>\n",
       "      <td>Haven't gotten one hour of sleep... Today is g...</td>\n",
       "      <td>fear</td>\n",
       "      <td>0.542</td>\n",
       "      <td>[Have, n't, gotten, one, hour, of, sleep, ...,...</td>\n",
       "      <td>[0.6932090520858765, 5.082231521606445, -0.353...</td>\n",
       "    </tr>\n",
       "    <tr>\n",
       "      <th>2615</th>\n",
       "      <td>30611</td>\n",
       "      <td>Misery loves company. The church ought to be a...</td>\n",
       "      <td>joy</td>\n",
       "      <td>0.346</td>\n",
       "      <td>[Misery, loves, company, ., The, church, ought...</td>\n",
       "      <td>[1.5492867231369019, 4.031195163726807, 3.1372...</td>\n",
       "    </tr>\n",
       "    <tr>\n",
       "      <th>2523</th>\n",
       "      <td>30519</td>\n",
       "      <td>incetown, age 23, joyful, elevated in hope wit...</td>\n",
       "      <td>joy</td>\n",
       "      <td>0.417</td>\n",
       "      <td>[incetown, ,, age, 23, ,, joyful, ,, elevated,...</td>\n",
       "      <td>[-0.270175576210022, 1.8738933801651, -0.03579...</td>\n",
       "    </tr>\n",
       "    <tr>\n",
       "      <th>3338</th>\n",
       "      <td>40511</td>\n",
       "      <td>In need of a serious nap rn</td>\n",
       "      <td>sadness</td>\n",
       "      <td>0.396</td>\n",
       "      <td>[In, need, of, a, serious, nap, rn]</td>\n",
       "      <td>[0.5080735087394714, 4.612948894500732, 2.4213...</td>\n",
       "    </tr>\n",
       "  </tbody>\n",
       "</table>\n",
       "<p>3613 rows × 6 columns</p>\n",
       "</div>"
      ],
      "text/plain": [
       "         id                                               text  emotion  \\\n",
       "2975  40148  @CNN yes. Too many cops. And too many ppl who ...  sadness   \n",
       "351   10351  @TillTheEndMMVI I accidetly dumped boiling wat...    anger   \n",
       "1001  20144  @Budget  car rental you have made realize why ...     fear   \n",
       "607   10607  @UnknownAndYoung — a low growl escaping him. O...    anger   \n",
       "1892  21035  The radio just told me Lady GaGa is going coun...     fear   \n",
       "...     ...                                                ...      ...   \n",
       "2768  30764  @BbeautifulSoul_ u always gotta attitude tho ....      joy   \n",
       "1322  20465  Haven't gotten one hour of sleep... Today is g...     fear   \n",
       "2615  30611  Misery loves company. The church ought to be a...      joy   \n",
       "2523  30519  incetown, age 23, joyful, elevated in hope wit...      joy   \n",
       "3338  40511                        In need of a serious nap rn  sadness   \n",
       "\n",
       "      intensity                                     text_tokenized  \\\n",
       "2975      0.688  [@, CNN, yes, ., Too, many, cops, ., And, too,...   \n",
       "351       0.521  [@, TillTheEndMMVI, I, accidetly, dumped, boil...   \n",
       "1001      0.729  [@, Budget, car, rental, you, have, made, real...   \n",
       "607       0.396  [@, UnknownAndYoung, —, a, low, growl, escapin...   \n",
       "1892      0.246  [The, radio, just, told, me, Lady, GaGa, is, g...   \n",
       "...         ...                                                ...   \n",
       "2768      0.188  [@, BbeautifulSoul_, u, always, got, ta, attit...   \n",
       "1322      0.542  [Have, n't, gotten, one, hour, of, sleep, ...,...   \n",
       "2615      0.346  [Misery, loves, company, ., The, church, ought...   \n",
       "2523      0.417  [incetown, ,, age, 23, ,, joyful, ,, elevated,...   \n",
       "3338      0.396                [In, need, of, a, serious, nap, rn]   \n",
       "\n",
       "                                             embeddings  \n",
       "2975  [-3.9800658226013184, 4.717365264892578, 2.268...  \n",
       "351   [-1.5584574937820435, 4.278619289398193, 0.594...  \n",
       "1001  [3.2699358463287354, 5.047285556793213, 1.0048...  \n",
       "607   [-2.963304281234741, 3.6857857704162598, 2.186...  \n",
       "1892  [0.41087764501571655, 4.704644203186035, -0.89...  \n",
       "...                                                 ...  \n",
       "2768  [-0.570004940032959, 5.813686847686768, 2.5440...  \n",
       "1322  [0.6932090520858765, 5.082231521606445, -0.353...  \n",
       "2615  [1.5492867231369019, 4.031195163726807, 3.1372...  \n",
       "2523  [-0.270175576210022, 1.8738933801651, -0.03579...  \n",
       "3338  [0.5080735087394714, 4.612948894500732, 2.4213...  \n",
       "\n",
       "[3613 rows x 6 columns]"
      ]
     },
     "execution_count": 85,
     "metadata": {},
     "output_type": "execute_result"
    }
   ],
   "source": [
    "df_train #We can see the new column with the embeddings"
   ]
  },
  {
   "cell_type": "code",
   "execution_count": 86,
   "metadata": {
    "id": "BRSA23blTBbC",
    "outputId": "e34893bc-edd2-4d2e-c9c7-7fc619110cab"
   },
   "outputs": [
    {
     "data": {
      "text/html": [
       "<div>\n",
       "<style scoped>\n",
       "    .dataframe tbody tr th:only-of-type {\n",
       "        vertical-align: middle;\n",
       "    }\n",
       "\n",
       "    .dataframe tbody tr th {\n",
       "        vertical-align: top;\n",
       "    }\n",
       "\n",
       "    .dataframe thead th {\n",
       "        text-align: right;\n",
       "    }\n",
       "</style>\n",
       "<table border=\"1\" class=\"dataframe\">\n",
       "  <thead>\n",
       "    <tr style=\"text-align: right;\">\n",
       "      <th></th>\n",
       "      <th>id</th>\n",
       "      <th>text</th>\n",
       "      <th>emotion</th>\n",
       "      <th>intensity</th>\n",
       "      <th>embeddings</th>\n",
       "    </tr>\n",
       "  </thead>\n",
       "  <tbody>\n",
       "    <tr>\n",
       "      <th>289</th>\n",
       "      <td>40802</td>\n",
       "      <td>[ @HedgehogDylan ] *she would frown a bit, fol...</td>\n",
       "      <td>sadness</td>\n",
       "      <td>0.562</td>\n",
       "      <td>[-1.159415602684021, 3.3423988819122314, 1.565...</td>\n",
       "    </tr>\n",
       "    <tr>\n",
       "      <th>258</th>\n",
       "      <td>30887</td>\n",
       "      <td>[Moment of levity on the B41] Baby: I want ISI...</td>\n",
       "      <td>joy</td>\n",
       "      <td>0.521</td>\n",
       "      <td>[-2.219778060913086, 3.4517645835876465, 0.822...</td>\n",
       "    </tr>\n",
       "    <tr>\n",
       "      <th>87</th>\n",
       "      <td>21150</td>\n",
       "      <td>@1johndes ball watching &amp;amp; Rojo'd header wa...</td>\n",
       "      <td>fear</td>\n",
       "      <td>0.475</td>\n",
       "      <td>[-1.693087100982666, 4.286654949188232, -2.038...</td>\n",
       "    </tr>\n",
       "    <tr>\n",
       "      <th>251</th>\n",
       "      <td>30880</td>\n",
       "      <td>Metal keeps you young and spry and keeps your ...</td>\n",
       "      <td>joy</td>\n",
       "      <td>0.460</td>\n",
       "      <td>[2.281834363937378, 1.2904160022735596, 2.7985...</td>\n",
       "    </tr>\n",
       "    <tr>\n",
       "      <th>310</th>\n",
       "      <td>40823</td>\n",
       "      <td>you are on an endless journey of figuring your...</td>\n",
       "      <td>sadness</td>\n",
       "      <td>0.375</td>\n",
       "      <td>[-1.7117738723754883, 5.158992290496826, 1.244...</td>\n",
       "    </tr>\n",
       "    <tr>\n",
       "      <th>...</th>\n",
       "      <td>...</td>\n",
       "      <td>...</td>\n",
       "      <td>...</td>\n",
       "      <td>...</td>\n",
       "      <td>...</td>\n",
       "    </tr>\n",
       "    <tr>\n",
       "      <th>254</th>\n",
       "      <td>30883</td>\n",
       "      <td>@MichiganBromo Good optimism sir :)</td>\n",
       "      <td>joy</td>\n",
       "      <td>0.538</td>\n",
       "      <td>[-2.3528223037719727, 4.724969387054443, 0.278...</td>\n",
       "    </tr>\n",
       "    <tr>\n",
       "      <th>333</th>\n",
       "      <td>40846</td>\n",
       "      <td>Should of stayed in Dubai 😞</td>\n",
       "      <td>sadness</td>\n",
       "      <td>0.708</td>\n",
       "      <td>[0.5415574312210083, 3.770467519760132, 0.7580...</td>\n",
       "    </tr>\n",
       "    <tr>\n",
       "      <th>39</th>\n",
       "      <td>10896</td>\n",
       "      <td>@LeonWobYP b***er off. NCFC is a grudge match :)</td>\n",
       "      <td>anger</td>\n",
       "      <td>0.542</td>\n",
       "      <td>[-2.3308935165405273, 6.368980407714844, -1.13...</td>\n",
       "    </tr>\n",
       "    <tr>\n",
       "      <th>55</th>\n",
       "      <td>10912</td>\n",
       "      <td>@UKBlogAwards @ModishMale I would always be ho...</td>\n",
       "      <td>anger</td>\n",
       "      <td>0.438</td>\n",
       "      <td>[2.604867935180664, 3.4614908695220947, 2.3761...</td>\n",
       "    </tr>\n",
       "    <tr>\n",
       "      <th>211</th>\n",
       "      <td>30840</td>\n",
       "      <td>4-2 Canada final tomorrow #WCH #Predictions #o...</td>\n",
       "      <td>joy</td>\n",
       "      <td>0.420</td>\n",
       "      <td>[-0.3390308916568756, 5.9338226318359375, 1.44...</td>\n",
       "    </tr>\n",
       "  </tbody>\n",
       "</table>\n",
       "<p>347 rows × 5 columns</p>\n",
       "</div>"
      ],
      "text/plain": [
       "        id                                               text  emotion  \\\n",
       "289  40802  [ @HedgehogDylan ] *she would frown a bit, fol...  sadness   \n",
       "258  30887  [Moment of levity on the B41] Baby: I want ISI...      joy   \n",
       "87   21150  @1johndes ball watching &amp; Rojo'd header wa...     fear   \n",
       "251  30880  Metal keeps you young and spry and keeps your ...      joy   \n",
       "310  40823  you are on an endless journey of figuring your...  sadness   \n",
       "..     ...                                                ...      ...   \n",
       "254  30883                @MichiganBromo Good optimism sir :)      joy   \n",
       "333  40846                        Should of stayed in Dubai 😞  sadness   \n",
       "39   10896   @LeonWobYP b***er off. NCFC is a grudge match :)    anger   \n",
       "55   10912  @UKBlogAwards @ModishMale I would always be ho...    anger   \n",
       "211  30840  4-2 Canada final tomorrow #WCH #Predictions #o...      joy   \n",
       "\n",
       "     intensity                                         embeddings  \n",
       "289      0.562  [-1.159415602684021, 3.3423988819122314, 1.565...  \n",
       "258      0.521  [-2.219778060913086, 3.4517645835876465, 0.822...  \n",
       "87       0.475  [-1.693087100982666, 4.286654949188232, -2.038...  \n",
       "251      0.460  [2.281834363937378, 1.2904160022735596, 2.7985...  \n",
       "310      0.375  [-1.7117738723754883, 5.158992290496826, 1.244...  \n",
       "..         ...                                                ...  \n",
       "254      0.538  [-2.3528223037719727, 4.724969387054443, 0.278...  \n",
       "333      0.708  [0.5415574312210083, 3.770467519760132, 0.7580...  \n",
       "39       0.542  [-2.3308935165405273, 6.368980407714844, -1.13...  \n",
       "55       0.438  [2.604867935180664, 3.4614908695220947, 2.3761...  \n",
       "211      0.420  [-0.3390308916568756, 5.9338226318359375, 1.44...  \n",
       "\n",
       "[347 rows x 5 columns]"
      ]
     },
     "execution_count": 86,
     "metadata": {},
     "output_type": "execute_result"
    }
   ],
   "source": [
    "df_test #We can see the new column with the embeddings"
   ]
  },
  {
   "cell_type": "markdown",
   "metadata": {
    "id": "ytDwdHwqTBbC"
   },
   "source": [
    "Now let's train some models with these embeddings:\n",
    "\n",
    "**KNeighborsClassifier (KNN)**: KNN is a simple, instance-based machine learning algorithm used for classification. It works by finding the 'k' nearest neighbors to a data point based on a distance metric (e.g., Euclidean distance) and assigning the most common class among those neighbors to the data point. KNN is non-parametric, meaning it doesn’t assume a specific form for the underlying data distribution, and it classifies points based on their similarity to other points in the training set. It's easy to understand and implement, though it can become computationally expensive with large datasets."
   ]
  },
  {
   "cell_type": "code",
   "execution_count": 87,
   "metadata": {
    "id": "TrT5P4BJTBbC",
    "outputId": "5641289e-a89e-41bd-e63a-32269b3cb60a"
   },
   "outputs": [
    {
     "data": {
      "text/html": [
       "<style>#sk-container-id-1 {color: black;background-color: white;}#sk-container-id-1 pre{padding: 0;}#sk-container-id-1 div.sk-toggleable {background-color: white;}#sk-container-id-1 label.sk-toggleable__label {cursor: pointer;display: block;width: 100%;margin-bottom: 0;padding: 0.3em;box-sizing: border-box;text-align: center;}#sk-container-id-1 label.sk-toggleable__label-arrow:before {content: \"▸\";float: left;margin-right: 0.25em;color: #696969;}#sk-container-id-1 label.sk-toggleable__label-arrow:hover:before {color: black;}#sk-container-id-1 div.sk-estimator:hover label.sk-toggleable__label-arrow:before {color: black;}#sk-container-id-1 div.sk-toggleable__content {max-height: 0;max-width: 0;overflow: hidden;text-align: left;background-color: #f0f8ff;}#sk-container-id-1 div.sk-toggleable__content pre {margin: 0.2em;color: black;border-radius: 0.25em;background-color: #f0f8ff;}#sk-container-id-1 input.sk-toggleable__control:checked~div.sk-toggleable__content {max-height: 200px;max-width: 100%;overflow: auto;}#sk-container-id-1 input.sk-toggleable__control:checked~label.sk-toggleable__label-arrow:before {content: \"▾\";}#sk-container-id-1 div.sk-estimator input.sk-toggleable__control:checked~label.sk-toggleable__label {background-color: #d4ebff;}#sk-container-id-1 div.sk-label input.sk-toggleable__control:checked~label.sk-toggleable__label {background-color: #d4ebff;}#sk-container-id-1 input.sk-hidden--visually {border: 0;clip: rect(1px 1px 1px 1px);clip: rect(1px, 1px, 1px, 1px);height: 1px;margin: -1px;overflow: hidden;padding: 0;position: absolute;width: 1px;}#sk-container-id-1 div.sk-estimator {font-family: monospace;background-color: #f0f8ff;border: 1px dotted black;border-radius: 0.25em;box-sizing: border-box;margin-bottom: 0.5em;}#sk-container-id-1 div.sk-estimator:hover {background-color: #d4ebff;}#sk-container-id-1 div.sk-parallel-item::after {content: \"\";width: 100%;border-bottom: 1px solid gray;flex-grow: 1;}#sk-container-id-1 div.sk-label:hover label.sk-toggleable__label {background-color: #d4ebff;}#sk-container-id-1 div.sk-serial::before {content: \"\";position: absolute;border-left: 1px solid gray;box-sizing: border-box;top: 0;bottom: 0;left: 50%;z-index: 0;}#sk-container-id-1 div.sk-serial {display: flex;flex-direction: column;align-items: center;background-color: white;padding-right: 0.2em;padding-left: 0.2em;position: relative;}#sk-container-id-1 div.sk-item {position: relative;z-index: 1;}#sk-container-id-1 div.sk-parallel {display: flex;align-items: stretch;justify-content: center;background-color: white;position: relative;}#sk-container-id-1 div.sk-item::before, #sk-container-id-1 div.sk-parallel-item::before {content: \"\";position: absolute;border-left: 1px solid gray;box-sizing: border-box;top: 0;bottom: 0;left: 50%;z-index: -1;}#sk-container-id-1 div.sk-parallel-item {display: flex;flex-direction: column;z-index: 1;position: relative;background-color: white;}#sk-container-id-1 div.sk-parallel-item:first-child::after {align-self: flex-end;width: 50%;}#sk-container-id-1 div.sk-parallel-item:last-child::after {align-self: flex-start;width: 50%;}#sk-container-id-1 div.sk-parallel-item:only-child::after {width: 0;}#sk-container-id-1 div.sk-dashed-wrapped {border: 1px dashed gray;margin: 0 0.4em 0.5em 0.4em;box-sizing: border-box;padding-bottom: 0.4em;background-color: white;}#sk-container-id-1 div.sk-label label {font-family: monospace;font-weight: bold;display: inline-block;line-height: 1.2em;}#sk-container-id-1 div.sk-label-container {text-align: center;}#sk-container-id-1 div.sk-container {/* jupyter's `normalize.less` sets `[hidden] { display: none; }` but bootstrap.min.css set `[hidden] { display: none !important; }` so we also need the `!important` here to be able to override the default hidden behavior on the sphinx rendered scikit-learn.org. See: https://github.com/scikit-learn/scikit-learn/issues/21755 */display: inline-block !important;position: relative;}#sk-container-id-1 div.sk-text-repr-fallback {display: none;}</style><div id=\"sk-container-id-1\" class=\"sk-top-container\"><div class=\"sk-text-repr-fallback\"><pre>KNeighborsClassifier(n_neighbors=10)</pre><b>In a Jupyter environment, please rerun this cell to show the HTML representation or trust the notebook. <br />On GitHub, the HTML representation is unable to render, please try loading this page with nbviewer.org.</b></div><div class=\"sk-container\" hidden><div class=\"sk-item\"><div class=\"sk-estimator sk-toggleable\"><input class=\"sk-toggleable__control sk-hidden--visually\" id=\"sk-estimator-id-1\" type=\"checkbox\" checked><label for=\"sk-estimator-id-1\" class=\"sk-toggleable__label sk-toggleable__label-arrow\">KNeighborsClassifier</label><div class=\"sk-toggleable__content\"><pre>KNeighborsClassifier(n_neighbors=10)</pre></div></div></div></div></div>"
      ],
      "text/plain": [
       "KNeighborsClassifier(n_neighbors=10)"
      ]
     },
     "execution_count": 87,
     "metadata": {},
     "output_type": "execute_result"
    }
   ],
   "source": [
    "from sklearn.neighbors import KNeighborsClassifier\n",
    "from sklearn.metrics import accuracy_score\n",
    "\n",
    "# Let's use the new Llama 3.2 embeddings as our training features and the emotions as our labels\n",
    "X_train = df_train[\"embeddings\"].tolist()\n",
    "y_train = df_train['emotion']\n",
    "\n",
    "\n",
    "# Initialize the KNN classifier\n",
    "knn = KNeighborsClassifier(n_neighbors=10)\n",
    "\n",
    "knn.fit(X_train, y_train)"
   ]
  },
  {
   "cell_type": "code",
   "execution_count": 88,
   "metadata": {
    "id": "vSuSmWfDTBbC",
    "outputId": "98679005-8793-4ea2-ea5c-f2fae31a0c5b"
   },
   "outputs": [
    {
     "data": {
      "text/plain": [
       "2048"
      ]
     },
     "execution_count": 88,
     "metadata": {},
     "output_type": "execute_result"
    }
   ],
   "source": [
    "len(df_train[\"embeddings\"][0]) # Llama 3.2 embedding dimension is 3072"
   ]
  },
  {
   "cell_type": "code",
   "execution_count": 89,
   "metadata": {
    "id": "RelyOXgYTBbC",
    "outputId": "8eb3b73e-9c28-4479-b6c1-d779818dffbf"
   },
   "outputs": [
    {
     "name": "stdout",
     "output_type": "stream",
     "text": [
      "KNN Accuracy: 0.4783861671469741\n"
     ]
    }
   ],
   "source": [
    "X_test = df_test[\"embeddings\"].tolist()\n",
    "y_test = df_test['emotion']\n",
    "\n",
    "# Predicting the label for the test data\n",
    "y_pred = knn.predict(X_test)\n",
    "\n",
    "#Calculate the accuracy of the model\n",
    "accuracy = accuracy_score(y_test, y_pred)\n",
    "\n",
    "print(f'KNN Accuracy: {accuracy}')"
   ]
  },
  {
   "cell_type": "code",
   "execution_count": 90,
   "metadata": {
    "id": "lBBAJdQQTBbD",
    "outputId": "cc0858f7-b656-42a2-a452-691f2277a511"
   },
   "outputs": [
    {
     "name": "stdout",
     "output_type": "stream",
     "text": [
      "              precision    recall  f1-score   support\n",
      "\n",
      "       anger       0.40      0.48      0.44        84\n",
      "        fear       0.57      0.55      0.56       110\n",
      "         joy       0.44      0.44      0.44        79\n",
      "     sadness       0.48      0.41      0.44        74\n",
      "\n",
      "    accuracy                           0.48       347\n",
      "   macro avg       0.48      0.47      0.47       347\n",
      "weighted avg       0.48      0.48      0.48       347\n",
      "\n"
     ]
    }
   ],
   "source": [
    "## precision, recall, f1-score,\n",
    "from sklearn.metrics import classification_report\n",
    "\n",
    "print(classification_report(y_true=y_test, y_pred=y_pred))"
   ]
  },
  {
   "cell_type": "code",
   "execution_count": 107,
   "metadata": {
    "id": "bCZtA-YaTBbD",
    "outputId": "7fa53136-1b7b-47bc-98de-f622d1485808"
   },
   "outputs": [
    {
     "data": {
      "image/png": "[encoded data removed]",
      "text/plain": [
       "<Figure size 500x500 with 2 Axes>"
      ]
     },
     "metadata": {},
     "output_type": "display_data"
    }
   ],
   "source": [
    "## check by confusion matrix\n",
    "from sklearn.metrics import confusion_matrix\n",
    "\n",
    "cm2 = confusion_matrix(y_true=y_test, y_pred=y_pred)\n",
    "my_tags = ['anger', 'fear', 'joy', 'sadness']\n",
    "plot_confusion_matrix(cm2, classes=my_tags, title='Confusion matrix for classification with \\nLLM Embeddings - KNN')"
   ]
  },
  {
   "cell_type": "code",
   "execution_count": 108,
   "metadata": {},
   "outputs": [
    {
     "data": {
      "text/plain": [
       "array([[40, 22, 11, 11],\n",
       "       [26, 61, 16,  7],\n",
       "       [18, 12, 35, 14],\n",
       "       [15, 12, 17, 30]], dtype=int64)"
      ]
     },
     "execution_count": 108,
     "metadata": {},
     "output_type": "execute_result"
    }
   ],
   "source": [
    "cm2"
   ]
  },
  {
   "cell_type": "markdown",
   "metadata": {
    "id": "ZGt1C70NTBbD"
   },
   "source": [
    "Now let's also try to apply our **Neural Network** to these embeddings:"
   ]
  },
  {
   "cell_type": "code",
   "execution_count": 92,
   "metadata": {
    "id": "EC37OBAWTBbD"
   },
   "outputs": [],
   "source": [
    "X_llama_train = np.vstack(df_train[\"embeddings\"].to_numpy()) #Defining our train set"
   ]
  },
  {
   "cell_type": "code",
   "execution_count": 93,
   "metadata": {
    "id": "n2Zf8Ek5TBbD"
   },
   "outputs": [],
   "source": [
    "X_llama_test = np.vstack(df_test[\"embeddings\"].to_numpy()) #Defining our test set"
   ]
  },
  {
   "cell_type": "code",
   "execution_count": 94,
   "metadata": {
    "id": "5hJVvhFkTBbD",
    "outputId": "e45bc698-4beb-42b7-efb7-b96d091972e8"
   },
   "outputs": [
    {
     "data": {
      "text/plain": [
       "(3613, 2048)"
      ]
     },
     "execution_count": 94,
     "metadata": {},
     "output_type": "execute_result"
    }
   ],
   "source": [
    "X_llama_train.shape #(Number of data, Llama 3.2 embedding size)"
   ]
  },
  {
   "cell_type": "code",
   "execution_count": 95,
   "metadata": {
    "id": "qxqndC2nTBbD",
    "outputId": "768b0807-d1ef-4cc5-986c-b67e6ebe4c14"
   },
   "outputs": [
    {
     "data": {
      "text/plain": [
       "(347, 2048)"
      ]
     },
     "execution_count": 95,
     "metadata": {},
     "output_type": "execute_result"
    }
   ],
   "source": [
    "X_llama_test.shape #(Number of data, Llama 3.2 embedding size)"
   ]
  },
  {
   "cell_type": "code",
   "execution_count": 96,
   "metadata": {
    "id": "76Ha1Tl9TBbD"
   },
   "outputs": [],
   "source": [
    "#One-hot encoding our labels\n",
    "y_train_llama = label_encode(label_encoder, y_train)\n",
    "y_test_llama = label_encode(label_encoder, y_test)"
   ]
  },
  {
   "cell_type": "code",
   "execution_count": 97,
   "metadata": {
    "id": "hM5bByohTBbD",
    "outputId": "04870b4e-e177-4f73-ac66-14dcb4c4d099"
   },
   "outputs": [
    {
     "name": "stdout",
     "output_type": "stream",
     "text": [
      "input_shape:  2048\n",
      "output_shape:  4\n"
     ]
    }
   ],
   "source": [
    "# I/O check\n",
    "input_shape_llama = len(X_llama_train[0])\n",
    "print('input_shape: ', input_shape_llama)\n",
    "\n",
    "output_shape = len(label_encoder.classes_)\n",
    "print('output_shape: ', output_shape)"
   ]
  },
  {
   "cell_type": "code",
   "execution_count": 98,
   "metadata": {
    "id": "r1uQlOxoTBbD",
    "outputId": "7080511e-8482-4458-b7f6-91f021f3e76c"
   },
   "outputs": [
    {
     "name": "stdout",
     "output_type": "stream",
     "text": [
      "Model: \"model_1\"\n",
      "_________________________________________________________________\n",
      " Layer (type)                Output Shape              Param #   \n",
      "=================================================================\n",
      " input_2 (InputLayer)        [(None, 2048)]            0         \n",
      "                                                                 \n",
      " dense_3 (Dense)             (None, 64)                131136    \n",
      "                                                                 \n",
      " re_lu_2 (ReLU)              (None, 64)                0         \n",
      "                                                                 \n",
      " dense_4 (Dense)             (None, 64)                4160      \n",
      "                                                                 \n",
      " re_lu_3 (ReLU)              (None, 64)                0         \n",
      "                                                                 \n",
      " dense_5 (Dense)             (None, 4)                 260       \n",
      "                                                                 \n",
      " softmax_1 (Softmax)         (None, 4)                 0         \n",
      "                                                                 \n",
      "=================================================================\n",
      "Total params: 135556 (529.52 KB)\n",
      "Trainable params: 135556 (529.52 KB)\n",
      "Non-trainable params: 0 (0.00 Byte)\n",
      "_________________________________________________________________\n"
     ]
    }
   ],
   "source": [
    "#We try the same Neural Network Model Again\n",
    "from keras.models import Model\n",
    "from keras.layers import Input, Dense\n",
    "from keras.layers import ReLU, Softmax\n",
    "\n",
    "# input layer\n",
    "model_input = Input(shape=(input_shape_llama, ))  # 3072\n",
    "X = model_input\n",
    "\n",
    "# 1st hidden layer\n",
    "X_W1 = Dense(units=64)(X)  # 64\n",
    "H1 = ReLU()(X_W1)\n",
    "\n",
    "# 2nd hidden layer\n",
    "H1_W2 = Dense(units=64)(H1)  # 64\n",
    "H2 = ReLU()(H1_W2)\n",
    "\n",
    "# output layer\n",
    "H2_W3 = Dense(units=output_shape)(H2)  # 4\n",
    "H3 = Softmax()(H2_W3)\n",
    "\n",
    "model_output = H3\n",
    "\n",
    "# create model\n",
    "model = Model(inputs=[model_input], outputs=[model_output])\n",
    "\n",
    "# loss function & optimizer\n",
    "model.compile(optimizer='adam',\n",
    "              loss='categorical_crossentropy',\n",
    "              metrics=['accuracy'])\n",
    "\n",
    "# show model construction\n",
    "model.summary() #We can notice that our parameter numbers went up because of the increase in the dimension of our input"
   ]
  },
  {
   "cell_type": "code",
   "execution_count": 99,
   "metadata": {
    "id": "gE200YypTBbD",
    "outputId": "80e1875b-2f9e-45c8-e26d-ded9e8f32e0a"
   },
   "outputs": [
    {
     "name": "stdout",
     "output_type": "stream",
     "text": [
      "Epoch 1/25\n",
      "113/113 [==============================] - 1s 3ms/step - loss: 1.2628 - accuracy: 0.4406 - val_loss: 1.0611 - val_accuracy: 0.5821\n",
      "Epoch 2/25\n",
      "113/113 [==============================] - 0s 2ms/step - loss: 0.9451 - accuracy: 0.6070 - val_loss: 1.0556 - val_accuracy: 0.5360\n",
      "Epoch 3/25\n",
      "113/113 [==============================] - 0s 2ms/step - loss: 0.7903 - accuracy: 0.6814 - val_loss: 0.9896 - val_accuracy: 0.6167\n",
      "Epoch 4/25\n",
      "113/113 [==============================] - 0s 2ms/step - loss: 0.6746 - accuracy: 0.7307 - val_loss: 1.0611 - val_accuracy: 0.5879\n",
      "Epoch 5/25\n",
      "113/113 [==============================] - 0s 2ms/step - loss: 0.6129 - accuracy: 0.7609 - val_loss: 1.0326 - val_accuracy: 0.6052\n",
      "Epoch 6/25\n",
      "113/113 [==============================] - 0s 2ms/step - loss: 0.5217 - accuracy: 0.7968 - val_loss: 1.0879 - val_accuracy: 0.5821\n",
      "Epoch 7/25\n",
      "113/113 [==============================] - 0s 2ms/step - loss: 0.4753 - accuracy: 0.8240 - val_loss: 1.3003 - val_accuracy: 0.5620\n",
      "Epoch 8/25\n",
      "113/113 [==============================] - 0s 2ms/step - loss: 0.4252 - accuracy: 0.8447 - val_loss: 1.2802 - val_accuracy: 0.5908\n",
      "Epoch 9/25\n",
      "113/113 [==============================] - 0s 2ms/step - loss: 0.3584 - accuracy: 0.8713 - val_loss: 1.2381 - val_accuracy: 0.6023\n",
      "Epoch 10/25\n",
      "113/113 [==============================] - 0s 2ms/step - loss: 0.3114 - accuracy: 0.8854 - val_loss: 1.5584 - val_accuracy: 0.5764\n",
      "Epoch 11/25\n",
      "113/113 [==============================] - 0s 2ms/step - loss: 0.2972 - accuracy: 0.8912 - val_loss: 1.3223 - val_accuracy: 0.6081\n",
      "Epoch 12/25\n",
      "113/113 [==============================] - 0s 2ms/step - loss: 0.2311 - accuracy: 0.9228 - val_loss: 1.4647 - val_accuracy: 0.6023\n",
      "Epoch 13/25\n",
      "113/113 [==============================] - 0s 2ms/step - loss: 0.2120 - accuracy: 0.9283 - val_loss: 1.5384 - val_accuracy: 0.5965\n",
      "Epoch 14/25\n",
      "113/113 [==============================] - 0s 2ms/step - loss: 0.1967 - accuracy: 0.9350 - val_loss: 1.6394 - val_accuracy: 0.5908\n",
      "Epoch 15/25\n",
      "113/113 [==============================] - 0s 2ms/step - loss: 0.1946 - accuracy: 0.9350 - val_loss: 1.7935 - val_accuracy: 0.5706\n",
      "Epoch 16/25\n",
      "113/113 [==============================] - 0s 2ms/step - loss: 0.1879 - accuracy: 0.9350 - val_loss: 1.7849 - val_accuracy: 0.5994\n",
      "Epoch 17/25\n",
      "113/113 [==============================] - 0s 2ms/step - loss: 0.1472 - accuracy: 0.9480 - val_loss: 1.7995 - val_accuracy: 0.5706\n",
      "Epoch 18/25\n",
      "113/113 [==============================] - 0s 2ms/step - loss: 0.1354 - accuracy: 0.9541 - val_loss: 1.9043 - val_accuracy: 0.5994\n",
      "Epoch 19/25\n",
      "113/113 [==============================] - 0s 2ms/step - loss: 0.1355 - accuracy: 0.9571 - val_loss: 1.8331 - val_accuracy: 0.5850\n",
      "Epoch 20/25\n",
      "113/113 [==============================] - 0s 2ms/step - loss: 0.1027 - accuracy: 0.9671 - val_loss: 2.0773 - val_accuracy: 0.5648\n",
      "Epoch 21/25\n",
      "113/113 [==============================] - 0s 2ms/step - loss: 0.0999 - accuracy: 0.9662 - val_loss: 2.1275 - val_accuracy: 0.6110\n",
      "Epoch 22/25\n",
      "113/113 [==============================] - 0s 2ms/step - loss: 0.1157 - accuracy: 0.9640 - val_loss: 2.0834 - val_accuracy: 0.6023\n",
      "Epoch 23/25\n",
      "113/113 [==============================] - 0s 2ms/step - loss: 0.0881 - accuracy: 0.9720 - val_loss: 2.0645 - val_accuracy: 0.5735\n",
      "Epoch 24/25\n",
      "113/113 [==============================] - 0s 2ms/step - loss: 0.0829 - accuracy: 0.9718 - val_loss: 2.1938 - val_accuracy: 0.5879\n",
      "Epoch 25/25\n",
      "113/113 [==============================] - 0s 2ms/step - loss: 0.1091 - accuracy: 0.9626 - val_loss: 2.3360 - val_accuracy: 0.5677\n",
      "training finish\n"
     ]
    }
   ],
   "source": [
    "from keras.callbacks import CSVLogger\n",
    "\n",
    "csv_logger = CSVLogger('logs/training_log_2.csv')\n",
    "\n",
    "# training setting\n",
    "epochs = 25\n",
    "batch_size = 32\n",
    "\n",
    "# training!\n",
    "history = model.fit(X_llama_train, y_train_llama,\n",
    "                    epochs=epochs,\n",
    "                    batch_size=batch_size,\n",
    "                    callbacks=[csv_logger],\n",
    "                    validation_data = (X_llama_test, y_test_llama))\n",
    "print('training finish')"
   ]
  },
  {
   "cell_type": "code",
   "execution_count": 100,
   "metadata": {
    "colab": {
     "base_uri": "https://localhost:8080/"
    },
    "id": "mCfcgSG5TBbD",
    "outputId": "6e7e97b7-fe5c-44f6-9baa-a71335aa7b06"
   },
   "outputs": [
    {
     "name": "stdout",
     "output_type": "stream",
     "text": [
      "3/3 [==============================] - 0s 1ms/step\n"
     ]
    },
    {
     "data": {
      "text/plain": [
       "array([[9.9984074e-01, 7.6398101e-06, 1.4361241e-04, 7.9871115e-06],\n",
       "       [9.8806667e-01, 9.5940108e-05, 1.4159529e-04, 1.1695759e-02],\n",
       "       [6.2980741e-04, 6.7748442e-02, 2.9741414e-04, 9.3132424e-01],\n",
       "       [7.8480846e-01, 1.0857026e-03, 1.0622782e-04, 2.1399964e-01],\n",
       "       [3.2368461e-03, 3.9145091e-01, 7.9850928e-04, 6.0451376e-01]],\n",
       "      dtype=float32)"
      ]
     },
     "execution_count": 100,
     "metadata": {},
     "output_type": "execute_result"
    }
   ],
   "source": [
    "## predict\n",
    "pred_result = model.predict(X_llama_test, batch_size=128)\n",
    "pred_result[:5]"
   ]
  },
  {
   "cell_type": "code",
   "execution_count": 101,
   "metadata": {
    "colab": {
     "base_uri": "https://localhost:8080/"
    },
    "id": "WNJ_SDGITBbD",
    "outputId": "d35b5fb3-74e5-44d9-ac1d-8a11cca023e4"
   },
   "outputs": [
    {
     "data": {
      "text/plain": [
       "array(['anger', 'anger', 'sadness', 'anger', 'sadness'], dtype=object)"
      ]
     },
     "execution_count": 101,
     "metadata": {},
     "output_type": "execute_result"
    }
   ],
   "source": [
    "pred_result = label_decode(label_encoder, pred_result)\n",
    "pred_result[:5]"
   ]
  },
  {
   "cell_type": "code",
   "execution_count": 102,
   "metadata": {
    "colab": {
     "base_uri": "https://localhost:8080/"
    },
    "id": "A55Je9KOTBbD",
    "outputId": "d4f240ef-5f59-4d90-e3a2-57b98ced3928"
   },
   "outputs": [
    {
     "name": "stdout",
     "output_type": "stream",
     "text": [
      "testing accuracy: 0.57\n"
     ]
    }
   ],
   "source": [
    "from sklearn.metrics import accuracy_score\n",
    "#Accuracy\n",
    "print('testing accuracy: {}'.format(round(accuracy_score(label_decode(label_encoder, y_test_llama), pred_result), 2)))"
   ]
  },
  {
   "cell_type": "code",
   "execution_count": 103,
   "metadata": {
    "colab": {
     "base_uri": "https://localhost:8080/",
     "height": 834
    },
    "id": "FN7aa7oeTBbD",
    "outputId": "8b802a69-6377-4f0a-c1fa-2f03e5abebd4"
   },
   "outputs": [
    {
     "data": {
      "text/html": [
       "<div>\n",
       "<style scoped>\n",
       "    .dataframe tbody tr th:only-of-type {\n",
       "        vertical-align: middle;\n",
       "    }\n",
       "\n",
       "    .dataframe tbody tr th {\n",
       "        vertical-align: top;\n",
       "    }\n",
       "\n",
       "    .dataframe thead th {\n",
       "        text-align: right;\n",
       "    }\n",
       "</style>\n",
       "<table border=\"1\" class=\"dataframe\">\n",
       "  <thead>\n",
       "    <tr style=\"text-align: right;\">\n",
       "      <th></th>\n",
       "      <th>epoch</th>\n",
       "      <th>accuracy</th>\n",
       "      <th>loss</th>\n",
       "      <th>val_accuracy</th>\n",
       "      <th>val_loss</th>\n",
       "    </tr>\n",
       "  </thead>\n",
       "  <tbody>\n",
       "    <tr>\n",
       "      <th>0</th>\n",
       "      <td>0</td>\n",
       "      <td>0.440631</td>\n",
       "      <td>1.262817</td>\n",
       "      <td>0.582133</td>\n",
       "      <td>1.061149</td>\n",
       "    </tr>\n",
       "    <tr>\n",
       "      <th>1</th>\n",
       "      <td>1</td>\n",
       "      <td>0.606975</td>\n",
       "      <td>0.945131</td>\n",
       "      <td>0.536023</td>\n",
       "      <td>1.055578</td>\n",
       "    </tr>\n",
       "    <tr>\n",
       "      <th>2</th>\n",
       "      <td>2</td>\n",
       "      <td>0.681428</td>\n",
       "      <td>0.790274</td>\n",
       "      <td>0.616715</td>\n",
       "      <td>0.989612</td>\n",
       "    </tr>\n",
       "    <tr>\n",
       "      <th>3</th>\n",
       "      <td>3</td>\n",
       "      <td>0.730695</td>\n",
       "      <td>0.674572</td>\n",
       "      <td>0.587896</td>\n",
       "      <td>1.061055</td>\n",
       "    </tr>\n",
       "    <tr>\n",
       "      <th>4</th>\n",
       "      <td>4</td>\n",
       "      <td>0.760864</td>\n",
       "      <td>0.612884</td>\n",
       "      <td>0.605187</td>\n",
       "      <td>1.032626</td>\n",
       "    </tr>\n",
       "    <tr>\n",
       "      <th>5</th>\n",
       "      <td>5</td>\n",
       "      <td>0.796845</td>\n",
       "      <td>0.521716</td>\n",
       "      <td>0.582133</td>\n",
       "      <td>1.087902</td>\n",
       "    </tr>\n",
       "    <tr>\n",
       "      <th>6</th>\n",
       "      <td>6</td>\n",
       "      <td>0.823969</td>\n",
       "      <td>0.475252</td>\n",
       "      <td>0.561960</td>\n",
       "      <td>1.300328</td>\n",
       "    </tr>\n",
       "    <tr>\n",
       "      <th>7</th>\n",
       "      <td>7</td>\n",
       "      <td>0.844727</td>\n",
       "      <td>0.425204</td>\n",
       "      <td>0.590778</td>\n",
       "      <td>1.280181</td>\n",
       "    </tr>\n",
       "    <tr>\n",
       "      <th>8</th>\n",
       "      <td>8</td>\n",
       "      <td>0.871298</td>\n",
       "      <td>0.358412</td>\n",
       "      <td>0.602305</td>\n",
       "      <td>1.238058</td>\n",
       "    </tr>\n",
       "    <tr>\n",
       "      <th>9</th>\n",
       "      <td>9</td>\n",
       "      <td>0.885414</td>\n",
       "      <td>0.311403</td>\n",
       "      <td>0.576369</td>\n",
       "      <td>1.558389</td>\n",
       "    </tr>\n",
       "    <tr>\n",
       "      <th>10</th>\n",
       "      <td>10</td>\n",
       "      <td>0.891226</td>\n",
       "      <td>0.297220</td>\n",
       "      <td>0.608069</td>\n",
       "      <td>1.322261</td>\n",
       "    </tr>\n",
       "    <tr>\n",
       "      <th>11</th>\n",
       "      <td>11</td>\n",
       "      <td>0.922779</td>\n",
       "      <td>0.231078</td>\n",
       "      <td>0.602305</td>\n",
       "      <td>1.464729</td>\n",
       "    </tr>\n",
       "    <tr>\n",
       "      <th>12</th>\n",
       "      <td>12</td>\n",
       "      <td>0.928314</td>\n",
       "      <td>0.211958</td>\n",
       "      <td>0.596542</td>\n",
       "      <td>1.538402</td>\n",
       "    </tr>\n",
       "    <tr>\n",
       "      <th>13</th>\n",
       "      <td>13</td>\n",
       "      <td>0.934957</td>\n",
       "      <td>0.196652</td>\n",
       "      <td>0.590778</td>\n",
       "      <td>1.639394</td>\n",
       "    </tr>\n",
       "    <tr>\n",
       "      <th>14</th>\n",
       "      <td>14</td>\n",
       "      <td>0.934957</td>\n",
       "      <td>0.194552</td>\n",
       "      <td>0.570605</td>\n",
       "      <td>1.793534</td>\n",
       "    </tr>\n",
       "    <tr>\n",
       "      <th>15</th>\n",
       "      <td>15</td>\n",
       "      <td>0.934957</td>\n",
       "      <td>0.187860</td>\n",
       "      <td>0.599424</td>\n",
       "      <td>1.784944</td>\n",
       "    </tr>\n",
       "    <tr>\n",
       "      <th>16</th>\n",
       "      <td>16</td>\n",
       "      <td>0.947966</td>\n",
       "      <td>0.147209</td>\n",
       "      <td>0.570605</td>\n",
       "      <td>1.799515</td>\n",
       "    </tr>\n",
       "    <tr>\n",
       "      <th>17</th>\n",
       "      <td>17</td>\n",
       "      <td>0.954055</td>\n",
       "      <td>0.135408</td>\n",
       "      <td>0.599424</td>\n",
       "      <td>1.904298</td>\n",
       "    </tr>\n",
       "    <tr>\n",
       "      <th>18</th>\n",
       "      <td>18</td>\n",
       "      <td>0.957099</td>\n",
       "      <td>0.135479</td>\n",
       "      <td>0.585014</td>\n",
       "      <td>1.833130</td>\n",
       "    </tr>\n",
       "    <tr>\n",
       "      <th>19</th>\n",
       "      <td>19</td>\n",
       "      <td>0.967063</td>\n",
       "      <td>0.102682</td>\n",
       "      <td>0.564842</td>\n",
       "      <td>2.077253</td>\n",
       "    </tr>\n",
       "    <tr>\n",
       "      <th>20</th>\n",
       "      <td>20</td>\n",
       "      <td>0.966233</td>\n",
       "      <td>0.099909</td>\n",
       "      <td>0.610951</td>\n",
       "      <td>2.127500</td>\n",
       "    </tr>\n",
       "    <tr>\n",
       "      <th>21</th>\n",
       "      <td>21</td>\n",
       "      <td>0.964019</td>\n",
       "      <td>0.115669</td>\n",
       "      <td>0.602305</td>\n",
       "      <td>2.083407</td>\n",
       "    </tr>\n",
       "    <tr>\n",
       "      <th>22</th>\n",
       "      <td>22</td>\n",
       "      <td>0.972045</td>\n",
       "      <td>0.088091</td>\n",
       "      <td>0.573487</td>\n",
       "      <td>2.064517</td>\n",
       "    </tr>\n",
       "    <tr>\n",
       "      <th>23</th>\n",
       "      <td>23</td>\n",
       "      <td>0.971769</td>\n",
       "      <td>0.082855</td>\n",
       "      <td>0.587896</td>\n",
       "      <td>2.193829</td>\n",
       "    </tr>\n",
       "    <tr>\n",
       "      <th>24</th>\n",
       "      <td>24</td>\n",
       "      <td>0.962635</td>\n",
       "      <td>0.109099</td>\n",
       "      <td>0.567723</td>\n",
       "      <td>2.335968</td>\n",
       "    </tr>\n",
       "  </tbody>\n",
       "</table>\n",
       "</div>"
      ],
      "text/plain": [
       "    epoch  accuracy      loss  val_accuracy  val_loss\n",
       "0       0  0.440631  1.262817      0.582133  1.061149\n",
       "1       1  0.606975  0.945131      0.536023  1.055578\n",
       "2       2  0.681428  0.790274      0.616715  0.989612\n",
       "3       3  0.730695  0.674572      0.587896  1.061055\n",
       "4       4  0.760864  0.612884      0.605187  1.032626\n",
       "5       5  0.796845  0.521716      0.582133  1.087902\n",
       "6       6  0.823969  0.475252      0.561960  1.300328\n",
       "7       7  0.844727  0.425204      0.590778  1.280181\n",
       "8       8  0.871298  0.358412      0.602305  1.238058\n",
       "9       9  0.885414  0.311403      0.576369  1.558389\n",
       "10     10  0.891226  0.297220      0.608069  1.322261\n",
       "11     11  0.922779  0.231078      0.602305  1.464729\n",
       "12     12  0.928314  0.211958      0.596542  1.538402\n",
       "13     13  0.934957  0.196652      0.590778  1.639394\n",
       "14     14  0.934957  0.194552      0.570605  1.793534\n",
       "15     15  0.934957  0.187860      0.599424  1.784944\n",
       "16     16  0.947966  0.147209      0.570605  1.799515\n",
       "17     17  0.954055  0.135408      0.599424  1.904298\n",
       "18     18  0.957099  0.135479      0.585014  1.833130\n",
       "19     19  0.967063  0.102682      0.564842  2.077253\n",
       "20     20  0.966233  0.099909      0.610951  2.127500\n",
       "21     21  0.964019  0.115669      0.602305  2.083407\n",
       "22     22  0.972045  0.088091      0.573487  2.064517\n",
       "23     23  0.971769  0.082855      0.587896  2.193829\n",
       "24     24  0.962635  0.109099      0.567723  2.335968"
      ]
     },
     "execution_count": 103,
     "metadata": {},
     "output_type": "execute_result"
    }
   ],
   "source": [
    "#Let's take a look at the training log\n",
    "training_log = pd.DataFrame()\n",
    "training_log = pd.read_csv(\"logs/training_log_2.csv\")\n",
    "training_log"
   ]
  },
  {
   "cell_type": "code",
   "execution_count": 104,
   "metadata": {
    "id": "rmx8lAssTBbE",
    "outputId": "38156a8c-4573-4dd0-83bc-63534dd9653f"
   },
   "outputs": [
    {
     "name": "stdout",
     "output_type": "stream",
     "text": [
      "              precision    recall  f1-score   support\n",
      "\n",
      "       anger       0.47      0.69      0.56        84\n",
      "        fear       0.67      0.61      0.64       110\n",
      "         joy       0.63      0.53      0.58        79\n",
      "     sadness       0.54      0.41      0.46        74\n",
      "\n",
      "    accuracy                           0.57       347\n",
      "   macro avg       0.58      0.56      0.56       347\n",
      "weighted avg       0.58      0.57      0.57       347\n",
      "\n"
     ]
    }
   ],
   "source": [
    "print(classification_report(y_true=label_decode(label_encoder, y_test_llama), y_pred=pred_result))"
   ]
  },
  {
   "cell_type": "code",
   "execution_count": 105,
   "metadata": {
    "id": "02vAoz__TBbE",
    "outputId": "568481e0-37a5-4a9d-eb6f-b989e5bd2aed"
   },
   "outputs": [
    {
     "data": {
      "image/png": "[encoded data removed]",
      "text/plain": [
       "<Figure size 500x500 with 2 Axes>"
      ]
     },
     "metadata": {},
     "output_type": "display_data"
    }
   ],
   "source": [
    "## check by confusion matrix\n",
    "from sklearn.metrics import confusion_matrix\n",
    "\n",
    "cm3 = confusion_matrix(y_true=label_decode(label_encoder, y_test_llama), y_pred=pred_result)\n",
    "my_tags = ['anger', 'fear', 'joy', 'sadness']\n",
    "plot_confusion_matrix(cm3, classes=my_tags, title='Confusion matrix for classification with \\nLLM Embeddings - Neural Network')"
   ]
  },
  {
   "cell_type": "markdown",
   "metadata": {
    "id": "kORR2dOiTBbE"
   },
   "source": [
    "### ** >>> Exercise 12 (Take home): **\n",
    "\n",
    "Follow Exercise 6 again and Plot the Training and Validation Accuracy and Loss for the results of this Neural Network. Compare the results of both KNN and the NN we just implemented. Discuss about why we obtained these results with the LLM Embeddings compared to the results of the other models implemented in this Lab."
   ]
  },
  {
   "cell_type": "code",
   "execution_count": 110,
   "metadata": {
    "id": "HRvVIHXdTBbE"
   },
   "outputs": [
    {
     "data": {
      "image/png": "[encoded data removed]",
      "text/plain": [
       "<Figure size 1000x500 with 1 Axes>"
      ]
     },
     "metadata": {},
     "output_type": "display_data"
    },
    {
     "data": {
      "image/png": "[encoded data removed]",
      "text/plain": [
       "<Figure size 1000x500 with 1 Axes>"
      ]
     },
     "metadata": {},
     "output_type": "display_data"
    },
    {
     "data": {
      "text/plain": [
       "\"Previously in Exercise 6, we achieved a testing accuracy of 0.69. However, this time, after including the embedding vectors,\\nthe accuracy decreased to KNN: 48% and NN: 57%. This is a sign that the models we constructed did not capture the information\\nfrom the Llama model effectively and caused some overfitting problems. We should consider trying other techniques to help \\nthe models fit better, such as regularizations, CNNs, dropout, etc.\\n\\nCompared to KNN, the NN outperforms the KNN model in terms of accuracy. \\nThis indicates that the NN's deeper architecture captures more relationships in the data, \\nwhereas KNN struggles to generalize well.\""
      ]
     },
     "execution_count": 110,
     "metadata": {},
     "output_type": "execute_result"
    }
   ],
   "source": [
    "# Answer here\n",
    "plt.figure(figsize=(10, 5))\n",
    "plt.plot(training_log['epoch'], training_log['accuracy'], label='Training Accuracy')\n",
    "plt.plot(training_log['epoch'], training_log['val_accuracy'], label='Validation Accuracy')\n",
    "plt.title('Training and Validation Accuracy')\n",
    "plt.xlabel('Epochs')\n",
    "plt.ylabel('Accuracy')\n",
    "plt.legend()\n",
    "plt.grid()\n",
    "plt.show()\n",
    "\n",
    "# Plot Training and Validation Loss\n",
    "plt.figure(figsize=(10, 5))\n",
    "plt.plot(training_log['epoch'], training_log['loss'], label='Training Loss')\n",
    "plt.plot(training_log['epoch'], training_log['val_loss'], label='Validation Loss')\n",
    "plt.title('Training and Validation Loss')\n",
    "plt.xlabel('Epochs')\n",
    "plt.ylabel('Loss')\n",
    "plt.legend()\n",
    "plt.grid()\n",
    "plt.show()\n",
    "\n",
    "\"\"\"Previously in Exercise 6, we achieved a testing accuracy of 0.69. However, this time, after including the embedding vectors,\n",
    "the accuracy decreased to KNN: 48% and NN: 57%. This is a sign that the models we constructed did not capture the information\n",
    "from the Llama model effectively and caused some overfitting problems. We should consider trying other techniques to help \n",
    "the models fit better, such as regularizations, CNNs, dropout, etc.\n",
    "\n",
    "Compared to KNN, the NN outperforms the KNN model in terms of accuracy. \n",
    "This indicates that the NN's deeper architecture captures more relationships in the data, \n",
    "whereas KNN struggles to generalize well.\"\"\""
   ]
  },
  {
   "cell_type": "markdown",
   "metadata": {
    "id": "XIsAVGcGTBbE"
   },
   "source": [
    "### 10.5 Few-Shot Prompting Classification:\n",
    "Few-shot prompting classification for LLMs involves giving the model a few labeled examples (typically 5 or fewer) within a prompt to guide it in performing a classification task. Instead of needing extensive training, the LLM uses these examples to understand the task and classify new inputs. This approach is significant in current research because it allows LLMs to perform well on tasks with minimal labeled data, reducing the need for large training datasets and making it highly flexible for various NLP tasks, including those in low-resource languages or niche domains.\n",
    "\n",
    "In this lab exercise, we will explore zero-shot, 1-shot, and 5-shot prompting for classification using an LLM:\n",
    "\n",
    "- Zero-shot means the model performs classification without seeing any examples beforehand.\n",
    "- 1-shot provides the model with just one labeled example per class to guide its classification.\n",
    "- 5-shot gives the model five labeled examples per class to improve its understanding of the task.\n",
    "\n",
    "Since processing large datasets can be computationally demanding, we will only sample 20 test texts per emotion for the classification task, allowing us to test the model's performance more efficiently without using the entire test set.\n",
    "\n",
    "**Process order: Explanation Prompt -> Examples + labels (if it is not zero-shot) -> Text to classify**\n",
    "\n",
    "**Recommendation for the explanation prompt:** Explain to the model that it is a classification model of certain labels, and to only output the label word, and no other explanation. In this case if the model does not follow the instructions we are retrying the same text until it outputs one of the accepted labels for it."
   ]
  },
  {
   "cell_type": "code",
   "execution_count": 111,
   "metadata": {
    "id": "G5qBK4C1TBbE"
   },
   "outputs": [],
   "source": [
    "import ollama\n",
    "import random\n",
    "import pandas as pd\n",
    "import matplotlib.pyplot as plt\n",
    "import seaborn as sns\n",
    "from sklearn.metrics import accuracy_score, confusion_matrix\n",
    "\n",
    "# Define the emotion labels\n",
    "emotions = ['anger', 'fear', 'joy', 'sadness']\n",
    "# Define the model to use for few-shot prompting\n",
    "model_ollama = \"llama3.2:1b\"\n",
    "\n",
    "# Function to sample examples per emotion category\n",
    "def sample_few_shots(df, emotions, num_samples=5):\n",
    "    few_shot_examples = {}\n",
    "    for emotion in emotions:\n",
    "        few_shot_examples[emotion] = df[df['emotion'] == emotion].sample(n=num_samples, random_state=42)\n",
    "    return few_shot_examples\n",
    "\n",
    "# Function to build the prompt based on the number of examples (few-shot, 1-shot, zero-shot)\n",
    "def build_prompt(examples, emotions, num_shots=5):\n",
    "    classification_instructions = \"\"\"\n",
    "You are an emotion classification model. You will be given a text from social media and your task is to classify the text into one of the following emotion categories: anger, fear, joy, or sadness.\n",
    "You must only output one of these four labels. Do not provide any additional information or explanation. Just output the emotion label as one word.\n",
    "    \"\"\"\n",
    "\n",
    "    prompt = classification_instructions + \"\\n\\n\"\n",
    "\n",
    "    if num_shots > 0:\n",
    "        prompt += f\"Examples: \\n\"\n",
    "        for emotion in emotions:\n",
    "            for _, row in examples[emotion].iterrows():\n",
    "                prompt += f\"Text: {row['text']}\\nEmotion: {emotion}\\n\\n\" #Show the examples in the same format it will be shown for the classification text\n",
    "                if num_shots == 1:  # If 1-shot, break after the first example for each emotion\n",
    "                    break\n",
    "    return prompt\n",
    "\n",
    "# Function to classify using the LLM with retry for incorrect responses\n",
    "def classify_with_llm(test_text, prompt_base):\n",
    "    valid_emotions = ['anger', 'fear', 'joy', 'sadness']\n",
    "    response = None\n",
    "    while not response or response not in valid_emotions:\n",
    "        full_prompt = f\"{prompt_base}\\nClassification:\\nText: {test_text}\\nEmotion: \" #The classification text will leave the emotion label to be filled in by the LLM\n",
    "        result = ollama.chat(model=model_ollama, messages=[\n",
    "            {'role': 'user', 'content': full_prompt}\n",
    "        ])\n",
    "        response = result['message']['content'].strip().lower()  # Clean and standardize the response\n",
    "        if response not in valid_emotions:  # Retry if not a valid response\n",
    "            print(f\"Invalid response: {response}. Asking for reclassification.\")\n",
    "    return response\n",
    "\n",
    "# Main function to run the experiment with the option for zero-shot, 1-shot, or 5-shot prompting\n",
    "def run_experiment(df_train, df_test, test_samples=5, num_shots=5):\n",
    "    # Sample examples for few-shot prompting based on num_shots\n",
    "    if num_shots > 0:\n",
    "        few_shot_examples = sample_few_shots(df_train, emotions, num_samples=num_shots)\n",
    "        prompt_base = build_prompt(few_shot_examples, emotions, num_shots=num_shots)\n",
    "    else:\n",
    "        prompt_base = build_prompt(None, emotions, num_shots=0)  # Zero-shot has no examples\n",
    "\n",
    "    # Prepare to classify the test set\n",
    "    predictions = []\n",
    "    true_labels = []\n",
    "    print(prompt_base)\n",
    "    # Sample 20 examples per emotion for the test set to classify\n",
    "    test_samples = sample_few_shots(df_test, emotions, num_samples=test_samples)\n",
    "\n",
    "    # Classify 20 test examples (5 from each category) and save predictions\n",
    "    for emotion in emotions:\n",
    "        for _, test_row in test_samples[emotion].iterrows():\n",
    "            test_text = test_row['text']\n",
    "            predicted_emotion = classify_with_llm(test_text, prompt_base)\n",
    "            predictions.append(predicted_emotion)\n",
    "            true_labels.append(emotion)\n",
    "\n",
    "    # Calculate accuracy\n",
    "    accuracy = accuracy_score(true_labels, predictions)\n",
    "    print(f\"Accuracy: {accuracy * 100:.2f}%\")\n",
    "\n",
    "    # Classification report\n",
    "    print(classification_report(y_true=true_labels, y_pred=predictions))\n",
    "\n",
    "    # Plot confusion matrix\n",
    "    cm = confusion_matrix(y_true=true_labels, y_pred=predictions)\n",
    "    my_tags = ['anger', 'fear', 'joy', 'sadness']\n",
    "    plot_confusion_matrix(cm, classes=my_tags, title=f'Confusion matrix for classification with \\n{num_shots}-shot prompting')"
   ]
  },
  {
   "cell_type": "code",
   "execution_count": 112,
   "metadata": {
    "id": "K7fzVy7yTBbE",
    "outputId": "2c1e9672-6483-413f-87c9-51424321cf61"
   },
   "outputs": [
    {
     "name": "stdout",
     "output_type": "stream",
     "text": [
      "\n",
      "You are an emotion classification model. You will be given a text from social media and your task is to classify the text into one of the following emotion categories: anger, fear, joy, or sadness.\n",
      "You must only output one of these four labels. Do not provide any additional information or explanation. Just output the emotion label as one word.\n",
      "    \n",
      "\n",
      "\n",
      "Invalid response: fury. Asking for reclassification.\n",
      "Invalid response: fury. Asking for reclassification.\n",
      "Invalid response: frightened. Asking for reclassification.\n",
      "Invalid response: fright. Asking for reclassification.\n",
      "Invalid response: frustration. Asking for reclassification.\n",
      "Invalid response: frustration. Asking for reclassification.\n",
      "Invalid response: sadness.. Asking for reclassification.\n",
      "Accuracy: 36.25%\n",
      "              precision    recall  f1-score   support\n",
      "\n",
      "       anger       0.27      0.35      0.30        20\n",
      "        fear       0.40      0.30      0.34        20\n",
      "         joy       0.67      0.20      0.31        20\n",
      "     sadness       0.36      0.60      0.45        20\n",
      "\n",
      "    accuracy                           0.36        80\n",
      "   macro avg       0.42      0.36      0.35        80\n",
      "weighted avg       0.42      0.36      0.35        80\n",
      "\n"
     ]
    },
    {
     "data": {
      "image/png": "[encoded data removed]",
      "text/plain": [
       "<Figure size 500x500 with 2 Axes>"
      ]
     },
     "metadata": {},
     "output_type": "display_data"
    }
   ],
   "source": [
    "# Example of running the experiment with zero-shot prompting\n",
    "run_experiment(df_train, df_test, test_samples=20, num_shots=0)"
   ]
  },
  {
   "cell_type": "code",
   "execution_count": 113,
   "metadata": {
    "id": "tKLMxNT-TBbE",
    "outputId": "a927588b-0fab-46e9-8796-73d518c8dc88"
   },
   "outputs": [
    {
     "name": "stdout",
     "output_type": "stream",
     "text": [
      "\n",
      "You are an emotion classification model. You will be given a text from social media and your task is to classify the text into one of the following emotion categories: anger, fear, joy, or sadness.\n",
      "You must only output one of these four labels. Do not provide any additional information or explanation. Just output the emotion label as one word.\n",
      "    \n",
      "\n",
      "Examples: \n",
      "Text: Did we miss the fact that #BurkeRamsey swung &amp;hit his sister #JonBenet in the face with a golf club previously out of a fit of #anger?\n",
      "Emotion: anger\n",
      "\n",
      "Text: @JackAndAHat butter up the walls, nightmare\n",
      "Emotion: fear\n",
      "\n",
      "Text: @TheMandyMoore You are beyond wonderful.  Your singing prowess is phenomenal but damn... I'm just elated to watch you act again. #ThisIsUs 🤗\n",
      "Emotion: joy\n",
      "\n",
      "Text: @RevTrevK @Wolfman93011 @Daraidernation @EROCKhd Take 2k out of it the numbers on madden are low and have dropped and people are unhappy\n",
      "Emotion: sadness\n",
      "\n",
      "\n",
      "Invalid response: inevitable. Asking for reclassification.\n",
      "Invalid response: relentless. Asking for reclassification.\n",
      "Invalid response: blown. Asking for reclassification.\n",
      "Invalid response: apprehension. Asking for reclassification.\n",
      "Invalid response: apprehension. Asking for reclassification.\n",
      "Invalid response: unhappiness. Asking for reclassification.\n",
      "Invalid response: unhappy. Asking for reclassification.\n",
      "Invalid response: unzu. Asking for reclassification.\n",
      "Invalid response: upkeep. Asking for reclassification.\n",
      "Invalid response: unhappy. Asking for reclassification.\n",
      "Invalid response: unhappy. Asking for reclassification.\n",
      "Invalid response: unhappy. Asking for reclassification.\n",
      "Invalid response: unhappy. Asking for reclassification.\n",
      "Invalid response: unhappy. Asking for reclassification.\n",
      "Invalid response: upgrading. Asking for reclassification.\n",
      "Invalid response: unhappy. Asking for reclassification.\n",
      "Invalid response: unhappy. Asking for reclassification.\n",
      "Invalid response: terrible. Asking for reclassification.\n",
      "Invalid response: terrible. Asking for reclassification.\n",
      "Invalid response: terrible. Asking for reclassification.\n",
      "Invalid response: terrible. Asking for reclassification.\n",
      "Invalid response: terrible. Asking for reclassification.\n",
      "Invalid response: terrible. Asking for reclassification.\n",
      "Invalid response: terrible. Asking for reclassification.\n",
      "Invalid response: angry. Asking for reclassification.\n",
      "Invalid response: success. Asking for reclassification.\n",
      "Invalid response: cheerful. Asking for reclassification.\n",
      "Invalid response: cheerful. Asking for reclassification.\n",
      "Invalid response: blessed. Asking for reclassification.\n",
      "Invalid response: bitter. Asking for reclassification.\n",
      "Invalid response: brimming. Asking for reclassification.\n",
      "Invalid response: bitter. Asking for reclassification.\n",
      "Invalid response: bitter. Asking for reclassification.\n",
      "Invalid response: bravery. Asking for reclassification.\n",
      "Invalid response: smile. Asking for reclassification.\n",
      "Invalid response: cheerful. Asking for reclassification.\n",
      "Invalid response: bitter. Asking for reclassification.\n",
      "Invalid response: cheerful. Asking for reclassification.\n",
      "Invalid response: bitter. Asking for reclassification.\n",
      "Invalid response: broke. Asking for reclassification.\n",
      "Invalid response: bitter. Asking for reclassification.\n",
      "Invalid response: bitter. Asking for reclassification.\n",
      "Invalid response: bitter. Asking for reclassification.\n",
      "Invalid response: cheerful. Asking for reclassification.\n",
      "Invalid response: cheerful. Asking for reclassification.\n",
      "Invalid response: blessed. Asking for reclassification.\n",
      "Invalid response: bravery. Asking for reclassification.\n",
      "Invalid response: cheerful. Asking for reclassification.\n",
      "Invalid response: angry. Asking for reclassification.\n",
      "Invalid response: angry. Asking for reclassification.\n",
      "Invalid response: bravery. Asking for reclassification.\n",
      "Invalid response: burning. Asking for reclassification.\n",
      "Invalid response: bitterness. Asking for reclassification.\n",
      "Invalid response: blessed. Asking for reclassification.\n",
      "Invalid response: cheerful. Asking for reclassification.\n",
      "Invalid response: bitter. Asking for reclassification.\n",
      "Invalid response: cheerful. Asking for reclassification.\n",
      "Invalid response: bitter. Asking for reclassification.\n",
      "Invalid response: bitter. Asking for reclassification.\n",
      "Invalid response: bitter. Asking for reclassification.\n",
      "Invalid response: cheerful. Asking for reclassification.\n",
      "Invalid response: cheerful. Asking for reclassification.\n",
      "Invalid response: bitter. Asking for reclassification.\n",
      "Invalid response: bringing. Asking for reclassification.\n",
      "Invalid response: bitter. Asking for reclassification.\n",
      "Invalid response: bitter. Asking for reclassification.\n",
      "Invalid response: bitter. Asking for reclassification.\n",
      "Invalid response: cheerful. Asking for reclassification.\n",
      "Invalid response: cheerful. Asking for reclassification.\n",
      "Invalid response: bitter. Asking for reclassification.\n",
      "Invalid response: bravery. Asking for reclassification.\n",
      "Invalid response: bravery. Asking for reclassification.\n",
      "Invalid response: breezy. Asking for reclassification.\n",
      "Invalid response: bitter. Asking for reclassification.\n",
      "Invalid response: cheerful. Asking for reclassification.\n",
      "Invalid response: cheerful. Asking for reclassification.\n",
      "Invalid response: breathe. Asking for reclassification.\n",
      "Invalid response: bravery. Asking for reclassification.\n",
      "Invalid response: bravery. Asking for reclassification.\n",
      "Invalid response: bravery. Asking for reclassification.\n",
      "Invalid response: cheerful. Asking for reclassification.\n",
      "Invalid response: cheerful. Asking for reclassification.\n",
      "Invalid response: bitter. Asking for reclassification.\n",
      "Invalid response: angry. Asking for reclassification.\n",
      "Invalid response: burned. Asking for reclassification.\n",
      "Invalid response: bravery. Asking for reclassification.\n",
      "Invalid response: cheerful. Asking for reclassification.\n",
      "Invalid response: bravery. Asking for reclassification.\n",
      "Invalid response: cheerful. Asking for reclassification.\n",
      "Invalid response: bitter. Asking for reclassification.\n",
      "Invalid response: cheerful. Asking for reclassification.\n",
      "Invalid response: bravery. Asking for reclassification.\n",
      "Invalid response: bravery. Asking for reclassification.\n",
      "Invalid response: bringing. Asking for reclassification.\n",
      "Invalid response: bitter. Asking for reclassification.\n",
      "Invalid response: bitter. Asking for reclassification.\n",
      "Invalid response: none. Asking for reclassification.\n",
      "Invalid response: bitter. Asking for reclassification.\n",
      "Invalid response: bitter. Asking for reclassification.\n",
      "Invalid response: bitter. Asking for reclassification.\n",
      "Invalid response: bitter. Asking for reclassification.\n",
      "Invalid response: cheerful. Asking for reclassification.\n",
      "Invalid response: cheerful. Asking for reclassification.\n",
      "Invalid response: despair. Asking for reclassification.\n",
      "Invalid response: amateur. Asking for reclassification.\n",
      "Invalid response: unhappy. Asking for reclassification.\n",
      "Accuracy: 35.00%\n",
      "              precision    recall  f1-score   support\n",
      "\n",
      "       anger       0.40      0.50      0.44        20\n",
      "        fear       0.50      0.05      0.09        20\n",
      "         joy       0.50      0.10      0.17        20\n",
      "     sadness       0.31      0.75      0.43        20\n",
      "\n",
      "    accuracy                           0.35        80\n",
      "   macro avg       0.43      0.35      0.28        80\n",
      "weighted avg       0.43      0.35      0.28        80\n",
      "\n"
     ]
    },
    {
     "data": {
      "image/png": "[encoded data removed]",
      "text/plain": [
       "<Figure size 500x500 with 2 Axes>"
      ]
     },
     "metadata": {},
     "output_type": "display_data"
    }
   ],
   "source": [
    "# Example of running the experiment with 1-shot prompting\n",
    "run_experiment(df_train, df_test, test_samples=20, num_shots=1)"
   ]
  },
  {
   "cell_type": "code",
   "execution_count": null,
   "metadata": {
    "id": "2krIBmWsTBbE",
    "outputId": "86946399-aa7a-4853-cff3-7bb962a79254"
   },
   "outputs": [
    {
     "name": "stdout",
     "output_type": "stream",
     "text": [
      "\n",
      "You are an emotion classification model. You will be given a text from social media and your task is to classify the text into one of the following emotion categories: anger, fear, joy, or sadness.\n",
      "You must only output one of these four labels. Do not provide any additional information or explanation. Just output the emotion label as one word.\n",
      "    \n",
      "\n",
      "Examples: \n",
      "Text: Candace &amp; her pout are getting right on my tits #GBBO\n",
      "Emotion: anger\n",
      "\n",
      "Text: @josephperson Cam is still rattled from the backlash he received when he made the black QB comment and suffered the wrath of White America.\n",
      "Emotion: anger\n",
      "\n",
      "Text: When someone rudely says all women should have long hair and your inner feminist tries not to rage\n",
      "Emotion: anger\n",
      "\n",
      "Text: SOMEONE LET SNAKES IN MY HOUSE, I BET IT @Ya_Boi_Huck I KILL THAT BUGGER WHEN I GET MY HANDS ON HIM #rage #HuckFP2\n",
      "Emotion: anger\n",
      "\n",
      "Text: Who got madden 17 or 2k17 ps4 add TrackdawgT lets run it\n",
      "Emotion: anger\n",
      "\n",
      "Text: okay i AHVE to start mob psycho 100 today. if i dont im going to fight myself\n",
      "Emotion: fear\n",
      "\n",
      "Text: Check out @VovimPrgel - From Scotland #gamer #YouTuber #vlogger #designer #animator #artist. TY for following The Wake  #horrorfilm\n",
      "Emotion: fear\n",
      "\n",
      "Text: The 'banter' from Craigen and Sutton on BT is fucking horrid\n",
      "Emotion: fear\n",
      "\n",
      "Text: Good Morning!!!\\n\\n #leadership #healthcareIT #socialmedia #connector #ceo #writer #AI #EQ #security #bigdata #Growthhacking #tech \n",
      "Emotion: fear\n",
      "\n",
      "Text: #beyond naming &amp; shaming ; lies a vast space b/w #sanctions &amp; #terror state...v *wait til Others #impose it...&amp; do not hv COURAGE #ourselves\n",
      "Emotion: fear\n",
      "\n",
      "Text: @BbeautifulSoul_ u always gotta attitude tho ... 😕 cheer up\n",
      "Emotion: joy\n",
      "\n",
      "Text: @FOXTV did you use the warblers set from glee on the @BONESonFOX episode about the acapella college kids?\n",
      "Emotion: joy\n",
      "\n",
      "Text: @ardit_haliti I'm so gutted. I loved her cheery disposition.\n",
      "Emotion: joy\n",
      "\n",
      "Text: Probably the best OT period I've ever seen. Absolutely exhilarating. #WCH2016 #TeamNA\n",
      "Emotion: joy\n",
      "\n",
      "Text: I found #marmite in Australia. `:) #happy\n",
      "Emotion: joy\n",
      "\n",
      "Text: @happyandbashful Flirt, simper, pout, repeat. Yuck.\n",
      "Emotion: sadness\n",
      "\n",
      "Text: I get discouraged because I try for 5 fucking years a contact with Lady Gaga but are thousands of tweets, how she would see my tweet? :(\n",
      "Emotion: sadness\n",
      "\n",
      "Text: The word happiness would lose its meaning if it were not balanced by sadness.\n",
      "Emotion: sadness\n",
      "\n",
      "Text: @Fra93_bruno wow I'm just really sadden by that. Terrible\n",
      "Emotion: sadness\n",
      "\n",
      "Text: When health insurance won't cover TMS but they let me know they cover ECT #mentalhealth #psychology  #TMS #ECT\n",
      "Emotion: sadness\n",
      "\n",
      "\n",
      "Accuracy: 51.25%\n",
      "              precision    recall  f1-score   support\n",
      "\n",
      "       anger       0.47      0.85      0.61        20\n",
      "        fear       0.80      0.20      0.32        20\n",
      "         joy       0.50      0.65      0.57        20\n",
      "     sadness       0.54      0.35      0.42        20\n",
      "\n",
      "    accuracy                           0.51        80\n",
      "   macro avg       0.58      0.51      0.48        80\n",
      "weighted avg       0.58      0.51      0.48        80\n",
      "\n"
     ]
    },
    {
     "data": {
      "image/png": "[encoded data removed]",
      "text/plain": [
       "<Figure size 500x500 with 2 Axes>"
      ]
     },
     "metadata": {},
     "output_type": "display_data"
    }
   ],
   "source": [
    "# Example of running the experiment with 5-shot prompting\n",
    "run_experiment(df_train, df_test, test_samples=20, num_shots=5)"
   ]
  },
  {
   "cell_type": "markdown",
   "metadata": {
    "id": "KIOzsIeJTBbE"
   },
   "source": [
    "### ** >>> Exercise 13 (Take home): **\n",
    "\n",
    "Compare and discuss the results of the zero-shot, 1-shot and 5-shot classification."
   ]
  },
  {
   "cell_type": "code",
   "execution_count": null,
   "metadata": {
    "id": "pdYB4AVUTBbE"
   },
   "outputs": [],
   "source": [
    "# Answer here\n",
    "'''The zero-shot test achieved 36.25% accuracy, which is significantly lower than the accuracy achieved with the KNN (48%) and NN (57%) using Llama embeddings.'''\n",
    "'''The accuracy achieved with one-shot prompting is 35.00%, which is slightly worse than zero-shot (36.25% in the previous test). This suggests that providing one example per category did not improve the model's ability to generalize.'''\n",
    "'''After 5 examples provided, the model achieved 51.25% accuracy, it appears to have guided the model better in aligning its outputs with the predefined emotion categories.'''"
   ]
  },
  {
   "cell_type": "markdown",
   "metadata": {
    "id": "9gRHk9LlTBbE"
   },
   "source": [
    "### 10.6 Extra LLM Materials:\n",
    "So this will be it for the lab, but here are some extra materials if you would like to explore:\n",
    "- How to use Gemini's LLM API from Google: [Gemini Collab](https://colab.research.google.com/github/google/generative-ai-docs/blob/main/site/en/gemini-api/docs/get-started/python.ipynb?fbclid=IwZXh0bgNhZW0CMTEAAR0-gg7cDIuaGfkeN5U3rusSNKj2jj7bIsL45sZWaM0NbTE7BSNtfzBeEGE_aem_yT5wAuL_G5E21iuuCYJXwA#scrollTo=hskqSKnJUHvp) (Free with some restrictions to the requests per minute.\n",
    "\n",
    "- How to use OpenAI ChatGPT model's API (Not Free API): [Basics Video](https://www.youtube.com/watch?v=e9P7FLi5Zy8), [Basics GitHub](https://github.com/gkamradt/langchain-tutorials/blob/main/chatapi/ChatAPI%20%2B%20LangChain%20Basics.ipynb), [RAG's Basics Video](https://www.youtube.com/watch?v=9AXP7tCI9PI&t=300s), [RAG's Basics GitHub](https://github.com/techleadhd/chatgpt-retrieval)\n",
    "\n",
    "- **Advanced topic - QLoRA (Quantized Low-Rank Adapter):** QLoRA is a method used to make fine-tuning large language models more efficient. It works by adding a small, trainable part (LoRA) to a pre-trained model, while keeping the rest of the model frozen. At the same time, it reduces the size of the model’s data using a process called quantization, which makes the model require less memory. This allows you to fine-tune large models without needing as much computational power, making it easier to adapt models for specific tasks. Materials: [Paper GitHub](https://github.com/artidoro/qlora?tab=readme-ov-file), [Llama 3 Application Video](https://www.youtube.com/watch?v=YJNbgusTSF0&t=512s),[Llama 3 Application GitHub](https://github.com/adidror005/youtube-videos/blob/main/LLAMA_3_Fine_Tuning_for_Sequence_Classification_Actual_Video.ipynb)"
   ]
  },
  {
   "cell_type": "markdown",
   "metadata": {
    "id": "_fF1woa8YTp5"
   },
   "source": [
    "---"
   ]
  }
 ],
 "metadata": {
  "colab": {
   "collapsed_sections": [
    "4e5eiVLOYTp5"
   ],
   "provenance": []
  },
  "kernelspec": {
   "display_name": "base",
   "language": "python",
   "name": "python3"
  },
  "language_info": {
   "codemirror_mode": {
    "name": "ipython",
    "version": 3
   },
   "file_extension": ".py",
   "mimetype": "text/x-python",
   "name": "python",
   "nbconvert_exporter": "python",
   "pygments_lexer": "ipython3",
   "version": "3.8.20"
  },
  "varInspector": {
   "cols": {
    "lenName": 16,
    "lenType": 16,
    "lenVar": 40
   },
   "kernels_config": {
    "python": {
     "delete_cmd_postfix": "",
     "delete_cmd_prefix": "del ",
     "library": "var_list.py",
     "varRefreshCmd": "print(var_dic_list())"
    },
    "r": {
     "delete_cmd_postfix": ") ",
     "delete_cmd_prefix": "rm(",
     "library": "var_list.r",
     "varRefreshCmd": "cat(var_dic_list()) "
    }
   },
   "oldHeight": 594.85,
   "position": {
    "height": "40px",
    "left": "723px",
    "right": "20px",
    "top": "80px",
    "width": "250px"
   },
   "types_to_exclude": [
    "module",
    "function",
    "builtin_function_or_method",
    "instance",
    "_Feature"
   ],
   "varInspector_section_display": "none",
   "window_display": true
  }
 },
 "nbformat": 4,
 "nbformat_minor": 0
}
